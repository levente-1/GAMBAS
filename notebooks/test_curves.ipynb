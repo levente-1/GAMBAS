{
 "cells": [
  {
   "cell_type": "markdown",
   "metadata": {},
   "source": [
    "### Context-based space filling curve (as per ChatGPT)"
   ]
  },
  {
   "cell_type": "code",
   "execution_count": 43,
   "metadata": {},
   "outputs": [],
   "source": [
    "import numpy as np\n",
    "import cv2\n",
    "import networkx as nx\n",
    "import matplotlib.pyplot as plt\n",
    "\n",
    "def load_image(image_path, grayscale=True):\n",
    "    \"\"\"Load an image as a grid of pixel intensities.\"\"\"\n",
    "    img = cv2.imread(image_path, cv2.IMREAD_GRAYSCALE if grayscale else cv2.IMREAD_COLOR)\n",
    "    return img\n",
    "\n",
    "def construct_dual_graph(image):\n",
    "    \"\"\"Construct a dual graph with neighbors connected by pixel intensity differences.\"\"\"\n",
    "    rows, cols = image.shape\n",
    "    G = nx.Graph()\n",
    "    \n",
    "    for r in range(rows):\n",
    "        for c in range(cols):\n",
    "            if c < cols - 1:  # Right neighbor\n",
    "                G.add_edge((r, c), (r, c + 1), weight=abs(int(image[r, c]) - int(image[r, c + 1])))\n",
    "            if r < rows - 1:  # Bottom neighbor\n",
    "                G.add_edge((r, c), (r + 1, c), weight=abs(int(image[r, c]) - int(image[r + 1, c])))\n",
    "    return G\n",
    "\n",
    "def compute_minimum_spanning_tree(graph):\n",
    "    \"\"\"Compute the Minimum Spanning Tree (MST) of a graph using Prim's algorithm.\"\"\"\n",
    "    mst = nx.minimum_spanning_tree(graph, algorithm='prim')\n",
    "    return mst\n",
    "\n",
    "def visualize_graph(mst, image_shape):\n",
    "    \"\"\"Visualize the MST for debugging purposes.\"\"\"\n",
    "    pos = {node: (node[1], -node[0]) for node in mst.nodes()}\n",
    "    nx.draw(mst, pos, with_labels=True, node_size=30, font_size=8, font_color='red', edge_color='blue')\n",
    "    plt.title(\"MST Visualization\")\n",
    "    plt.show()\n",
    "\n",
    "def manhattan_traversal(mst, start_node=(0, 0)):\n",
    "    \"\"\"Traverse MST using strict Manhattan movement with 90-degree turns.\"\"\"\n",
    "    visited = set()\n",
    "    path = []\n",
    "    \n",
    "    # Start with the first node\n",
    "    current_node = start_node\n",
    "    path.append(current_node)\n",
    "    visited.add(current_node)\n",
    "\n",
    "    # Traverse MST following edges\n",
    "    while len(visited) < len(mst.nodes):  # Ensure all nodes are visited\n",
    "        # Get all unvisited neighbors of the current node\n",
    "        possible_neighbors = [n for n in mst.neighbors(current_node) if n not in visited]\n",
    "        \n",
    "        if not possible_neighbors:\n",
    "            break  # No more unvisited neighbors to explore\n",
    "        \n",
    "        # Pick the first unvisited neighbor\n",
    "        best_neighbor = possible_neighbors[0]  \n",
    "        \n",
    "        # Add the neighbor to the path\n",
    "        current_node = best_neighbor\n",
    "        path.append(current_node)\n",
    "        visited.add(current_node)\n",
    "    \n",
    "    return path\n",
    "\n",
    "def plot_path(image, path):\n",
    "    \"\"\"Plot the image with a Manhattan traversal path.\"\"\"\n",
    "    plt.imshow(image, cmap='gray')\n",
    "    x, y = zip(*path)\n",
    "    plt.plot(y, x, color='red', linewidth=1)\n",
    "    plt.title(\"Manhattan Space-Filling Curve\")\n",
    "    plt.axis(\"off\")\n",
    "    plt.show()\n",
    "\n"
   ]
  },
  {
   "cell_type": "code",
   "execution_count": null,
   "metadata": {},
   "outputs": [],
   "source": [
    "# Example usage\n",
    "image_path = '/Users/levi/Downloads/Levi.jpg'  # Replace with your image path\n",
    "image = load_image(image_path)\n",
    "\n",
    "large_img = image\n",
    "small_to_large_image_size_ratio = 0.1\n",
    "small_img = cv2.resize(large_img, # original image\n",
    "                       (0,0), # set fx and fy, not the final size\n",
    "                       fx=small_to_large_image_size_ratio, \n",
    "                       fy=small_to_large_image_size_ratio, \n",
    "                       interpolation=cv2.INTER_NEAREST)\n",
    "\n",
    "# plt.imshow(small_img, cmap='gray')\n",
    "\n",
    "dual_graph = construct_dual_graph(small_img)\n",
    "\n",
    "# Compute the MST and visualize it\n",
    "mst = compute_minimum_spanning_tree(dual_graph)\n",
    "visualize_graph(mst, image.shape)\n",
    "\n",
    "# Perform the Manhattan traversal and plot the result\n",
    "path = manhattan_traversal(mst)\n",
    "plot_path(small_img, path)\n"
   ]
  },
  {
   "cell_type": "code",
   "execution_count": 44,
   "metadata": {},
   "outputs": [],
   "source": [
    "import torch\n",
    "import numpy as np\n",
    "\n",
    "def generate_spiral_indices(H, W):\n",
    "    # Create an empty list to store the indices in spiral order\n",
    "    indices = []\n",
    "    \n",
    "    left, right, top, bottom = 0, W - 1, 0, H - 1\n",
    "\n",
    "    while left <= right and top <= bottom:\n",
    "        # Traverse from left to right\n",
    "        for i in range(left, right + 1):\n",
    "            indices.append(top * W + i)\n",
    "        top += 1\n",
    "\n",
    "        # Traverse downwards\n",
    "        for i in range(top, bottom + 1):\n",
    "            indices.append(i * W + right)\n",
    "        right -= 1\n",
    "\n",
    "        if top <= bottom:\n",
    "            # Traverse from right to left\n",
    "            for i in range(right, left - 1, -1):\n",
    "                indices.append(bottom * W + i)\n",
    "            bottom -= 1\n",
    "\n",
    "        if left <= right:\n",
    "            # Traverse upwards\n",
    "            for i in range(bottom, top - 1, -1):\n",
    "                indices.append(i * W + left)\n",
    "            left += 1\n",
    "\n",
    "    return torch.tensor(indices, dtype=torch.long)\n",
    "\n",
    "# Example usage\n",
    "H, W = 64, 64\n",
    "spiral_indices = generate_spiral_indices(H, W)\n",
    "column_vector = np.arange(64*64)\n",
    "\n",
    "matrix = np.zeros((64*64, 64*64), dtype=int)\n",
    "\n",
    "matrix[column_vector, spiral_indices] = 1\n",
    "\n",
    "# np.save('spiral_eye.npy', matrix)\n",
    "# np.save('despiral_eye.npy', np.transpose(matrix))\n",
    "\n",
    "# spiral_indices_r = spiral_indices.flip(0)\n",
    "# matrix = np.zeros((64*64, 64*64), dtype=int)\n",
    "\n",
    "# matrix[column_vector, spiral_indices_r] = 1\n",
    "\n",
    "# np.save('despiral_r_eye.npy', np.transpose(matrix))"
   ]
  },
  {
   "cell_type": "code",
   "execution_count": 45,
   "metadata": {},
   "outputs": [
    {
     "name": "stdout",
     "output_type": "stream",
     "text": [
      "(4096,)\n",
      "torch.Size([4096])\n"
     ]
    }
   ],
   "source": [
    "print(column_vector.shape)\n",
    "print(spiral_indices.shape)"
   ]
  },
  {
   "cell_type": "code",
   "execution_count": 46,
   "metadata": {},
   "outputs": [],
   "source": [
    "import torch"
   ]
  },
  {
   "cell_type": "code",
   "execution_count": 47,
   "metadata": {},
   "outputs": [
    {
     "name": "stdout",
     "output_type": "stream",
     "text": [
      "tensor([[2, 0, 2, 0, 1],\n",
      "        [0, 1, 1, 1, 0],\n",
      "        [2, 2, 0, 0, 1],\n",
      "        [2, 0, 0, 2, 0],\n",
      "        [2, 2, 2, 2, 2]])\n",
      "tensor([[[2, 1, 2, 0, 0]]])\n",
      "tensor([[[False, False, False, False, False]]])\n",
      "tensor([[[ 8,  3,  6,  4, 10]]])\n",
      "tensor([[[16,  5, 10,  0,  0]]])\n"
     ]
    }
   ],
   "source": [
    "torch.manual_seed(0)\n",
    "\n",
    "A = torch.randint(0, 3, (5, 5))\n",
    "B = torch.randint(0, 3, (1, 1, 5))\n",
    "\n",
    "print(A)\n",
    "print(B)\n",
    "\n",
    "#4096x4096 (ij) multiplied by 1x1x4096 (klj) to make 1x1x4096 (kli)\n",
    "\n",
    "C = torch.einsum('ij,klj->kli', A, B)\n",
    "\n",
    "C_2 = torch.einsum('ij,klj->klj', A, B)\n",
    "\n",
    "# Check if two are equal\n",
    "print(C == C_2)\n",
    "\n",
    "print(C)\n",
    "print(C_2)\n"
   ]
  },
  {
   "cell_type": "code",
   "execution_count": 48,
   "metadata": {},
   "outputs": [
    {
     "name": "stdout",
     "output_type": "stream",
     "text": [
      "tensor([[ 0,  1,  2,  3],\n",
      "        [ 4,  5,  6,  7],\n",
      "        [ 8,  9, 10, 11],\n",
      "        [12, 13, 14, 15]])\n",
      "tensor([[[ 0.,  1.,  2.,  3.,  4.,  5.,  6.,  7.,  8.,  9., 10., 11., 12., 13.,\n",
      "          14., 15.]]])\n"
     ]
    }
   ],
   "source": [
    "data = [[0, 1, 2, 3], [4, 5, 6, 7], [8, 9, 10, 11], [12, 13, 14, 15]]\n",
    "x_data = torch.tensor(data)\n",
    "print(x_data)\n",
    "x_new = x_data.view(-1)\n",
    "x_new = x_new.unsqueeze_(0).unsqueeze_(0).to(torch.float32)\n",
    "print(x_new)"
   ]
  },
  {
   "cell_type": "code",
   "execution_count": 49,
   "metadata": {},
   "outputs": [],
   "source": [
    "# Example usage 2\n",
    "H, W = 4, 4\n",
    "spiral_indices_2 = generate_spiral_indices(H, W)\n",
    "column_vector_2 = np.arange(4*4)\n",
    "\n",
    "matrix_2 = np.zeros((4*4, 4*4), dtype=int)\n",
    "\n",
    "matrix_2[column_vector_2, spiral_indices_2] = 1\n",
    "matrix_2_tensor = torch.tensor(matrix_2, dtype=torch.float32)"
   ]
  },
  {
   "cell_type": "code",
   "execution_count": 107,
   "metadata": {},
   "outputs": [
    {
     "name": "stdout",
     "output_type": "stream",
     "text": [
      "tensor([ 0,  1,  2,  3,  7, 11, 15, 14, 13, 12,  8,  4,  5,  6, 10,  9])\n"
     ]
    }
   ],
   "source": [
    "print(spiral_indices_2)"
   ]
  },
  {
   "cell_type": "code",
   "execution_count": 108,
   "metadata": {},
   "outputs": [],
   "source": [
    "C = torch.einsum('ij,klj->kli', matrix_2_tensor, x_new)\n",
    "\n",
    "C_2 = torch.einsum('ij,klj->klj', matrix_2_tensor, x_new)"
   ]
  },
  {
   "cell_type": "code",
   "execution_count": 106,
   "metadata": {},
   "outputs": [
    {
     "name": "stdout",
     "output_type": "stream",
     "text": [
      "tensor([[1., 0., 0., 0., 0., 0., 0., 0., 0., 0., 0., 0., 0., 0., 0., 0.],\n",
      "        [0., 1., 0., 0., 0., 0., 0., 0., 0., 0., 0., 0., 0., 0., 0., 0.],\n",
      "        [0., 0., 1., 0., 0., 0., 0., 0., 0., 0., 0., 0., 0., 0., 0., 0.],\n",
      "        [0., 0., 0., 1., 0., 0., 0., 0., 0., 0., 0., 0., 0., 0., 0., 0.],\n",
      "        [0., 0., 0., 0., 0., 0., 0., 1., 0., 0., 0., 0., 0., 0., 0., 0.],\n",
      "        [0., 0., 0., 0., 0., 0., 0., 0., 0., 0., 0., 1., 0., 0., 0., 0.],\n",
      "        [0., 0., 0., 0., 0., 0., 0., 0., 0., 0., 0., 0., 0., 0., 0., 1.],\n",
      "        [0., 0., 0., 0., 0., 0., 0., 0., 0., 0., 0., 0., 0., 0., 1., 0.],\n",
      "        [0., 0., 0., 0., 0., 0., 0., 0., 0., 0., 0., 0., 0., 1., 0., 0.],\n",
      "        [0., 0., 0., 0., 0., 0., 0., 0., 0., 0., 0., 0., 1., 0., 0., 0.],\n",
      "        [0., 0., 0., 0., 0., 0., 0., 0., 1., 0., 0., 0., 0., 0., 0., 0.],\n",
      "        [0., 0., 0., 0., 1., 0., 0., 0., 0., 0., 0., 0., 0., 0., 0., 0.],\n",
      "        [0., 0., 0., 0., 0., 1., 0., 0., 0., 0., 0., 0., 0., 0., 0., 0.],\n",
      "        [0., 0., 0., 0., 0., 0., 1., 0., 0., 0., 0., 0., 0., 0., 0., 0.],\n",
      "        [0., 0., 0., 0., 0., 0., 0., 0., 0., 0., 1., 0., 0., 0., 0., 0.],\n",
      "        [0., 0., 0., 0., 0., 0., 0., 0., 0., 1., 0., 0., 0., 0., 0., 0.]])\n"
     ]
    }
   ],
   "source": [
    "print(matrix_2_tensor)"
   ]
  },
  {
   "cell_type": "code",
   "execution_count": 109,
   "metadata": {},
   "outputs": [
    {
     "name": "stdout",
     "output_type": "stream",
     "text": [
      "tensor([[ 0,  1,  2,  3],\n",
      "        [ 4,  5,  6,  7],\n",
      "        [ 8,  9, 10, 11],\n",
      "        [12, 13, 14, 15]])\n",
      "tensor([[[ 0.,  1.,  2.,  3.,  7., 11., 15., 14., 13., 12.,  8.,  4.,  5.,  6.,\n",
      "          10.,  9.]]])\n"
     ]
    }
   ],
   "source": [
    "print(x_data)\n",
    "print(C)"
   ]
  },
  {
   "cell_type": "code",
   "execution_count": 110,
   "metadata": {},
   "outputs": [
    {
     "name": "stdout",
     "output_type": "stream",
     "text": [
      "tensor([[[ 0.,  1.,  2.,  3.,  4.,  5.,  6.,  7.,  8.,  9., 10., 11., 12., 13.,\n",
      "          14., 15.]]])\n"
     ]
    }
   ],
   "source": [
    "print(C_2)"
   ]
  },
  {
   "cell_type": "code",
   "execution_count": 104,
   "metadata": {},
   "outputs": [
    {
     "name": "stdout",
     "output_type": "stream",
     "text": [
      "tensor([[ 0.,  1.,  2.,  3.],\n",
      "        [ 4.,  5.,  6.,  7.],\n",
      "        [ 8.,  9., 10., 11.],\n",
      "        [12., 13., 14., 15.]])\n"
     ]
    }
   ],
   "source": [
    "print(x_new.view(4, 4))"
   ]
  },
  {
   "cell_type": "markdown",
   "metadata": {},
   "source": [
    "## Gilbert curves"
   ]
  },
  {
   "cell_type": "code",
   "execution_count": 2,
   "metadata": {},
   "outputs": [],
   "source": [
    "import torch\n",
    "import numpy as np"
   ]
  },
  {
   "cell_type": "code",
   "execution_count": 3,
   "metadata": {},
   "outputs": [],
   "source": [
    "def gilbert2d(width, height):\n",
    "    \"\"\"\n",
    "    Generalized Hilbert ('gilbert') space-filling curve for arbitrary-sized\n",
    "    2D rectangular grids. Generates discrete 2D coordinates to fill a rectangle\n",
    "    of size (width x height).\n",
    "    \"\"\"\n",
    "\n",
    "    if width >= height:\n",
    "        yield from generate2d(0, 0, width, 0, 0, height)\n",
    "    else:\n",
    "        yield from generate2d(0, 0, 0, height, width, 0)\n",
    "\n",
    "\n",
    "def sgn(x):\n",
    "    return -1 if x < 0 else (1 if x > 0 else 0)\n",
    "\n",
    "\n",
    "def generate2d(x, y, ax, ay, bx, by):\n",
    "\n",
    "    w = abs(ax + ay)\n",
    "    h = abs(bx + by)\n",
    "\n",
    "    (dax, day) = (sgn(ax), sgn(ay)) # unit major direction\n",
    "    (dbx, dby) = (sgn(bx), sgn(by)) # unit orthogonal direction\n",
    "\n",
    "    if h == 1:\n",
    "        # trivial row fill\n",
    "        for i in range(0, w):\n",
    "            yield(x, y)\n",
    "            (x, y) = (x + dax, y + day)\n",
    "        return\n",
    "\n",
    "    if w == 1:\n",
    "        # trivial column fill\n",
    "        for i in range(0, h):\n",
    "            yield(x, y)\n",
    "            (x, y) = (x + dbx, y + dby)\n",
    "        return\n",
    "\n",
    "    (ax2, ay2) = (ax//2, ay//2)\n",
    "    (bx2, by2) = (bx//2, by//2)\n",
    "\n",
    "    w2 = abs(ax2 + ay2)\n",
    "    h2 = abs(bx2 + by2)\n",
    "\n",
    "    if 2*w > 3*h:\n",
    "        if (w2 % 2) and (w > 2):\n",
    "            # prefer even steps\n",
    "            (ax2, ay2) = (ax2 + dax, ay2 + day)\n",
    "\n",
    "        # long case: split in two parts only\n",
    "        yield from generate2d(x, y, ax2, ay2, bx, by)\n",
    "        yield from generate2d(x+ax2, y+ay2, ax-ax2, ay-ay2, bx, by)\n",
    "\n",
    "    else:\n",
    "        if (h2 % 2) and (h > 2):\n",
    "            # prefer even steps\n",
    "            (bx2, by2) = (bx2 + dbx, by2 + dby)\n",
    "\n",
    "        # standard case: one step up, one long horizontal, one step down\n",
    "        yield from generate2d(x, y, bx2, by2, ax2, ay2)\n",
    "        yield from generate2d(x+bx2, y+by2, ax, ay, bx-bx2, by-by2)\n",
    "        yield from generate2d(x+(ax-dax)+(bx2-dbx), y+(ay-day)+(by2-dby),\n",
    "                              -bx2, -by2, -(ax-ax2), -(ay-ay2))"
   ]
  },
  {
   "cell_type": "code",
   "execution_count": 71,
   "metadata": {},
   "outputs": [],
   "source": [
    "generator = gilbert2d(4, 4)"
   ]
  },
  {
   "cell_type": "code",
   "execution_count": 68,
   "metadata": {},
   "outputs": [
    {
     "name": "stdout",
     "output_type": "stream",
     "text": [
      "(0, 0)\n",
      "(1, 0)\n",
      "(1, 1)\n",
      "(0, 1)\n",
      "(0, 2)\n",
      "(0, 3)\n",
      "(1, 3)\n",
      "(1, 2)\n",
      "(2, 2)\n",
      "(2, 3)\n",
      "(3, 3)\n",
      "(3, 2)\n",
      "(3, 1)\n",
      "(2, 1)\n",
      "(2, 0)\n",
      "(3, 0)\n"
     ]
    }
   ],
   "source": [
    "for i in generator:\n",
    "    print(i)"
   ]
  },
  {
   "cell_type": "code",
   "execution_count": 58,
   "metadata": {},
   "outputs": [
    {
     "name": "stdout",
     "output_type": "stream",
     "text": [
      "tensor([[ 0.,  1.,  2.,  3.],\n",
      "        [ 4.,  5.,  6.,  7.],\n",
      "        [ 8.,  9., 10., 11.],\n",
      "        [12., 13., 14., 15.]])\n"
     ]
    }
   ],
   "source": [
    "print(x_new.view(4, 4))"
   ]
  },
  {
   "cell_type": "code",
   "execution_count": 60,
   "metadata": {},
   "outputs": [
    {
     "name": "stdout",
     "output_type": "stream",
     "text": [
      "tensor([[ 0,  1,  2],\n",
      "        [ 3,  4,  5],\n",
      "        [ 6,  7,  8],\n",
      "        [ 9, 10, 11]])\n",
      "torch.Size([4, 3])\n"
     ]
    }
   ],
   "source": [
    "data_rectangle = [[0, 1, 2], [3, 4, 5], [6, 7, 8], [9, 10, 11]]\n",
    "x_data_rectangle = torch.tensor(data_rectangle)\n",
    "print(x_data_rectangle)\n",
    "print(x_data_rectangle.shape)"
   ]
  },
  {
   "cell_type": "code",
   "execution_count": null,
   "metadata": {},
   "outputs": [],
   "source": [
    "def generate_gilbert_indices(H, W, generator):\n",
    "    indices = []\n",
    "    # Origin is bottom left corner of tensor\n",
    "    origin = (W*H - H)\n",
    "    currentPos = origin\n",
    "    # Iterate through coordinates in the generator\n",
    "    for i in generator:\n",
    "        print(i)\n",
    "        # If the current position is the origin, add it to the indices\n",
    "        if i == (0, 0):\n",
    "            indices.append(origin)\n",
    "            currentXY = i\n",
    "        # Moving right in x direction\n",
    "        elif currentXY[0]+1 == i[0]:\n",
    "            currentPos += 1\n",
    "            indices.append(currentPos)\n",
    "            currentXY = i\n",
    "        # Moving left in x direction\n",
    "        elif currentXY[0]-1 == i[0]:\n",
    "            currentPos -= 1\n",
    "            indices.append(currentPos)\n",
    "            currentXY = i\n",
    "        # Moving up in y direction\n",
    "        elif currentXY[1]+1 == i[1]:\n",
    "            currentPos -= W\n",
    "            indices.append(currentPos)\n",
    "            currentXY = i\n",
    "        # Moving down in y direction\n",
    "        elif currentXY[1]-1 == i[1]:\n",
    "            currentPos += W\n",
    "            indices.append(currentPos)\n",
    "            currentXY = i\n",
    "    return torch.tensor(indices, dtype=torch.long)\n",
    "        "
   ]
  },
  {
   "cell_type": "code",
   "execution_count": 73,
   "metadata": {},
   "outputs": [
    {
     "name": "stdout",
     "output_type": "stream",
     "text": [
      "(0, 0)\n",
      "(1, 0)\n",
      "(1, 1)\n",
      "(0, 1)\n",
      "(0, 2)\n",
      "(0, 3)\n",
      "(1, 3)\n",
      "(1, 2)\n",
      "(2, 2)\n",
      "(2, 3)\n",
      "(3, 3)\n",
      "(3, 2)\n",
      "(3, 1)\n",
      "(2, 1)\n",
      "(2, 0)\n",
      "(3, 0)\n"
     ]
    }
   ],
   "source": [
    "myList = generate_gilbert_indices(4, 4, generator)"
   ]
  },
  {
   "cell_type": "code",
   "execution_count": 74,
   "metadata": {},
   "outputs": [
    {
     "name": "stdout",
     "output_type": "stream",
     "text": [
      "tensor([[ 0.,  1.,  2.,  3.],\n",
      "        [ 4.,  5.,  6.,  7.],\n",
      "        [ 8.,  9., 10., 11.],\n",
      "        [12., 13., 14., 15.]])\n",
      "tensor([12, 13,  9,  8,  4,  0,  1,  5,  6,  2,  3,  7, 11, 10, 14, 15])\n"
     ]
    }
   ],
   "source": [
    "print(x_new.view(4, 4))\n",
    "print(myList)"
   ]
  },
  {
   "cell_type": "markdown",
   "metadata": {},
   "source": [
    "## 3D Gilbert"
   ]
  },
  {
   "cell_type": "code",
   "execution_count": 118,
   "metadata": {},
   "outputs": [
    {
     "name": "stdout",
     "output_type": "stream",
     "text": [
      "torch.Size([2, 4, 4])\n",
      "torch.Size([1, 1, 32])\n"
     ]
    }
   ],
   "source": [
    "data = [[0, 1, 2, 3], [4, 5, 6, 7], [8, 9, 10, 11], [12, 13, 14, 15]]\n",
    "data2 = [[16, 17, 18, 19], [20, 21, 22, 23], [24, 25, 26, 27], [28, 29, 30, 31]]\n",
    "\n",
    "\n",
    "x_data_3d = torch.tensor([data, data2])\n",
    "print(x_data_3d.shape)\n",
    "x_new_3d = x_data_3d.view(-1)\n",
    "x_new_3d = x_new_3d.unsqueeze_(0).unsqueeze_(0).to(torch.float32)\n",
    "print(x_new_3d.shape)"
   ]
  },
  {
   "cell_type": "code",
   "execution_count": 119,
   "metadata": {},
   "outputs": [
    {
     "name": "stdout",
     "output_type": "stream",
     "text": [
      "tensor([[[ 0,  1,  2,  3],\n",
      "         [ 4,  5,  6,  7],\n",
      "         [ 8,  9, 10, 11],\n",
      "         [12, 13, 14, 15]],\n",
      "\n",
      "        [[16, 17, 18, 19],\n",
      "         [20, 21, 22, 23],\n",
      "         [24, 25, 26, 27],\n",
      "         [28, 29, 30, 31]]])\n"
     ]
    }
   ],
   "source": [
    "print(x_data_3d)"
   ]
  },
  {
   "cell_type": "code",
   "execution_count": 120,
   "metadata": {},
   "outputs": [
    {
     "name": "stdout",
     "output_type": "stream",
     "text": [
      "tensor([[[ 0.,  1.,  2.,  3.,  4.,  5.,  6.,  7.,  8.,  9., 10., 11., 12., 13.,\n",
      "          14., 15., 16., 17., 18., 19., 20., 21., 22., 23., 24., 25., 26., 27.,\n",
      "          28., 29., 30., 31.]]])\n"
     ]
    }
   ],
   "source": [
    "print(x_new_3d)"
   ]
  },
  {
   "cell_type": "code",
   "execution_count": 121,
   "metadata": {},
   "outputs": [],
   "source": [
    "def gilbert3d(width, height, depth):\n",
    "    \"\"\"\n",
    "    Generalized Hilbert ('Gilbert') space-filling curve for arbitrary-sized\n",
    "    3D rectangular grids. Generates discrete 3D coordinates to fill a cuboid\n",
    "    of size (width x height x depth). Even sizes are recommended in 3D.\n",
    "    \"\"\"\n",
    "\n",
    "    if width >= height and width >= depth:\n",
    "       yield from generate3d(0, 0, 0,\n",
    "                             width, 0, 0,\n",
    "                             0, height, 0,\n",
    "                             0, 0, depth)\n",
    "\n",
    "    elif height >= width and height >= depth:\n",
    "       yield from generate3d(0, 0, 0,\n",
    "                             0, height, 0,\n",
    "                             width, 0, 0,\n",
    "                             0, 0, depth)\n",
    "\n",
    "    else: # depth >= width and depth >= height\n",
    "       yield from generate3d(0, 0, 0,\n",
    "                             0, 0, depth,\n",
    "                             width, 0, 0,\n",
    "                             0, height, 0)\n",
    "\n",
    "\n",
    "def sgn(x):\n",
    "    return -1 if x < 0 else (1 if x > 0 else 0)\n",
    "\n",
    "\n",
    "def generate3d(x, y, z,\n",
    "               ax, ay, az,\n",
    "               bx, by, bz,\n",
    "               cx, cy, cz):\n",
    "\n",
    "    w = abs(ax + ay + az)\n",
    "    h = abs(bx + by + bz)\n",
    "    d = abs(cx + cy + cz)\n",
    "\n",
    "    (dax, day, daz) = (sgn(ax), sgn(ay), sgn(az)) # unit major direction (\"right\")\n",
    "    (dbx, dby, dbz) = (sgn(bx), sgn(by), sgn(bz)) # unit ortho direction (\"forward\")\n",
    "    (dcx, dcy, dcz) = (sgn(cx), sgn(cy), sgn(cz)) # unit ortho direction (\"up\")\n",
    "\n",
    "    # trivial row/column fills\n",
    "    if h == 1 and d == 1:\n",
    "        for i in range(0, w):\n",
    "            yield(x, y, z)\n",
    "            (x, y, z) = (x + dax, y + day, z + daz)\n",
    "        return\n",
    "\n",
    "    if w == 1 and d == 1:\n",
    "        for i in range(0, h):\n",
    "            yield(x, y, z)\n",
    "            (x, y, z) = (x + dbx, y + dby, z + dbz)\n",
    "        return\n",
    "\n",
    "    if w == 1 and h == 1:\n",
    "        for i in range(0, d):\n",
    "            yield(x, y, z)\n",
    "            (x, y, z) = (x + dcx, y + dcy, z + dcz)\n",
    "        return\n",
    "\n",
    "    (ax2, ay2, az2) = (ax//2, ay//2, az//2)\n",
    "    (bx2, by2, bz2) = (bx//2, by//2, bz//2)\n",
    "    (cx2, cy2, cz2) = (cx//2, cy//2, cz//2)\n",
    "\n",
    "    w2 = abs(ax2 + ay2 + az2)\n",
    "    h2 = abs(bx2 + by2 + bz2)\n",
    "    d2 = abs(cx2 + cy2 + cz2)\n",
    "\n",
    "    # prefer even steps\n",
    "    if (w2 % 2) and (w > 2):\n",
    "       (ax2, ay2, az2) = (ax2 + dax, ay2 + day, az2 + daz)\n",
    "\n",
    "    if (h2 % 2) and (h > 2):\n",
    "       (bx2, by2, bz2) = (bx2 + dbx, by2 + dby, bz2 + dbz)\n",
    "\n",
    "    if (d2 % 2) and (d > 2):\n",
    "       (cx2, cy2, cz2) = (cx2 + dcx, cy2 + dcy, cz2 + dcz)\n",
    "\n",
    "    # wide case, split in w only\n",
    "    if (2*w > 3*h) and (2*w > 3*d):\n",
    "       yield from generate3d(x, y, z,\n",
    "                             ax2, ay2, az2,\n",
    "                             bx, by, bz,\n",
    "                             cx, cy, cz)\n",
    "\n",
    "       yield from generate3d(x+ax2, y+ay2, z+az2,\n",
    "                             ax-ax2, ay-ay2, az-az2,\n",
    "                             bx, by, bz,\n",
    "                             cx, cy, cz)\n",
    "\n",
    "    # do not split in d\n",
    "    elif 3*h > 4*d:\n",
    "       yield from generate3d(x, y, z,\n",
    "                             bx2, by2, bz2,\n",
    "                             cx, cy, cz,\n",
    "                             ax2, ay2, az2)\n",
    "\n",
    "       yield from generate3d(x+bx2, y+by2, z+bz2,\n",
    "                             ax, ay, az,\n",
    "                             bx-bx2, by-by2, bz-bz2,\n",
    "                             cx, cy, cz)\n",
    "\n",
    "       yield from generate3d(x+(ax-dax)+(bx2-dbx),\n",
    "                             y+(ay-day)+(by2-dby),\n",
    "                             z+(az-daz)+(bz2-dbz),\n",
    "                             -bx2, -by2, -bz2,\n",
    "                             cx, cy, cz,\n",
    "                             -(ax-ax2), -(ay-ay2), -(az-az2))\n",
    "\n",
    "    # do not split in h\n",
    "    elif 3*d > 4*h:\n",
    "       yield from generate3d(x, y, z,\n",
    "                             cx2, cy2, cz2,\n",
    "                             ax2, ay2, az2,\n",
    "                             bx, by, bz)\n",
    "\n",
    "       yield from generate3d(x+cx2, y+cy2, z+cz2,\n",
    "                             ax, ay, az,\n",
    "                             bx, by, bz,\n",
    "                             cx-cx2, cy-cy2, cz-cz2)\n",
    "\n",
    "       yield from generate3d(x+(ax-dax)+(cx2-dcx),\n",
    "                             y+(ay-day)+(cy2-dcy),\n",
    "                             z+(az-daz)+(cz2-dcz),\n",
    "                             -cx2, -cy2, -cz2,\n",
    "                             -(ax-ax2), -(ay-ay2), -(az-az2),\n",
    "                             bx, by, bz)\n",
    "\n",
    "    # regular case, split in all w/h/d\n",
    "    else:\n",
    "       yield from generate3d(x, y, z,\n",
    "                             bx2, by2, bz2,\n",
    "                             cx2, cy2, cz2,\n",
    "                             ax2, ay2, az2)\n",
    "\n",
    "       yield from generate3d(x+bx2, y+by2, z+bz2,\n",
    "                             cx, cy, cz,\n",
    "                             ax2, ay2, az2,\n",
    "                             bx-bx2, by-by2, bz-bz2)\n",
    "\n",
    "       yield from generate3d(x+(bx2-dbx)+(cx-dcx),\n",
    "                             y+(by2-dby)+(cy-dcy),\n",
    "                             z+(bz2-dbz)+(cz-dcz),\n",
    "                             ax, ay, az,\n",
    "                             -bx2, -by2, -bz2,\n",
    "                             -(cx-cx2), -(cy-cy2), -(cz-cz2))\n",
    "\n",
    "       yield from generate3d(x+(ax-dax)+bx2+(cx-dcx),\n",
    "                             y+(ay-day)+by2+(cy-dcy),\n",
    "                             z+(az-daz)+bz2+(cz-dcz),\n",
    "                             -cx, -cy, -cz,\n",
    "                             -(ax-ax2), -(ay-ay2), -(az-az2),\n",
    "                             bx-bx2, by-by2, bz-bz2)\n",
    "\n",
    "       yield from generate3d(x+(ax-dax)+(bx2-dbx),\n",
    "                             y+(ay-day)+(by2-dby),\n",
    "                             z+(az-daz)+(bz2-dbz),\n",
    "                             -bx2, -by2, -bz2,\n",
    "                             cx2, cy2, cz2,\n",
    "                             -(ax-ax2), -(ay-ay2), -(az-az2))"
   ]
  },
  {
   "cell_type": "code",
   "execution_count": 122,
   "metadata": {},
   "outputs": [],
   "source": [
    "generator3d = gilbert3d(4, 4, 2)"
   ]
  },
  {
   "cell_type": "code",
   "execution_count": 86,
   "metadata": {},
   "outputs": [],
   "source": [
    "# for i in generator3d:\n",
    "#     print(i)"
   ]
  },
  {
   "cell_type": "code",
   "execution_count": null,
   "metadata": {},
   "outputs": [],
   "source": [
    "def generate_gilbert_indices_3D(H, W, D, generator):\n",
    "    indices = []\n",
    "    # Origin is bottom left corner of tensor\n",
    "    origin = (W*H - H)\n",
    "    currentPos = origin\n",
    "    # Iterate through coordinates in the generator\n",
    "    for i in generator:\n",
    "        # If the current position is the origin, add it to the indices\n",
    "        if i == (0, 0, 0):\n",
    "            indices.append(origin)\n",
    "            currentXYZ = i\n",
    "        # Moving right in x direction\n",
    "        elif currentXYZ[0]+1 == i[0]:\n",
    "            currentPos += 1\n",
    "            indices.append(currentPos)\n",
    "            currentXYZ = i\n",
    "        # Moving left in x direction\n",
    "        elif currentXYZ[0]-1 == i[0]:\n",
    "            currentPos -= 1\n",
    "            indices.append(currentPos)\n",
    "            currentXYZ = i\n",
    "        # Moving up in y direction\n",
    "        elif currentXYZ[1]+1 == i[1]:\n",
    "            currentPos -= W\n",
    "            indices.append(currentPos)\n",
    "            currentXYZ = i\n",
    "        # Moving down in y direction\n",
    "        elif currentXYZ[1]-1 == i[1]:\n",
    "            currentPos += W\n",
    "            indices.append(currentPos)\n",
    "            currentXYZ = i\n",
    "        # Moving forward in z direction\n",
    "        elif currentXYZ[2]+1 == i[2]:\n",
    "            currentPos += H*W\n",
    "            indices.append(currentPos)\n",
    "            currentXYZ = i\n",
    "        # Moving backward in z direction\n",
    "        elif currentXYZ[2]-1 == i[2]:\n",
    "            currentPos -= H*W\n",
    "            indices.append(currentPos)\n",
    "            currentXYZ = i\n",
    "    return torch.tensor(indices, dtype=torch.long)\n",
    "        "
   ]
  },
  {
   "cell_type": "code",
   "execution_count": 135,
   "metadata": {},
   "outputs": [],
   "source": [
    "myList3D = generate_gilbert_indices_3D(4, 4, 2, generator3d)"
   ]
  },
  {
   "cell_type": "code",
   "execution_count": 126,
   "metadata": {},
   "outputs": [
    {
     "name": "stdout",
     "output_type": "stream",
     "text": [
      "tensor([[[ 0,  1,  2,  3],\n",
      "         [ 4,  5,  6,  7],\n",
      "         [ 8,  9, 10, 11],\n",
      "         [12, 13, 14, 15]],\n",
      "\n",
      "        [[16, 17, 18, 19],\n",
      "         [20, 21, 22, 23],\n",
      "         [24, 25, 26, 27],\n",
      "         [28, 29, 30, 31]]])\n"
     ]
    }
   ],
   "source": [
    "print(x_data_3d)"
   ]
  },
  {
   "cell_type": "code",
   "execution_count": 129,
   "metadata": {},
   "outputs": [
    {
     "name": "stdout",
     "output_type": "stream",
     "text": [
      "tensor([12, 28, 29, 13,  9, 25, 24,  8,  4,  0, 16, 20, 21, 17,  1,  5,  6,  2,\n",
      "        18, 22, 23, 19,  3,  7, 11, 27, 26, 10, 14, 30, 31, 15])\n",
      "tensor([[[ 0.,  1.,  2.,  3.,  4.,  5.,  6.,  7.,  8.,  9., 10., 11., 12., 13.,\n",
      "          14., 15., 16., 17., 18., 19., 20., 21., 22., 23., 24., 25., 26., 27.,\n",
      "          28., 29., 30., 31.]]])\n"
     ]
    }
   ],
   "source": [
    "print(myList3D)\n",
    "print(x_new_3d)"
   ]
  },
  {
   "cell_type": "code",
   "execution_count": 131,
   "metadata": {},
   "outputs": [
    {
     "name": "stdout",
     "output_type": "stream",
     "text": [
      "(32,)\n",
      "torch.Size([32])\n",
      "(32, 32)\n"
     ]
    }
   ],
   "source": [
    "H, W, D = 4, 4, 2\n",
    "column_vector3D = np.arange(4*4*2)\n",
    "\n",
    "matrix3D = np.zeros((4*4*2, 4*4*2), dtype=int)\n",
    "print(column_vector3D.shape)\n",
    "print(myList3D.shape)\n",
    "print(matrix3D.shape)\n",
    "\n",
    "matrix3D[column_vector3D, myList3D] = 1\n",
    "matrix_3D_tensor = torch.tensor(matrix3D, dtype=torch.float32)"
   ]
  },
  {
   "cell_type": "code",
   "execution_count": null,
   "metadata": {},
   "outputs": [],
   "source": [
    "C_3D = torch.einsum('ij,klj->kli', matrix_3D_tensor, x_new_3d) # Good\n",
    "\n",
    "C_2_3D = torch.einsum('ij,klj->klj', matrix_3D_tensor, x_new_3d) # Incorrect"
   ]
  },
  {
   "cell_type": "code",
   "execution_count": null,
   "metadata": {},
   "outputs": [
    {
     "name": "stdout",
     "output_type": "stream",
     "text": [
      "tensor([12, 28, 29, 13,  9, 25, 24,  8,  4,  0, 16, 20, 21, 17,  1,  5,  6,  2,\n",
      "        18, 22, 23, 19,  3,  7, 11, 27, 26, 10, 14, 30, 31, 15])\n",
      "tensor([[[12., 28., 29., 13.,  9., 25., 24.,  8.,  4.,  0., 16., 20., 21., 17.,\n",
      "           1.,  5.,  6.,  2., 18., 22., 23., 19.,  3.,  7., 11., 27., 26., 10.,\n",
      "          14., 30., 31., 15.]]])\n",
      "tensor([[[ 0.,  1.,  2.,  3.,  4.,  5.,  6.,  7.,  8.,  9., 10., 11., 12., 13.,\n",
      "          14., 15., 16., 17., 18., 19., 20., 21., 22., 23., 24., 25., 26., 27.,\n",
      "          28., 29., 30., 31.]]])\n"
     ]
    }
   ],
   "source": [
    "print(myList3D)\n",
    "print(C_3D)\n",
    "print(C_2_3D)"
   ]
  },
  {
   "cell_type": "markdown",
   "metadata": {},
   "source": [
    "## Slice-Spiral"
   ]
  },
  {
   "cell_type": "code",
   "execution_count": 159,
   "metadata": {},
   "outputs": [],
   "source": [
    "def generate_slicewise_spiral_indices(H, W, D):\n",
    "    # Create an empty list to store the indices in spiral order\n",
    "    indices = []\n",
    "    \n",
    "    left, right, top, bottom = 0, W - 1, 0, H - 1\n",
    "\n",
    "    while left <= right and top <= bottom:\n",
    "        # Traverse from left to right\n",
    "        for i in range(left, right + 1):\n",
    "            indices.append(top * W + i)\n",
    "        top += 1\n",
    "\n",
    "        # Traverse downwards\n",
    "        for i in range(top, bottom + 1):\n",
    "            indices.append(i * W + right)\n",
    "        right -= 1\n",
    "\n",
    "        if top <= bottom:\n",
    "            # Traverse from right to left\n",
    "            for i in range(right, left - 1, -1):\n",
    "                indices.append(bottom * W + i)\n",
    "            bottom -= 1\n",
    "\n",
    "        if left <= right:\n",
    "            # Traverse upwards\n",
    "            for i in range(bottom, top - 1, -1):\n",
    "                indices.append(i * W + left)\n",
    "            left += 1\n",
    "    \n",
    "    indices_slice1 = indices[:]\n",
    "\n",
    "    for i in range(D-1):\n",
    "        if i%2 == 0:\n",
    "            indicesNew = [x+(H*W*(i+1)) for x in list(reversed(indices_slice1))]\n",
    "        else:\n",
    "            indicesNew = [x+(H*W*(i+1)) for x in indices_slice1]\n",
    "\n",
    "        indices += indicesNew\n",
    "    \n",
    "    return torch.tensor(indices, dtype=torch.long)"
   ]
  },
  {
   "cell_type": "code",
   "execution_count": 170,
   "metadata": {},
   "outputs": [
    {
     "name": "stdout",
     "output_type": "stream",
     "text": [
      "torch.Size([3, 4, 4])\n",
      "torch.Size([1, 1, 48])\n"
     ]
    }
   ],
   "source": [
    "data = [[0, 1, 2, 3], [4, 5, 6, 7], [8, 9, 10, 11], [12, 13, 14, 15]]\n",
    "data2 = [[16, 17, 18, 19], [20, 21, 22, 23], [24, 25, 26, 27], [28, 29, 30, 31]]\n",
    "data3 = [[32, 33, 34, 35], [36, 37, 38, 39], [40, 41, 42, 43], [44, 45, 46, 47]]\n",
    "\n",
    "x_data_3d = torch.tensor([data, data2, data3])\n",
    "print(x_data_3d.shape)\n",
    "x_new_3d = x_data_3d.view(-1)\n",
    "x_new_3d = x_new_3d.unsqueeze_(0).unsqueeze_(0).to(torch.float32)\n",
    "print(x_new_3d.shape)"
   ]
  },
  {
   "cell_type": "code",
   "execution_count": 171,
   "metadata": {},
   "outputs": [],
   "source": [
    "spiral_indices_slice = generate_slicewise_spiral_indices(4, 4, 3)\n",
    "column_vector_slice = np.arange(4*4*3)\n",
    "\n",
    "matrix_slice = np.zeros((4*4*3, 4*4*3), dtype=int)\n",
    "\n",
    "matrix_slice[column_vector_slice, spiral_indices_slice] = 1\n",
    "matrix_slice_tensor = torch.tensor(matrix_slice, dtype=torch.float32)"
   ]
  },
  {
   "cell_type": "code",
   "execution_count": 172,
   "metadata": {},
   "outputs": [
    {
     "name": "stdout",
     "output_type": "stream",
     "text": [
      "tensor([ 0,  1,  2,  3,  7, 11, 15, 14, 13, 12,  8,  4,  5,  6, 10,  9, 25, 26,\n",
      "        22, 21, 20, 24, 28, 29, 30, 31, 27, 23, 19, 18, 17, 16, 32, 33, 34, 35,\n",
      "        39, 43, 47, 46, 45, 44, 40, 36, 37, 38, 42, 41])\n",
      "tensor([[[ 0,  1,  2,  3],\n",
      "         [ 4,  5,  6,  7],\n",
      "         [ 8,  9, 10, 11],\n",
      "         [12, 13, 14, 15]],\n",
      "\n",
      "        [[16, 17, 18, 19],\n",
      "         [20, 21, 22, 23],\n",
      "         [24, 25, 26, 27],\n",
      "         [28, 29, 30, 31]],\n",
      "\n",
      "        [[32, 33, 34, 35],\n",
      "         [36, 37, 38, 39],\n",
      "         [40, 41, 42, 43],\n",
      "         [44, 45, 46, 47]]])\n"
     ]
    }
   ],
   "source": [
    "print((spiral_indices_slice))\n",
    "print(x_data_3d[:, :, :])"
   ]
  },
  {
   "cell_type": "code",
   "execution_count": 173,
   "metadata": {},
   "outputs": [],
   "source": [
    "# list1 = [1, 2, 3, 4]\n",
    "# list2 = [x+4 for x in list(reversed(list1))]\n",
    "# print(list1)\n",
    "# print(list2)"
   ]
  },
  {
   "cell_type": "code",
   "execution_count": 174,
   "metadata": {},
   "outputs": [],
   "source": [
    "# depth = 4\n",
    "# for i in range(depth):\n",
    "#     print(i, i%2==0)"
   ]
  },
  {
   "cell_type": "markdown",
   "metadata": {},
   "source": [
    "## Slice-Hilbert"
   ]
  },
  {
   "cell_type": "code",
   "execution_count": 175,
   "metadata": {},
   "outputs": [],
   "source": [
    "def gilbert2d(width, height):\n",
    "    \"\"\"\n",
    "    Generalized Hilbert ('gilbert') space-filling curve for arbitrary-sized\n",
    "    2D rectangular grids. Generates discrete 2D coordinates to fill a rectangle\n",
    "    of size (width x height).\n",
    "    \"\"\"\n",
    "\n",
    "    if width >= height:\n",
    "        yield from generate2d(0, 0, width, 0, 0, height)\n",
    "    else:\n",
    "        yield from generate2d(0, 0, 0, height, width, 0)\n",
    "\n",
    "\n",
    "def sgn(x):\n",
    "    return -1 if x < 0 else (1 if x > 0 else 0)\n",
    "\n",
    "\n",
    "def generate2d(x, y, ax, ay, bx, by):\n",
    "\n",
    "    w = abs(ax + ay)\n",
    "    h = abs(bx + by)\n",
    "\n",
    "    (dax, day) = (sgn(ax), sgn(ay)) # unit major direction\n",
    "    (dbx, dby) = (sgn(bx), sgn(by)) # unit orthogonal direction\n",
    "\n",
    "    if h == 1:\n",
    "        # trivial row fill\n",
    "        for i in range(0, w):\n",
    "            yield(x, y)\n",
    "            (x, y) = (x + dax, y + day)\n",
    "        return\n",
    "\n",
    "    if w == 1:\n",
    "        # trivial column fill\n",
    "        for i in range(0, h):\n",
    "            yield(x, y)\n",
    "            (x, y) = (x + dbx, y + dby)\n",
    "        return\n",
    "\n",
    "    (ax2, ay2) = (ax//2, ay//2)\n",
    "    (bx2, by2) = (bx//2, by//2)\n",
    "\n",
    "    w2 = abs(ax2 + ay2)\n",
    "    h2 = abs(bx2 + by2)\n",
    "\n",
    "    if 2*w > 3*h:\n",
    "        if (w2 % 2) and (w > 2):\n",
    "            # prefer even steps\n",
    "            (ax2, ay2) = (ax2 + dax, ay2 + day)\n",
    "\n",
    "        # long case: split in two parts only\n",
    "        yield from generate2d(x, y, ax2, ay2, bx, by)\n",
    "        yield from generate2d(x+ax2, y+ay2, ax-ax2, ay-ay2, bx, by)\n",
    "\n",
    "    else:\n",
    "        if (h2 % 2) and (h > 2):\n",
    "            # prefer even steps\n",
    "            (bx2, by2) = (bx2 + dbx, by2 + dby)\n",
    "\n",
    "        # standard case: one step up, one long horizontal, one step down\n",
    "        yield from generate2d(x, y, bx2, by2, ax2, ay2)\n",
    "        yield from generate2d(x+bx2, y+by2, ax, ay, bx-bx2, by-by2)\n",
    "        yield from generate2d(x+(ax-dax)+(bx2-dbx), y+(ay-day)+(by2-dby),\n",
    "                              -bx2, -by2, -(ax-ax2), -(ay-ay2))"
   ]
  },
  {
   "cell_type": "code",
   "execution_count": 176,
   "metadata": {},
   "outputs": [
    {
     "name": "stdout",
     "output_type": "stream",
     "text": [
      "torch.Size([3, 4, 4])\n",
      "torch.Size([1, 1, 48])\n"
     ]
    }
   ],
   "source": [
    "data = [[0, 1, 2, 3], [4, 5, 6, 7], [8, 9, 10, 11], [12, 13, 14, 15]]\n",
    "data2 = [[16, 17, 18, 19], [20, 21, 22, 23], [24, 25, 26, 27], [28, 29, 30, 31]]\n",
    "data3 = [[32, 33, 34, 35], [36, 37, 38, 39], [40, 41, 42, 43], [44, 45, 46, 47]]\n",
    "\n",
    "x_data_3d = torch.tensor([data, data2, data3])\n",
    "print(x_data_3d.shape)\n",
    "x_new_3d = x_data_3d.view(-1)\n",
    "x_new_3d = x_new_3d.unsqueeze_(0).unsqueeze_(0).to(torch.float32)\n",
    "print(x_new_3d.shape)"
   ]
  },
  {
   "cell_type": "code",
   "execution_count": 183,
   "metadata": {},
   "outputs": [],
   "source": [
    "generator = gilbert2d(4, 4)"
   ]
  },
  {
   "cell_type": "code",
   "execution_count": null,
   "metadata": {},
   "outputs": [],
   "source": [
    "def generate_slicewise_hilbert_indices(H, W, D, generator):\n",
    "    indices = []\n",
    "    # Origin is bottom left corner of tensor\n",
    "    origin = (W*H - H)\n",
    "    currentPos = origin\n",
    "    # Iterate through coordinates in the generator\n",
    "    for i in generator:\n",
    "        # If the current position is the origin, add it to the indices\n",
    "        if i == (0, 0):\n",
    "            indices.append(origin)\n",
    "            currentXY = i\n",
    "        # Moving right in x direction\n",
    "        elif currentXY[0]+1 == i[0]:\n",
    "            currentPos += 1\n",
    "            indices.append(currentPos)\n",
    "            currentXY = i\n",
    "        # Moving left in x direction\n",
    "        elif currentXY[0]-1 == i[0]:\n",
    "            currentPos -= 1\n",
    "            indices.append(currentPos)\n",
    "            currentXY = i\n",
    "        # Moving up in y direction\n",
    "        elif currentXY[1]+1 == i[1]:\n",
    "            currentPos -= W\n",
    "            indices.append(currentPos)\n",
    "            currentXY = i\n",
    "        # Moving down in y direction\n",
    "        elif currentXY[1]-1 == i[1]:\n",
    "            currentPos += W\n",
    "            indices.append(currentPos)\n",
    "            currentXY = i\n",
    "\n",
    "    indices_slice1 = indices[:]\n",
    "\n",
    "    for i in range(D-1):\n",
    "        if i%2 == 0:\n",
    "            indicesNew = [x+(H*W*(i+1)) for x in list(reversed(indices_slice1))]\n",
    "        else:\n",
    "            indicesNew = [x+(H*W*(i+1)) for x in indices_slice1]\n",
    "        indices += indicesNew\n",
    "\n",
    "    return torch.tensor(indices, dtype=torch.long)\n",
    "        "
   ]
  },
  {
   "cell_type": "code",
   "execution_count": null,
   "metadata": {},
   "outputs": [],
   "source": [
    "myList = generate_slicewise_hilbert_indices(4, 4, 3, generator)"
   ]
  },
  {
   "cell_type": "code",
   "execution_count": 187,
   "metadata": {},
   "outputs": [
    {
     "name": "stdout",
     "output_type": "stream",
     "text": [
      "tensor([12, 13,  9,  8,  4,  0,  1,  5,  6,  2,  3,  7, 11, 10, 14, 15, 31, 30,\n",
      "        26, 27, 23, 19, 18, 22, 21, 17, 16, 20, 24, 25, 29, 28, 44, 45, 41, 40,\n",
      "        36, 32, 33, 37, 38, 34, 35, 39, 43, 42, 46, 47])\n",
      "tensor([[[ 0,  1,  2,  3],\n",
      "         [ 4,  5,  6,  7],\n",
      "         [ 8,  9, 10, 11],\n",
      "         [12, 13, 14, 15]],\n",
      "\n",
      "        [[16, 17, 18, 19],\n",
      "         [20, 21, 22, 23],\n",
      "         [24, 25, 26, 27],\n",
      "         [28, 29, 30, 31]],\n",
      "\n",
      "        [[32, 33, 34, 35],\n",
      "         [36, 37, 38, 39],\n",
      "         [40, 41, 42, 43],\n",
      "         [44, 45, 46, 47]]])\n"
     ]
    }
   ],
   "source": [
    "print(myList)\n",
    "print(x_data_3d[:, :, :])"
   ]
  },
  {
   "cell_type": "code",
   "execution_count": null,
   "metadata": {},
   "outputs": [],
   "source": []
  }
 ],
 "metadata": {
  "kernelspec": {
   "display_name": "base",
   "language": "python",
   "name": "python3"
  },
  "language_info": {
   "codemirror_mode": {
    "name": "ipython",
    "version": 3
   },
   "file_extension": ".py",
   "mimetype": "text/x-python",
   "name": "python",
   "nbconvert_exporter": "python",
   "pygments_lexer": "ipython3",
   "version": "3.8.3"
  }
 },
 "nbformat": 4,
 "nbformat_minor": 2
}
