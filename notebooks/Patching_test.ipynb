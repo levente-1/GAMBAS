{
 "cells": [
  {
   "cell_type": "code",
   "execution_count": 1,
   "metadata": {},
   "outputs": [],
   "source": [
    "import os\n",
    "from options.test_options import TestOptions\n",
    "import sys\n",
    "from utils.NiftiDataset import *\n",
    "import utils.NiftiDataset as NiftiDataset_testing\n",
    "from torch.utils.data import DataLoader\n",
    "from models import create_model\n",
    "import math\n",
    "from torch.autograd import Variable\n",
    "from tqdm import tqdm\n",
    "import datetime"
   ]
  },
  {
   "cell_type": "code",
   "execution_count": 2,
   "metadata": {},
   "outputs": [],
   "source": [
    "def from_numpy_to_itk(image_np, image_itk):\n",
    "    image_np = np.transpose(image_np, (2, 1, 0))\n",
    "    image = sitk.GetImageFromArray(image_np)\n",
    "    image.SetOrigin(image_itk.GetOrigin())\n",
    "    image.SetDirection(image_itk.GetDirection())\n",
    "    image.SetSpacing(image_itk.GetSpacing())\n",
    "    return image"
   ]
  },
  {
   "cell_type": "code",
   "execution_count": 3,
   "metadata": {},
   "outputs": [],
   "source": [
    "def prepare_batch(image, ijk_patch_indices):\n",
    "    image_batches = []\n",
    "    for batch in ijk_patch_indices:\n",
    "        image_batch = []\n",
    "        for patch in batch:\n",
    "            image_patch = image[patch[0]:patch[1], patch[2]:patch[3], patch[4]:patch[5]]\n",
    "            image_batch.append(image_patch)\n",
    "\n",
    "        image_batch = np.asarray(image_batch)\n",
    "        # image_batch = image_batch[:, :, :, :, np.newaxis]\n",
    "        image_batches.append(image_batch)\n",
    "\n",
    "        print(image_batch.shape)\n",
    "\n",
    "    return image_batches"
   ]
  },
  {
   "cell_type": "markdown",
   "metadata": {},
   "source": [
    "### Load image"
   ]
  },
  {
   "cell_type": "code",
   "execution_count": 4,
   "metadata": {},
   "outputs": [],
   "source": [
    "reader = sitk.ImageFileReader()\n",
    "reader.SetFileName('/media/hdd/levibaljer/ExperimentingKhula/images/0.nii.gz')\n",
    "image = reader.Execute()"
   ]
  },
  {
   "cell_type": "code",
   "execution_count": 5,
   "metadata": {},
   "outputs": [],
   "source": [
    "reader2 = sitk.ImageFileReader()\n",
    "reader2.SetFileName('/media/hdd/levibaljer/ExperimentingKhula/labels/0.nii.gz')\n",
    "label = reader2.Execute()"
   ]
  },
  {
   "cell_type": "code",
   "execution_count": 6,
   "metadata": {},
   "outputs": [
    {
     "name": "stdout",
     "output_type": "stream",
     "text": [
      "<class 'SimpleITK.SimpleITK.Image'>\n"
     ]
    }
   ],
   "source": [
    "print(type(image))"
   ]
  },
  {
   "cell_type": "code",
   "execution_count": 7,
   "metadata": {},
   "outputs": [
    {
     "name": "stdout",
     "output_type": "stream",
     "text": [
      "<class 'SimpleITK.SimpleITK.Image'>\n"
     ]
    }
   ],
   "source": [
    "print(type(label))"
   ]
  },
  {
   "cell_type": "markdown",
   "metadata": {},
   "source": [
    "### Check Intensity range"
   ]
  },
  {
   "cell_type": "code",
   "execution_count": 8,
   "metadata": {},
   "outputs": [],
   "source": [
    "filter = sitk.MinimumMaximumImageFilter()\n",
    "filter.Execute(image);\n",
    "ImageHighestIntensity = filter.GetMaximum();\n",
    "ImageLowestIntensity = filter.GetMinimum();"
   ]
  },
  {
   "cell_type": "code",
   "execution_count": 9,
   "metadata": {},
   "outputs": [
    {
     "name": "stdout",
     "output_type": "stream",
     "text": [
      "64013.0\n",
      "0.0\n"
     ]
    }
   ],
   "source": [
    "print(ImageHighestIntensity)\n",
    "print(ImageLowestIntensity)"
   ]
  },
  {
   "cell_type": "markdown",
   "metadata": {},
   "source": [
    "### Check Intensity range after Normalization"
   ]
  },
  {
   "cell_type": "code",
   "execution_count": 10,
   "metadata": {},
   "outputs": [],
   "source": [
    "image = Normalization(image)"
   ]
  },
  {
   "cell_type": "code",
   "execution_count": 11,
   "metadata": {},
   "outputs": [],
   "source": [
    "label = Normalization(label)"
   ]
  },
  {
   "cell_type": "code",
   "execution_count": 12,
   "metadata": {},
   "outputs": [],
   "source": [
    "filter = sitk.MinimumMaximumImageFilter()\n",
    "filter.Execute(image);\n",
    "ImageHighestIntensity = filter.GetMaximum();\n",
    "ImageLowestIntensity = filter.GetMinimum();"
   ]
  },
  {
   "cell_type": "code",
   "execution_count": 13,
   "metadata": {},
   "outputs": [
    {
     "name": "stdout",
     "output_type": "stream",
     "text": [
      "254.99999999999997\n",
      "0.0\n"
     ]
    }
   ],
   "source": [
    "print(ImageHighestIntensity)\n",
    "print(ImageLowestIntensity)"
   ]
  },
  {
   "cell_type": "markdown",
   "metadata": {},
   "source": [
    "### Additional Preproc"
   ]
  },
  {
   "cell_type": "code",
   "execution_count": 14,
   "metadata": {},
   "outputs": [],
   "source": [
    "castImageFilter = sitk.CastImageFilter()\n",
    "castImageFilter.SetOutputPixelType(sitk.sitkFloat32)\n",
    "image = castImageFilter.Execute(image)"
   ]
  },
  {
   "cell_type": "code",
   "execution_count": 15,
   "metadata": {},
   "outputs": [],
   "source": [
    "label = castImageFilter.Execute(label)"
   ]
  },
  {
   "cell_type": "code",
   "execution_count": 16,
   "metadata": {},
   "outputs": [],
   "source": [
    "# create empty label in pair with transformed image\n",
    "label_tfm = sitk.Image(image.GetSize(), sitk.sitkFloat32)\n",
    "label_tfm.SetOrigin(image.GetOrigin())\n",
    "label_tfm.SetDirection(image.GetDirection())\n",
    "label_tfm.SetSpacing(image.GetSpacing())"
   ]
  },
  {
   "cell_type": "code",
   "execution_count": 17,
   "metadata": {},
   "outputs": [
    {
     "name": "stdout",
     "output_type": "stream",
     "text": [
      "(144, 256, 256)\n"
     ]
    }
   ],
   "source": [
    "print(image.GetSize())"
   ]
  },
  {
   "cell_type": "markdown",
   "metadata": {},
   "source": [
    "### Preparing variables for patch-wise prediction"
   ]
  },
  {
   "cell_type": "code",
   "execution_count": 18,
   "metadata": {},
   "outputs": [],
   "source": [
    "sample = {'image': image, 'label': label_tfm}"
   ]
  },
  {
   "cell_type": "code",
   "execution_count": 19,
   "metadata": {},
   "outputs": [],
   "source": [
    "transforms1 = [\n",
    "        NiftiDataset_testing.Resample((0.45, 0.45, 0.45), False)\n",
    "    ]\n",
    "\n",
    "transforms2 = [\n",
    "    NiftiDataset_testing.Padding((128, 128, 64))\n",
    "]"
   ]
  },
  {
   "cell_type": "code",
   "execution_count": 20,
   "metadata": {},
   "outputs": [],
   "source": [
    "for transform in transforms1:\n",
    "    sample = transform(sample)"
   ]
  },
  {
   "cell_type": "code",
   "execution_count": 21,
   "metadata": {},
   "outputs": [],
   "source": [
    "image_tfm, label_tfm = sample['image'], sample['label']"
   ]
  },
  {
   "cell_type": "code",
   "execution_count": 22,
   "metadata": {},
   "outputs": [],
   "source": [
    "# convert image to numpy array\n",
    "image_np = sitk.GetArrayFromImage(image_tfm)\n",
    "label_np = sitk.GetArrayFromImage(label_tfm)\n",
    "\n",
    "label_np = np.asarray(label_np, np.float32)\n",
    "\n",
    "# unify numpy and sitk orientation\n",
    "image_np = np.transpose(image_np, (2, 1, 0))\n",
    "label_np = np.transpose(label_np, (2, 1, 0))"
   ]
  },
  {
   "cell_type": "code",
   "execution_count": 24,
   "metadata": {},
   "outputs": [],
   "source": [
    "# keeping track on how much padding will be performed before the inference\n",
    "image_array = sitk.GetArrayFromImage(sample['image'])\n",
    "pad_x = 128 - (128 - image_array.shape[2])\n",
    "pad_y = 128 - (128 - image_array.shape[1])\n",
    "pad_z = 64 - (64 - image_array.shape[0])\n",
    "\n",
    "image_pre_pad = sample['image']"
   ]
  },
  {
   "cell_type": "code",
   "execution_count": 25,
   "metadata": {},
   "outputs": [
    {
     "name": "stdout",
     "output_type": "stream",
     "text": [
      "(144, 256, 256)\n"
     ]
    }
   ],
   "source": [
    "print(image_np.shape)"
   ]
  },
  {
   "cell_type": "markdown",
   "metadata": {},
   "source": [
    "### Carrying out patch-wise prediction"
   ]
  },
  {
   "cell_type": "code",
   "execution_count": 26,
   "metadata": {},
   "outputs": [],
   "source": [
    "inum = int(math.ceil((image_np.shape[0] - 128) / float(32))) + 1\n",
    "jnum = int(math.ceil((image_np.shape[1] - 128) / float(32))) + 1\n",
    "knum = int(math.ceil((image_np.shape[2] - 64) / float(32))) + 1"
   ]
  },
  {
   "cell_type": "code",
   "execution_count": 27,
   "metadata": {},
   "outputs": [
    {
     "name": "stdout",
     "output_type": "stream",
     "text": [
      "2 5 7\n"
     ]
    }
   ],
   "source": [
    "print(inum, jnum, knum)"
   ]
  },
  {
   "cell_type": "code",
   "execution_count": 28,
   "metadata": {},
   "outputs": [],
   "source": [
    "patch_total = 0\n",
    "ijk_patch_indices = []\n",
    "ijk_patch_indicies_tmp = []"
   ]
  },
  {
   "cell_type": "code",
   "execution_count": 29,
   "metadata": {},
   "outputs": [],
   "source": [
    "for i in range(inum):\n",
    "    for j in range(jnum):\n",
    "        for k in range(knum):\n",
    "            if patch_total % 1 == 0:\n",
    "                ijk_patch_indicies_tmp = []\n",
    "\n",
    "            istart = i * 32\n",
    "            if istart + 128 > image_np.shape[0]:  # for last patch\n",
    "                istart = image_np.shape[0] - 128\n",
    "            iend = istart + 128\n",
    "\n",
    "            jstart = j * 32\n",
    "            if jstart + 128 > image_np.shape[1]:  # for last patch\n",
    "                jstart = image_np.shape[1] - 128\n",
    "            jend = jstart + 128\n",
    "\n",
    "            kstart = k * 64\n",
    "            if kstart + 64 > image_np.shape[2]:  # for last patch\n",
    "                kstart = image_np.shape[2] - 64\n",
    "            kend = kstart + 64\n",
    "\n",
    "            ijk_patch_indicies_tmp.append([istart, iend, jstart, jend, kstart, kend])\n",
    "\n",
    "            if patch_total % 1 == 0:\n",
    "                ijk_patch_indices.append(ijk_patch_indicies_tmp)\n",
    "\n",
    "            patch_total += 1"
   ]
  },
  {
   "cell_type": "code",
   "execution_count": 30,
   "metadata": {},
   "outputs": [
    {
     "name": "stdout",
     "output_type": "stream",
     "text": [
      "[[0, 128, 64, 192, 192, 256]]\n"
     ]
    }
   ],
   "source": [
    "print((ijk_patch_indices[19]))"
   ]
  },
  {
   "cell_type": "code",
   "execution_count": 31,
   "metadata": {},
   "outputs": [],
   "source": [
    "ijk_patch_strings = []\n",
    "for ijk_patch in ijk_patch_indices:\n",
    "    ijk_patch_strings.append(' '.join([str(i) for i in ijk_patch[0]]))"
   ]
  },
  {
   "cell_type": "code",
   "execution_count": 32,
   "metadata": {},
   "outputs": [
    {
     "name": "stdout",
     "output_type": "stream",
     "text": [
      "40\n"
     ]
    }
   ],
   "source": [
    "print(len(set(ijk_patch_strings)))"
   ]
  },
  {
   "cell_type": "code",
   "execution_count": 33,
   "metadata": {},
   "outputs": [
    {
     "name": "stdout",
     "output_type": "stream",
     "text": [
      "[4, 5, 6, 11, 12, 13, 18, 19, 20, 25, 26, 27, 32, 33, 34, 39, 40, 41, 46, 47, 48, 53, 54, 55, 60, 61, 62, 67, 68, 69]\n"
     ]
    }
   ],
   "source": [
    "oc_set = set()\n",
    "res = []\n",
    "for idx, val in enumerate(ijk_patch_strings):\n",
    "    if val not in oc_set:\n",
    "        oc_set.add(val)         \n",
    "    else:\n",
    "        res.append(idx)\n",
    "print(res)  "
   ]
  },
  {
   "cell_type": "code",
   "execution_count": 34,
   "metadata": {},
   "outputs": [
    {
     "name": "stdout",
     "output_type": "stream",
     "text": [
      "[0, 1, 2, 3, 7, 8, 9, 10, 14, 15, 16, 17, 21, 22, 23, 24, 28, 29, 30, 31, 35, 36, 37, 38, 42, 43, 44, 45, 49, 50, 51, 52, 56, 57, 58, 59, 63, 64, 65, 66]\n"
     ]
    }
   ],
   "source": [
    "uniques = []\n",
    "for i in range(70):\n",
    "    if i not in res:\n",
    "        uniques.append(i)\n",
    "print(uniques)"
   ]
  },
  {
   "cell_type": "code",
   "execution_count": 35,
   "metadata": {},
   "outputs": [],
   "source": [
    "ijk_patch_indices_unique = []\n",
    "for i in uniques:\n",
    "    ijk_patch_indices_unique.append(ijk_patch_indices[i])"
   ]
  },
  {
   "cell_type": "code",
   "execution_count": 36,
   "metadata": {},
   "outputs": [
    {
     "name": "stdout",
     "output_type": "stream",
     "text": [
      "(1, 128, 128, 64)\n",
      "(1, 128, 128, 64)\n",
      "(1, 128, 128, 64)\n",
      "(1, 128, 128, 64)\n",
      "(1, 128, 128, 64)\n",
      "(1, 128, 128, 64)\n",
      "(1, 128, 128, 64)\n",
      "(1, 128, 128, 64)\n",
      "(1, 128, 128, 64)\n",
      "(1, 128, 128, 64)\n",
      "(1, 128, 128, 64)\n",
      "(1, 128, 128, 64)\n",
      "(1, 128, 128, 64)\n",
      "(1, 128, 128, 64)\n",
      "(1, 128, 128, 64)\n",
      "(1, 128, 128, 64)\n",
      "(1, 128, 128, 64)\n",
      "(1, 128, 128, 64)\n",
      "(1, 128, 128, 64)\n",
      "(1, 128, 128, 64)\n",
      "(1, 128, 128, 64)\n",
      "(1, 128, 128, 64)\n",
      "(1, 128, 128, 64)\n",
      "(1, 128, 128, 64)\n",
      "(1, 128, 128, 64)\n",
      "(1, 128, 128, 64)\n",
      "(1, 128, 128, 64)\n",
      "(1, 128, 128, 64)\n",
      "(1, 128, 128, 64)\n",
      "(1, 128, 128, 64)\n",
      "(1, 128, 128, 64)\n",
      "(1, 128, 128, 64)\n",
      "(1, 128, 128, 64)\n",
      "(1, 128, 128, 64)\n",
      "(1, 128, 128, 64)\n",
      "(1, 128, 128, 64)\n",
      "(1, 128, 128, 64)\n",
      "(1, 128, 128, 64)\n",
      "(1, 128, 128, 64)\n",
      "(1, 128, 128, 64)\n",
      "(1, 128, 128, 64)\n",
      "(1, 128, 128, 64)\n",
      "(1, 128, 128, 64)\n",
      "(1, 128, 128, 64)\n",
      "(1, 128, 128, 64)\n",
      "(1, 128, 128, 64)\n",
      "(1, 128, 128, 64)\n",
      "(1, 128, 128, 64)\n",
      "(1, 128, 128, 64)\n",
      "(1, 128, 128, 64)\n",
      "(1, 128, 128, 64)\n",
      "(1, 128, 128, 64)\n",
      "(1, 128, 128, 64)\n",
      "(1, 128, 128, 64)\n",
      "(1, 128, 128, 64)\n",
      "(1, 128, 128, 64)\n",
      "(1, 128, 128, 64)\n",
      "(1, 128, 128, 64)\n",
      "(1, 128, 128, 64)\n",
      "(1, 128, 128, 64)\n",
      "(1, 128, 128, 64)\n",
      "(1, 128, 128, 64)\n",
      "(1, 128, 128, 64)\n",
      "(1, 128, 128, 64)\n",
      "(1, 128, 128, 64)\n",
      "(1, 128, 128, 64)\n",
      "(1, 128, 128, 64)\n",
      "(1, 128, 128, 64)\n",
      "(1, 128, 128, 64)\n",
      "(1, 128, 128, 64)\n"
     ]
    }
   ],
   "source": [
    "batches = prepare_batch(image_np, ijk_patch_indices)"
   ]
  },
  {
   "cell_type": "code",
   "execution_count": 37,
   "metadata": {},
   "outputs": [
    {
     "name": "stdout",
     "output_type": "stream",
     "text": [
      "(1, 128, 128, 64)\n",
      "(1, 128, 128, 64)\n",
      "(1, 128, 128, 64)\n",
      "(1, 128, 128, 64)\n",
      "(1, 128, 128, 64)\n",
      "(1, 128, 128, 64)\n",
      "(1, 128, 128, 64)\n",
      "(1, 128, 128, 64)\n",
      "(1, 128, 128, 64)\n",
      "(1, 128, 128, 64)\n",
      "(1, 128, 128, 64)\n",
      "(1, 128, 128, 64)\n",
      "(1, 128, 128, 64)\n",
      "(1, 128, 128, 64)\n",
      "(1, 128, 128, 64)\n",
      "(1, 128, 128, 64)\n",
      "(1, 128, 128, 64)\n",
      "(1, 128, 128, 64)\n",
      "(1, 128, 128, 64)\n",
      "(1, 128, 128, 64)\n",
      "(1, 128, 128, 64)\n",
      "(1, 128, 128, 64)\n",
      "(1, 128, 128, 64)\n",
      "(1, 128, 128, 64)\n",
      "(1, 128, 128, 64)\n",
      "(1, 128, 128, 64)\n",
      "(1, 128, 128, 64)\n",
      "(1, 128, 128, 64)\n",
      "(1, 128, 128, 64)\n",
      "(1, 128, 128, 64)\n",
      "(1, 128, 128, 64)\n",
      "(1, 128, 128, 64)\n",
      "(1, 128, 128, 64)\n",
      "(1, 128, 128, 64)\n",
      "(1, 128, 128, 64)\n",
      "(1, 128, 128, 64)\n",
      "(1, 128, 128, 64)\n",
      "(1, 128, 128, 64)\n",
      "(1, 128, 128, 64)\n",
      "(1, 128, 128, 64)\n"
     ]
    }
   ],
   "source": [
    "batches_unique = prepare_batch(image_np, ijk_patch_indices_unique)"
   ]
  },
  {
   "cell_type": "code",
   "execution_count": 51,
   "metadata": {},
   "outputs": [
    {
     "name": "stdout",
     "output_type": "stream",
     "text": [
      "128\n"
     ]
    }
   ],
   "source": [
    "print(len(batches[0][0]))"
   ]
  },
  {
   "cell_type": "code",
   "execution_count": 52,
   "metadata": {},
   "outputs": [
    {
     "name": "stdout",
     "output_type": "stream",
     "text": [
      "torch.Size([1, 1, 128, 128, 64])\n"
     ]
    }
   ],
   "source": [
    "batch = batches[4]\n",
    "\n",
    "batch = (batch - 127.5) / 127.5\n",
    "\n",
    "batch = torch.from_numpy(batch[np.newaxis, :, :, :])\n",
    "\n",
    "print(batch.shape)"
   ]
  },
  {
   "cell_type": "code",
   "execution_count": 53,
   "metadata": {},
   "outputs": [
    {
     "data": {
      "text/plain": [
       "<matplotlib.image.AxesImage at 0x7f8e48026d00>"
      ]
     },
     "execution_count": 53,
     "metadata": {},
     "output_type": "execute_result"
    },
    {
     "data": {
      "image/png": "[encoded data removed]",
      "text/plain": [
       "<Figure size 640x480 with 1 Axes>"
      ]
     },
     "metadata": {},
     "output_type": "display_data"
    }
   ],
   "source": [
    "import matplotlib.pyplot as plt\n",
    "plt.imshow(batch[0, 0, 64, :, :].numpy(), cmap='gray')"
   ]
  },
  {
   "cell_type": "code",
   "execution_count": 54,
   "metadata": {},
   "outputs": [
    {
     "data": {
      "image/png": "[encoded data removed]",
      "text/plain": [
       "<Figure size 640x480 with 1 Axes>"
      ]
     },
     "metadata": {},
     "output_type": "display_data"
    }
   ],
   "source": [
    "import matplotlib.pyplot as plt\n",
    "for i in range(len(batches)):\n",
    "    batch = batches[i]\n",
    "    batch = (batch - 127.5) / 127.5\n",
    "    batch = torch.from_numpy(batch[np.newaxis, :, :, :])\n",
    "    # plt.figure()\n",
    "    plt.imshow(batch[0, 0, 30, :, :].numpy(), cmap='gray')"
   ]
  },
  {
   "cell_type": "code",
   "execution_count": null,
   "metadata": {},
   "outputs": [],
   "source": [
    "# ## Alternative with 64, 64, 64 patches\n",
    "\n",
    "# for i in range(inum):\n",
    "#     for j in range(jnum):\n",
    "#         for k in range(knum):\n",
    "#             if patch_total % 1 == 0:\n",
    "#                 ijk_patch_indicies_tmp = []\n",
    "\n",
    "#             istart = i * 32\n",
    "#             if istart + 64 > image_np.shape[0]:  # for last patch\n",
    "#                 istart = image_np.shape[0] - 64\n",
    "#             iend = istart + 64\n",
    "\n",
    "#             jstart = j * 32\n",
    "#             if jstart + 64 > image_np.shape[1]:  # for last patch\n",
    "#                 jstart = image_np.shape[1] - 64\n",
    "#             jend = jstart + 64\n",
    "\n",
    "#             kstart = k * 64\n",
    "#             if kstart + 64 > image_np.shape[2]:  # for last patch\n",
    "#                 kstart = image_np.shape[2] - 64\n",
    "#             kend = kstart + 64\n",
    "\n",
    "#             ijk_patch_indicies_tmp.append([istart, iend, jstart, jend, kstart, kend])\n",
    "\n",
    "#             if patch_total % 1 == 0:\n",
    "#                 ijk_patch_indices.append(ijk_patch_indicies_tmp)\n",
    "\n",
    "#             patch_total += 1"
   ]
  },
  {
   "cell_type": "markdown",
   "metadata": {},
   "source": [
    "## Trying out random crop and modifying"
   ]
  },
  {
   "cell_type": "code",
   "execution_count": 88,
   "metadata": {},
   "outputs": [],
   "source": [
    "reader = sitk.ImageFileReader()\n",
    "reader.SetFileName('/media/hdd/levibaljer/ExperimentingKhula/images/0.nii.gz')\n",
    "image = reader.Execute()"
   ]
  },
  {
   "cell_type": "code",
   "execution_count": 89,
   "metadata": {},
   "outputs": [],
   "source": [
    "reader2 = sitk.ImageFileReader()\n",
    "reader2.SetFileName('/media/hdd/levibaljer/ExperimentingKhula/labels/0.nii.gz')\n",
    "label = reader2.Execute()"
   ]
  },
  {
   "cell_type": "code",
   "execution_count": 45,
   "metadata": {},
   "outputs": [],
   "source": [
    "image = Normalization(image)\n",
    "label = Normalization(label)\n",
    "\n",
    "castImageFilter = sitk.CastImageFilter()\n",
    "castImageFilter.SetOutputPixelType(sitk.sitkFloat32)\n",
    "\n",
    "image = castImageFilter.Execute(image)\n",
    "label = castImageFilter.Execute(label)"
   ]
  },
  {
   "cell_type": "code",
   "execution_count": 48,
   "metadata": {},
   "outputs": [],
   "source": [
    "image_np_test = sitk.GetArrayFromImage(image)\n",
    "label_np_test = sitk.GetArrayFromImage(label)\n",
    "\n",
    "image_np_test = np.asarray(image_np_test, np.float32)\n",
    "label_np_test = np.asarray(label_np_test, np.float32)\n",
    "\n",
    "# unify numpy and sitk orientation\n",
    "image_np_test = np.transpose(image_np_test, (2, 1, 0))\n",
    "label_np_test = np.transpose(label_np_test, (2, 1, 0))"
   ]
  },
  {
   "cell_type": "code",
   "execution_count": 49,
   "metadata": {},
   "outputs": [
    {
     "name": "stdout",
     "output_type": "stream",
     "text": [
      "(144, 256, 256)\n"
     ]
    }
   ],
   "source": [
    "print(image_np_test.shape)"
   ]
  },
  {
   "cell_type": "code",
   "execution_count": 50,
   "metadata": {},
   "outputs": [
    {
     "name": "stdout",
     "output_type": "stream",
     "text": [
      "24.02887\n"
     ]
    }
   ],
   "source": [
    "print((image_np_test[100, 100, 40]))"
   ]
  },
  {
   "cell_type": "code",
   "execution_count": 51,
   "metadata": {},
   "outputs": [],
   "source": [
    "def prepare_batch_pairs(image, label, ijk_patch_indices):\n",
    "    image_batches = []\n",
    "    for batch in ijk_patch_indices:\n",
    "        image_batch = []\n",
    "        for patch in batch:\n",
    "            image_patch = image[patch[0]:patch[1], patch[2]:patch[3], patch[4]:patch[5]]\n",
    "            image_batch.append(image_patch)\n",
    "\n",
    "        image_batch = np.asarray(image_batch)\n",
    "        # image_batch = image_batch[:, :, :, :, np.newaxis]\n",
    "        image_batches.append(image_batch)\n",
    "        print(image_batch.shape)\n",
    "\n",
    "    label_batches = []\n",
    "    for batch in ijk_patch_indices:\n",
    "        label_batch = []\n",
    "        for patch in batch:\n",
    "            label_patch = label[patch[0]:patch[1], patch[2]:patch[3], patch[4]:patch[5]]\n",
    "            label_batch.append(label_patch)\n",
    "\n",
    "        label_batch = np.asarray(label_batch)\n",
    "        # label_batch = label_batch[:, :, :, :, np.newaxis]\n",
    "        label_batches.append(label_batch)\n",
    "        print(label_batch.shape)\n",
    "\n",
    "    return image_batches, label_batches"
   ]
  },
  {
   "cell_type": "code",
   "execution_count": 53,
   "metadata": {},
   "outputs": [
    {
     "name": "stdout",
     "output_type": "stream",
     "text": [
      "(1, 128, 128, 64)\n",
      "(1, 128, 128, 64)\n",
      "(1, 128, 128, 64)\n",
      "(1, 128, 128, 64)\n",
      "(1, 128, 128, 64)\n",
      "(1, 128, 128, 64)\n",
      "(1, 128, 128, 64)\n",
      "(1, 128, 128, 64)\n",
      "(1, 128, 128, 64)\n",
      "(1, 128, 128, 64)\n",
      "(1, 128, 128, 64)\n",
      "(1, 128, 128, 64)\n",
      "(1, 128, 128, 64)\n",
      "(1, 128, 128, 64)\n",
      "(1, 128, 128, 64)\n",
      "(1, 128, 128, 64)\n",
      "(1, 128, 128, 64)\n",
      "(1, 128, 128, 64)\n",
      "(1, 128, 128, 64)\n",
      "(1, 128, 128, 64)\n",
      "(1, 128, 128, 64)\n",
      "(1, 128, 128, 64)\n",
      "(1, 128, 128, 64)\n",
      "(1, 128, 128, 64)\n",
      "(1, 128, 128, 64)\n",
      "(1, 128, 128, 64)\n",
      "(1, 128, 128, 64)\n",
      "(1, 128, 128, 64)\n",
      "(1, 128, 128, 64)\n",
      "(1, 128, 128, 64)\n",
      "(1, 128, 128, 64)\n",
      "(1, 128, 128, 64)\n",
      "(1, 128, 128, 64)\n",
      "(1, 128, 128, 64)\n",
      "(1, 128, 128, 64)\n",
      "(1, 128, 128, 64)\n",
      "(1, 128, 128, 64)\n",
      "(1, 128, 128, 64)\n",
      "(1, 128, 128, 64)\n",
      "(1, 128, 128, 64)\n",
      "(1, 128, 128, 64)\n",
      "(1, 128, 128, 64)\n",
      "(1, 128, 128, 64)\n",
      "(1, 128, 128, 64)\n",
      "(1, 128, 128, 64)\n",
      "(1, 128, 128, 64)\n",
      "(1, 128, 128, 64)\n",
      "(1, 128, 128, 64)\n",
      "(1, 128, 128, 64)\n",
      "(1, 128, 128, 64)\n",
      "(1, 128, 128, 64)\n",
      "(1, 128, 128, 64)\n",
      "(1, 128, 128, 64)\n",
      "(1, 128, 128, 64)\n",
      "(1, 128, 128, 64)\n",
      "(1, 128, 128, 64)\n",
      "(1, 128, 128, 64)\n",
      "(1, 128, 128, 64)\n",
      "(1, 128, 128, 64)\n",
      "(1, 128, 128, 64)\n",
      "(1, 128, 128, 64)\n",
      "(1, 128, 128, 64)\n",
      "(1, 128, 128, 64)\n",
      "(1, 128, 128, 64)\n",
      "(1, 128, 128, 64)\n",
      "(1, 128, 128, 64)\n",
      "(1, 128, 128, 64)\n",
      "(1, 128, 128, 64)\n",
      "(1, 128, 128, 64)\n",
      "(1, 128, 128, 64)\n",
      "(1, 128, 128, 64)\n",
      "(1, 128, 128, 64)\n",
      "(1, 128, 128, 64)\n",
      "(1, 128, 128, 64)\n",
      "(1, 128, 128, 64)\n",
      "(1, 128, 128, 64)\n",
      "(1, 128, 128, 64)\n",
      "(1, 128, 128, 64)\n",
      "(1, 128, 128, 64)\n",
      "(1, 128, 128, 64)\n",
      "(1, 128, 128, 64)\n",
      "(1, 128, 128, 64)\n",
      "(1, 128, 128, 64)\n",
      "(1, 128, 128, 64)\n",
      "(1, 128, 128, 64)\n",
      "(1, 128, 128, 64)\n",
      "(1, 128, 128, 64)\n",
      "(1, 128, 128, 64)\n",
      "(1, 128, 128, 64)\n",
      "(1, 128, 128, 64)\n",
      "(1, 128, 128, 64)\n",
      "(1, 128, 128, 64)\n",
      "(1, 128, 128, 64)\n",
      "(1, 128, 128, 64)\n",
      "(1, 128, 128, 64)\n",
      "(1, 128, 128, 64)\n",
      "(1, 128, 128, 64)\n",
      "(1, 128, 128, 64)\n",
      "(1, 128, 128, 64)\n",
      "(1, 128, 128, 64)\n",
      "(1, 128, 128, 64)\n",
      "(1, 128, 128, 64)\n",
      "(1, 128, 128, 64)\n",
      "(1, 128, 128, 64)\n",
      "(1, 128, 128, 64)\n",
      "(1, 128, 128, 64)\n",
      "(1, 128, 128, 64)\n",
      "(1, 128, 128, 64)\n",
      "(1, 128, 128, 64)\n",
      "(1, 128, 128, 64)\n",
      "(1, 128, 128, 64)\n",
      "(1, 128, 128, 64)\n",
      "(1, 128, 128, 64)\n",
      "(1, 128, 128, 64)\n",
      "(1, 128, 128, 64)\n",
      "(1, 128, 128, 64)\n",
      "(1, 128, 128, 64)\n",
      "(1, 128, 128, 64)\n",
      "(1, 128, 128, 64)\n",
      "(1, 128, 128, 64)\n",
      "(1, 128, 128, 64)\n",
      "(1, 128, 128, 64)\n",
      "(1, 128, 128, 64)\n",
      "(1, 128, 128, 64)\n",
      "(1, 128, 128, 64)\n",
      "(1, 128, 128, 64)\n",
      "(1, 128, 128, 64)\n",
      "(1, 128, 128, 64)\n",
      "(1, 128, 128, 64)\n",
      "(1, 128, 128, 64)\n",
      "(1, 128, 128, 64)\n",
      "(1, 128, 128, 64)\n",
      "(1, 128, 128, 64)\n",
      "(1, 128, 128, 64)\n",
      "(1, 128, 128, 64)\n",
      "(1, 128, 128, 64)\n",
      "(1, 128, 128, 64)\n",
      "(1, 128, 128, 64)\n",
      "(1, 128, 128, 64)\n",
      "(1, 128, 128, 64)\n"
     ]
    }
   ],
   "source": [
    "batch_pairs = prepare_batch_pairs(image_np_test, label_np_test, ijk_patch_indices)"
   ]
  },
  {
   "cell_type": "code",
   "execution_count": 55,
   "metadata": {},
   "outputs": [
    {
     "name": "stdout",
     "output_type": "stream",
     "text": [
      "<class 'tuple'>\n"
     ]
    }
   ],
   "source": [
    "print(type(batch_pairs))"
   ]
  },
  {
   "cell_type": "code",
   "execution_count": 65,
   "metadata": {},
   "outputs": [
    {
     "name": "stdout",
     "output_type": "stream",
     "text": [
      "torch.Size([1, 1, 128, 128, 64])\n",
      "torch.Size([1, 1, 128, 128, 64])\n"
     ]
    }
   ],
   "source": [
    "image_sample = batch_pairs[0][35]\n",
    "label_sample = batch_pairs[1][35]\n",
    "\n",
    "image_sample = (image_sample - 127.5) / 127.5\n",
    "label_sample = (label_sample - 127.5) / 127.5\n",
    "\n",
    "image_sample = torch.from_numpy(image_sample[np.newaxis, :, :, :])\n",
    "label_sample = torch.from_numpy(label_sample[np.newaxis, :, :, :])\n",
    "\n",
    "print(image_sample.shape)\n",
    "print(label_sample.shape)"
   ]
  },
  {
   "cell_type": "code",
   "execution_count": 68,
   "metadata": {},
   "outputs": [
    {
     "data": {
      "text/plain": [
       "<matplotlib.image.AxesImage at 0x7f78451d9c10>"
      ]
     },
     "execution_count": 68,
     "metadata": {},
     "output_type": "execute_result"
    },
    {
     "data": {
      "image/png": "[encoded data removed]",
      "text/plain": [
       "<Figure size 640x480 with 1 Axes>"
      ]
     },
     "metadata": {},
     "output_type": "display_data"
    },
    {
     "data": {
      "image/png": "[encoded data removed]",
      "text/plain": [
       "<Figure size 640x480 with 1 Axes>"
      ]
     },
     "metadata": {},
     "output_type": "display_data"
    }
   ],
   "source": [
    "import matplotlib.pyplot as plt\n",
    "\n",
    "plt.figure()\n",
    "plt.imshow(image_sample[0, 0, 34, :, :].numpy(), cmap='gray')\n",
    "plt.figure()\n",
    "plt.imshow(label_sample[0, 0, 34, :, :].numpy(), cmap='gray')"
   ]
  },
  {
   "cell_type": "markdown",
   "metadata": {},
   "source": [
    "## Final Test - looks like the thresholding doesn't remove any patches\n",
    "### Only removes once threshold gets to 1M - i.e all patches contain a fair amount of label"
   ]
  },
  {
   "cell_type": "code",
   "execution_count": 69,
   "metadata": {},
   "outputs": [],
   "source": [
    "reader = sitk.ImageFileReader()\n",
    "reader.SetFileName('/media/hdd/levibaljer/ExperimentingKhula/images/0.nii.gz')\n",
    "image = reader.Execute()"
   ]
  },
  {
   "cell_type": "code",
   "execution_count": 70,
   "metadata": {},
   "outputs": [],
   "source": [
    "reader2 = sitk.ImageFileReader()\n",
    "reader2.SetFileName('/media/hdd/levibaljer/ExperimentingKhula/labels/0.nii.gz')\n",
    "label = reader2.Execute()"
   ]
  },
  {
   "cell_type": "markdown",
   "metadata": {},
   "source": [
    "### These are the only preprocessing steps applied in the dataset:"
   ]
  },
  {
   "cell_type": "code",
   "execution_count": 71,
   "metadata": {},
   "outputs": [],
   "source": [
    "image = Normalization(image)\n",
    "label = Normalization(label)\n",
    "\n",
    "castImageFilter = sitk.CastImageFilter()\n",
    "castImageFilter.SetOutputPixelType(sitk.sitkFloat32)\n",
    "\n",
    "image = castImageFilter.Execute(image)\n",
    "label = castImageFilter.Execute(label)"
   ]
  },
  {
   "cell_type": "code",
   "execution_count": 80,
   "metadata": {},
   "outputs": [
    {
     "name": "stdout",
     "output_type": "stream",
     "text": [
      "(144, 256, 256)\n"
     ]
    }
   ],
   "source": [
    "print(image.GetSize())"
   ]
  },
  {
   "cell_type": "markdown",
   "metadata": {},
   "source": [
    "### Now obtain a patch from ijk patch indices (unique):"
   ]
  },
  {
   "cell_type": "code",
   "execution_count": 79,
   "metadata": {},
   "outputs": [
    {
     "name": "stdout",
     "output_type": "stream",
     "text": [
      "[16, 144, 128, 256, 192, 256]\n"
     ]
    }
   ],
   "source": [
    "patch_coord = ijk_patch_indices_unique[39][0]\n",
    "print(patch_coord)"
   ]
  },
  {
   "cell_type": "code",
   "execution_count": 81,
   "metadata": {},
   "outputs": [
    {
     "name": "stdout",
     "output_type": "stream",
     "text": [
      "(144, 256, 256)\n"
     ]
    }
   ],
   "source": [
    "size_old = image.GetSize()\n",
    "print(size_old)\n",
    "size_new = (128, 128, 64)"
   ]
  },
  {
   "cell_type": "code",
   "execution_count": 82,
   "metadata": {},
   "outputs": [],
   "source": [
    "roiFilter = sitk.RegionOfInterestImageFilter()\n",
    "roiFilter.SetSize([size_new[0], size_new[1], size_new[2]])"
   ]
  },
  {
   "cell_type": "code",
   "execution_count": 84,
   "metadata": {},
   "outputs": [],
   "source": [
    "roiFilter.SetIndex([patch_coord[0], patch_coord[2], patch_coord[4]])\n",
    "\n",
    "threshold = sitk.BinaryThresholdImageFilter()\n",
    "threshold.SetLowerThreshold(1)\n",
    "threshold.SetUpperThreshold(255)\n",
    "threshold.SetInsideValue(1)\n",
    "threshold.SetOutsideValue(0)\n",
    "mask = threshold.Execute(label)\n",
    "mask_cropped = roiFilter.Execute(mask)\n",
    "label_crop = roiFilter.Execute(label)\n",
    "statFilter = sitk.StatisticsImageFilter()\n",
    "statFilter.Execute(mask_cropped)  # mine for GANs\n",
    "\n",
    "if statFilter.GetSum() < 0.1:\n",
    "    print('No label')"
   ]
  },
  {
   "cell_type": "code",
   "execution_count": null,
   "metadata": {},
   "outputs": [],
   "source": [
    "threshold = sitk.BinaryThresholdImageFilter()\n",
    "threshold.SetLowerThreshold(1)\n",
    "threshold.SetUpperThreshold(255)\n",
    "threshold.SetInsideValue(1)\n",
    "threshold.SetOutsideValue(0)\n",
    "mask = threshold.Execute(label)\n",
    "mask_cropped = roiFilter.Execute(mask)\n",
    "label_crop = roiFilter.Execute(label)\n",
    "statFilter = sitk.StatisticsImageFilter()\n",
    "statFilter.Execute(mask_cropped)  # mine for GANs"
   ]
  },
  {
   "cell_type": "markdown",
   "metadata": {},
   "source": [
    "### All patch coordinates"
   ]
  },
  {
   "cell_type": "code",
   "execution_count": 85,
   "metadata": {},
   "outputs": [],
   "source": [
    "patch_coords = []\n",
    "for i in ijk_patch_indices_unique:\n",
    "    patch_coords.append(i[0])"
   ]
  },
  {
   "cell_type": "code",
   "execution_count": 98,
   "metadata": {},
   "outputs": [],
   "source": [
    "for i in range(len(patch_coords)):\n",
    "    patch_coord = patch_coords[i]\n",
    "    roiFilter = sitk.RegionOfInterestImageFilter()\n",
    "    roiFilter.SetSize([size_new[0], size_new[1], size_new[2]])\n",
    "    roiFilter.SetIndex([patch_coord[0], patch_coord[2], patch_coord[4]])\n",
    "    threshold = sitk.BinaryThresholdImageFilter()\n",
    "    threshold.SetLowerThreshold(1)\n",
    "    threshold.SetUpperThreshold(255)\n",
    "    threshold.SetInsideValue(1)\n",
    "    threshold.SetOutsideValue(0)\n",
    "    mask = threshold.Execute(label)\n",
    "    mask_cropped = roiFilter.Execute(mask)\n",
    "    label_crop = roiFilter.Execute(label)\n",
    "    statFilter = sitk.StatisticsImageFilter()\n",
    "    statFilter.Execute(mask_cropped)  # mine for GANs\n",
    "    \n",
    "    if statFilter.GetSum() < 1:\n",
    "        print('No label')"
   ]
  },
  {
   "cell_type": "code",
   "execution_count": null,
   "metadata": {},
   "outputs": [],
   "source": []
  }
 ],
 "metadata": {
  "kernelspec": {
   "display_name": "unet",
   "language": "python",
   "name": "python3"
  },
  "language_info": {
   "codemirror_mode": {
    "name": "ipython",
    "version": 3
   },
   "file_extension": ".py",
   "mimetype": "text/x-python",
   "name": "python",
   "nbconvert_exporter": "python",
   "pygments_lexer": "ipython3",
   "version": "3.8.13"
  }
 },
 "nbformat": 4,
 "nbformat_minor": 2
}
