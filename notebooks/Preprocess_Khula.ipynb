{
 "cells": [
  {
   "cell_type": "code",
   "execution_count": 1,
   "metadata": {},
   "outputs": [],
   "source": [
    "import numpy as np\n",
    "import os\n",
    "import os.path as op\n",
    "import glob\n",
    "import shutil\n",
    "import pandas as pd\n",
    "import re"
   ]
  },
  {
   "cell_type": "code",
   "execution_count": 13,
   "metadata": {},
   "outputs": [
    {
     "name": "stdout",
     "output_type": "stream",
     "text": [
      "2.3.1+cu121\n"
     ]
    }
   ],
   "source": [
    "import torch\n",
    "print(torch.__version__)"
   ]
  },
  {
   "cell_type": "code",
   "execution_count": null,
   "metadata": {},
   "outputs": [],
   "source": [
    "import torch\n",
    "torch.cuda.empty_cache()"
   ]
  },
  {
   "cell_type": "code",
   "execution_count": 6,
   "metadata": {},
   "outputs": [
    {
     "name": "stdout",
     "output_type": "stream",
     "text": [
      "0.13.1\n"
     ]
    }
   ],
   "source": [
    "import torchvision\n",
    "print(torchvision.__version__)"
   ]
  },
  {
   "cell_type": "code",
   "execution_count": 3,
   "metadata": {},
   "outputs": [
    {
     "name": "stdout",
     "output_type": "stream",
     "text": [
      "3.8.13 (default, Mar 28 2022, 11:38:47) \n",
      "[GCC 7.5.0]\n"
     ]
    }
   ],
   "source": [
    "import sys\n",
    "print(sys.version)"
   ]
  },
  {
   "cell_type": "code",
   "execution_count": 2,
   "metadata": {},
   "outputs": [],
   "source": [
    "def numericalSort(value):\n",
    "    numbers = re.compile(r'(\\d+)')\n",
    "    parts = numbers.split(value)\n",
    "    parts[1::2] = map(int, parts[1::2])\n",
    "    return parts\n",
    "\n",
    "# Example:\n",
    "# images_list = sorted(images_list, key=numericalSort)"
   ]
  },
  {
   "cell_type": "code",
   "execution_count": 90,
   "metadata": {},
   "outputs": [
    {
     "name": "stdout",
     "output_type": "stream",
     "text": [
      "410\n"
     ]
    }
   ],
   "source": [
    "data_dir_HF = '/Volumes/Data/Khula_HF/raw_download'\n",
    "subjects_HF = os.listdir(data_dir_HF)\n",
    "for i in subjects_HF:\n",
    "    if 'DS' in i:\n",
    "        subjects_HF.remove(i)\n",
    "print(len(subjects_HF))"
   ]
  },
  {
   "cell_type": "code",
   "execution_count": 91,
   "metadata": {},
   "outputs": [
    {
     "name": "stdout",
     "output_type": "stream",
     "text": [
      "964\n"
     ]
    }
   ],
   "source": [
    "data_dir_LF = '/Volumes/Data/Khula_LF/raw_download'\n",
    "subjects_LF = os.listdir(data_dir_LF)\n",
    "for i in subjects_LF:\n",
    "    if 'DS' in i:\n",
    "        subjects_LF.remove(i)\n",
    "\n",
    "subjects_LF = sorted(subjects_LF, key=numericalSort)\n",
    "print(len(subjects_LF))"
   ]
  },
  {
   "cell_type": "code",
   "execution_count": 92,
   "metadata": {},
   "outputs": [],
   "source": [
    "df_HF = pd.read_csv('/Volumes/Data/Khula_HF/Khula_HF.csv')\n",
    "df_LF = pd.read_csv('/Volumes/Data/Khula_LF/Khula_LF.csv')"
   ]
  },
  {
   "cell_type": "code",
   "execution_count": 93,
   "metadata": {},
   "outputs": [],
   "source": [
    "new_HF = '/Volumes/Data/Khula/HF'\n",
    "new_LF = '/Volumes/Data/Khula/LF'"
   ]
  },
  {
   "cell_type": "code",
   "execution_count": 94,
   "metadata": {},
   "outputs": [
    {
     "name": "stdout",
     "output_type": "stream",
     "text": [
      "19145194564_6M\n",
      "19145194564_6M\n",
      "191_11173897_6M\n",
      "191_11173897_6M\n",
      "191_11991799_3M\n",
      "191_11991799_3M\n",
      "191_15763639_3M\n",
      "191_15763639_3M\n",
      "191_15763639_6M\n",
      "191_15763639_6M\n",
      "191_16516486_6M\n",
      "191_16516486_6M\n",
      "191_16743463_6M\n",
      "191_16743463_6M\n",
      "191_17632409_6M\n",
      "191_17825403_3M\n",
      "191_17825403_3M\n",
      "191_17825403_6M\n",
      "191_17825403_6M\n",
      "191_18448260_6M\n",
      "191_18448260_6M\n",
      "191_19175800_3M\n",
      "191_19175800_3M\n",
      "191_19175800_3M\n",
      "191_19175800_3M\n",
      "191_19689453_3M\n",
      "191_19689453_3M\n",
      "191_19689453_6M\n",
      "191_19689453_6M\n",
      "191_23764088_3M\n",
      "191_23764088_3M\n",
      "191_24607513_6M\n",
      "191_24607513_6M\n",
      "191_24613786_3M\n",
      "191_24613786_3M\n",
      "191_25377850_3M\n",
      "191_25377850_3M\n",
      "191_25617222_6M\n",
      "191_25617222_6M\n",
      "191_25881304_3M\n",
      "191_25881304_3M\n",
      "191_25881304_6M\n",
      "191_26240272_6M\n",
      "191_26240272_6M\n",
      "191_26383858_3M\n",
      "191_26383858_3M\n",
      "191_26383858_6M\n",
      "191_26383858_6M\n",
      "191_26476223_6M\n",
      "191_26476223_6M\n",
      "191_26655637_3M\n",
      "191_26655637_3M\n",
      "191_26655637_3M\n",
      "191_26655637_3M\n",
      "191_27024977_3M\n",
      "191_27024977_3M\n",
      "191_27400148_3M\n",
      "191_27400148_3M\n",
      "191_27400148_6M\n",
      "191_27400148_6M\n",
      "191_28097536_6M\n",
      "191_28097536_6M\n",
      "191_28370676_3M\n",
      "191_28370676_3M\n",
      "191_28370676_3M\n",
      "191_28370676_3M\n",
      "191_28370676_6M\n",
      "191_28370676_6M\n",
      "191_29736014_3M\n",
      "191_29736014_3M\n",
      "191_30101104_6M\n",
      "191_30101104_6M\n",
      "191_30130345_3M\n",
      "191_30130345_3M\n",
      "191_30545639_3M\n",
      "191_30545639_3M\n",
      "191_30545639_6M\n",
      "191_30545639_6M\n",
      "191_32406344_6M\n",
      "191_32406344_6M\n",
      "191_34303377_3M\n",
      "191_34303377_3M\n",
      "191_35028047_3M\n",
      "191_35028047_3M\n",
      "191_35028047_3M\n",
      "191_35028047_3M\n",
      "191_35616868_3M\n",
      "191_35616868_3M\n",
      "191_35616868_6M\n",
      "191_35616868_6M\n",
      "191_35655048_6M\n",
      "191_35655048_6M\n",
      "191_35839450_3M\n",
      "191_35839450_3M\n",
      "191_36156882_3M\n",
      "191_36156882_3M\n",
      "191_36156882_6M\n",
      "191_36156882_6M\n",
      "191_37069639_3M\n",
      "191_37069639_3M\n",
      "191_37298891_6M\n",
      "191_37298891_6M\n",
      "191_37298891_6M\n",
      "191_37298891_6M\n",
      "191_37476428_6M\n",
      "191_37476428_6M\n",
      "191_38017803_3M\n",
      "191_38017803_3M\n",
      "191_39728873_3M\n",
      "191_39728873_3M\n",
      "191_40748000_3M\n",
      "191_40748000_3M\n",
      "191_40748000_6M\n",
      "191_40748000_6M\n",
      "191_40772873_3M\n",
      "191_40772873_3M\n",
      "191_40983013_3M\n",
      "191_40983013_3M\n",
      "191_41164115_6M\n",
      "191_41164115_6M\n",
      "191_41185748_6M\n",
      "191_41185748_6M\n",
      "191_41661055_3M\n",
      "191_41661055_3M\n",
      "191_41817868_6M\n",
      "191_41817868_6M\n",
      "191_41926846_3M\n",
      "191_41926846_3M\n",
      "191_42008535_6M\n",
      "191_42008535_6M\n",
      "191_42202758_3M\n",
      "191_42202758_3M\n",
      "191_43443613_6M\n",
      "191_43443613_6M\n",
      "191_43759364_3M\n",
      "191_43759364_3M\n",
      "191_45194564_6M\n",
      "191_45194564_6M\n",
      "191_45931101_6M\n",
      "191_45931101_6M\n",
      "191_46100390_3M\n",
      "191_46100390_3M\n",
      "191_46100390_6M\n",
      "191_46100390_6M\n",
      "191_46252060_3M\n",
      "191_46252060_3M\n",
      "191_46616096_3M\n",
      "191_46616096_3M\n",
      "191_47398487_3M\n",
      "191_47398487_3M\n",
      "191_49513164_6M\n",
      "191_49513164_6M\n",
      "191_54357895_3M\n",
      "191_54357895_3M\n",
      "191_54357895_6M\n",
      "191_54357895_6M\n",
      "191_55191581_3M\n",
      "191_55191581_3M\n",
      "191_55191581_3M\n",
      "191_55191581_3M\n",
      "191_55374194_6M\n",
      "191_55374194_6M\n",
      "191_58945500_6M\n",
      "191_58945500_6M\n",
      "191_61022874_3M\n",
      "191_61022874_3M\n",
      "191_61728800_6M\n",
      "191_61728800_6M\n",
      "191_61743365_3M\n",
      "191_61743365_3M\n",
      "191_61867644_3M\n",
      "191_61867644_3M\n",
      "191_61867644_6M\n",
      "191_61867644_6M\n",
      "191_62910762_3M\n",
      "191_62910762_3M\n",
      "191_63214792_3M\n",
      "191_63214792_3M\n",
      "191_64253579_6M\n",
      "191_64253579_6M\n",
      "191_64253579_3M\n",
      "191_64253579_3M\n",
      "191_64335106_6M\n",
      "191_64335106_6M\n",
      "191_64745710_3M\n",
      "191_64745710_3M\n",
      "191_65146108_3M\n",
      "191_65146108_3M\n",
      "191_65146108_6M\n",
      "191_65146108_6M\n",
      "191_65182291_3M\n",
      "191_65182291_3M\n",
      "191_65700986_3M\n",
      "191_65700986_3M\n",
      "191_65700986_6M\n",
      "191_65700986_6M\n",
      "191_65770204_6M\n",
      "191_65770204_6M\n",
      "191_66480703_3M\n",
      "191_66480703_3M\n",
      "191_66480703_6M\n",
      "191_66480703_6M\n",
      "191_66511850_3M\n",
      "191_66511850_3M\n",
      "191_66815589_6M\n",
      "191_66815589_6M\n",
      "191_67905129_6M\n",
      "191_67905129_6M\n",
      "191_68828978_3M\n",
      "191_68828978_3M\n",
      "191_68828978_6M\n",
      "191_68828978_6M\n",
      "191_70439269_3M\n",
      "191_70439269_3M\n",
      "191_72244244_6M\n",
      "191_72244244_6M\n",
      "191_72986996_3M\n",
      "191_72986996_3M\n",
      "191_73357635_3M\n",
      "191_73357635_3M\n",
      "191_73357635_3M\n",
      "191_73357635_3M\n",
      "191_73357635_3M\n",
      "191_73357635_3M\n",
      "191_75799922_6M\n",
      "191_75799922_6M\n",
      "191_75804093_3M\n",
      "191_75804093_3M\n",
      "191_75903249_3M\n",
      "191_75903249_3M\n",
      "191_76388414_6M\n",
      "191_76388414_6M\n",
      "191_7688414_6M\n",
      "191_7688414_6M\n",
      "191_77157098_6M\n",
      "191_77157098_6M\n",
      "191_78552161_3M\n",
      "191_78552161_3M\n",
      "191_78552161_6M\n",
      "191_78552161_6M\n",
      "191_79186641_3M\n",
      "191_79186641_3M\n",
      "191_79778957_3M\n",
      "191_79778957_3M\n",
      "191_79778957_3M\n",
      "191_79778957_3M\n",
      "191_79778957_6M\n",
      "191_79778957_6M\n",
      "191_80306672_3M\n",
      "191_80306672_3M\n",
      "191_80566139_6M\n",
      "191_80566139_6M\n",
      "191_81903722_3M\n",
      "191_81903722_3M\n",
      "191_82134774_3M\n",
      "191_82134774_3M\n",
      "191_82134774_3M\n",
      "191_82134774_3M\n",
      "191_82220356_6M\n",
      "191_82220356_6M\n",
      "191_83623750_3M\n",
      "191_83623750_3M\n",
      "191_84933542_6M\n",
      "191_84933542_6M\n",
      "191_85821768_6M\n",
      "191_85821768_6M\n",
      "191_86553440_3M\n",
      "191_86553440_3M\n",
      "191_86553440_6M\n",
      "191_86553440_6M\n",
      "191_86973716_3M\n",
      "191_86973716_3M\n",
      "191_87594279_6M\n",
      "191_87594279_6M\n",
      "191_87615223_6M\n",
      "191_87615223_6M\n",
      "191_88659099_6M\n",
      "191_88659099_6M\n",
      "191_91059743_3M\n",
      "191_91059743_3M\n",
      "191_91724418_6M\n",
      "191_91724418_6M\n",
      "191_95740777_3M\n",
      "191_95740777_3M\n",
      "191_95740777_6M\n",
      "191_95740777_6M\n",
      "191_97018029_3M\n",
      "191_97018029_3M\n",
      "191_97018029_6M\n",
      "191_97018029_6M\n",
      "191_97213684_3M\n",
      "191_97213684_3M\n",
      "191_97213684_6M\n",
      "191_97213684_6M\n",
      "191_97735991_3M\n",
      "191_97735991_3M\n",
      "191_97773091_3M\n",
      "191_97773091_3M\n",
      "191_97773091_3M\n",
      "191_97773091_3M\n",
      "191_98498849_3M\n",
      "191_98498849_3M\n",
      "191_98904731_6M\n",
      "191_98904731_6M\n",
      "191_99527898_3M\n",
      "191_99527898_3M\n",
      "191_99799072_3M\n",
      "191_99799072_3M\n",
      "191_30130345_3M\n",
      "191_30130345_3M\n",
      "191_91801361_6M\n",
      "191_91801361_6M\n",
      "191_11991799_12M\n",
      "191_11991799_12M\n",
      "191_17632409_12M\n",
      "191_17632409_12M\n",
      "191_19175800_12M\n",
      "191_19175800_12M\n",
      "191_19689453_12M\n",
      "191_19689453_12M\n",
      "191_24727795_12M\n",
      "191_26240272_12M\n",
      "191_26240272_12M\n",
      "191_26383858_12M\n",
      "191_26383858_12M\n",
      "191_27487331_12M\n",
      "191_27487331_12M\n",
      "191_28370676_12M\n",
      "191_28370676_12M\n",
      "191_30101104_12M\n",
      "191_30130345_12M\n",
      "191_30130345_12M\n",
      "191_30130345_12M\n",
      "191_30130345_12M\n",
      "191_31861014_12M\n",
      "191_31861014_12M\n",
      "191_35193895_12M\n",
      "191_35193895_12M\n",
      "191_35193895_18M\n",
      "191_35193895_18M\n",
      "191_35616868_12M\n",
      "191_35616868_12M\n",
      "191_35616868_12M\n",
      "191_35616868_12M\n",
      "191_35655048_18M\n",
      "191_35655048_18M\n",
      "191_35839450_12M\n",
      "191_35839450_12M\n",
      "191_37069639_12M\n",
      "191_37069639_12M\n",
      "191_38318504_12M\n",
      "191_38318504_12M\n",
      "191_41661055_12M\n",
      "191_41661055_12M\n",
      "191_41926846_12M\n",
      "191_41926846_12M\n",
      "191_42202758_18M\n",
      "191_42202758_18M\n",
      "191_44078145_12M\n",
      "191_44078145_12M\n",
      "191_45931101_12M\n",
      "191_45931101_12M\n",
      "191_46616096_12M\n",
      "191_46616096_12M\n",
      "191_49292365_12M\n",
      "191_49292365_12M\n",
      "191_49513164_12M\n",
      "191_49513164_12M\n",
      "191_61867644_12M\n",
      "191_61867644_12M\n",
      "191_62910762_12M\n",
      "191_62910762_12M\n",
      "191_64253579_12M\n",
      "191_64253579_12M\n",
      "191_65700986_12M\n",
      "191_65700986_12M\n",
      "191_65770204_18M\n",
      "191_65770204_18M\n",
      "191_66271949_12M\n",
      "191_66271949_12M\n",
      "191_66511850_12M\n",
      "191_66511850_12M\n",
      "191_66622988_18M\n",
      "191_66622988_18M\n",
      "191_70439269_12M\n",
      "191_70439269_12M\n",
      "191_74904081_12M\n",
      "191_75799922_12M\n",
      "191_75799922_12M\n",
      "191_77157098_12M\n",
      "191_83623750_12M\n",
      "191_83623750_12M\n",
      "191_86973716_12M\n",
      "191_86973716_12M\n",
      "191_87091749_6M\n",
      "191_87091749_6M\n",
      "191_88659099_12M\n",
      "191_88659099_12M\n",
      "191_91059743_12M\n",
      "191_91059743_12M\n",
      "191_91801361_6M\n",
      "191_91801361_6M\n",
      "191_94399640_12M\n",
      "191_94399640_12M\n",
      "191_95740777_12M\n",
      "191_95740777_12M\n",
      "191_98904731_18M\n",
      "191_98904731_18M\n",
      "191_99527898_12M\n",
      "191_99527898_12M\n"
     ]
    }
   ],
   "source": [
    "for i in subjects_HF:\n",
    "    file = os.listdir(op.join(data_dir_HF, i))\n",
    "    orig_dir = op.join(data_dir_HF, i, file[0])\n",
    "    subject_code = df_HF[df_HF['parent._id'] == i]['subject.code'].values[0][6:-1]\n",
    "    print(subject_code)\n",
    "    new_dir = op.join(new_HF, subject_code)\n",
    "    if not os.path.exists(new_dir):\n",
    "        os.makedirs(new_dir)\n",
    "    shutil.copy2(orig_dir, op.join(new_dir, file[0]))"
   ]
  },
  {
   "cell_type": "code",
   "execution_count": 95,
   "metadata": {},
   "outputs": [],
   "source": [
    "for i in subjects_LF:\n",
    "    file = os.listdir(op.join(data_dir_LF, i))\n",
    "    orig_dir = op.join(data_dir_LF, i, file[0])\n",
    "    subject_code = df_LF[df_LF['parent._id'] == i]['subject.code'].values[0]\n",
    "   \n",
    "    new_dir = op.join(new_LF, subject_code)\n",
    "    if not os.path.exists(new_dir):\n",
    "        os.makedirs(new_dir)\n",
    "    shutil.copy2(orig_dir, op.join(new_dir, file[0]))"
   ]
  },
  {
   "cell_type": "code",
   "execution_count": 99,
   "metadata": {},
   "outputs": [],
   "source": [
    "# Retrieve and sort HF subjects\n",
    "new_HF_subs = os.listdir(new_HF)\n",
    "for i in new_HF_subs:\n",
    "    if 'DS' in i:\n",
    "        new_HF_subs.remove(i)\n",
    "new_HF_subs = sorted(new_HF_subs, key=numericalSort)"
   ]
  },
  {
   "cell_type": "code",
   "execution_count": 101,
   "metadata": {},
   "outputs": [
    {
     "name": "stdout",
     "output_type": "stream",
     "text": [
      "184\n"
     ]
    }
   ],
   "source": [
    "print(len(new_HF_subs))"
   ]
  },
  {
   "cell_type": "code",
   "execution_count": 98,
   "metadata": {},
   "outputs": [
    {
     "name": "stdout",
     "output_type": "stream",
     "text": [
      "191_19175800_3M\n",
      "['12_ABCD_T2W_spc_vnav.nii.gz', '13_ABCD_T2W_spc_vnav.nii.gz', '4_ABCD_T2W_spc_vnav.nii.gz', '5_ABCD_T2W_spc_vnav.nii.gz']\n",
      "191_26655637_3M\n",
      "['10_ABCD_T2W_spc_vnav.nii.gz', '11_ABCD_T2W_spc_vnav.nii.gz', '4_ABCD_T2W_spc_vnav.nii.gz', '5_ABCD_T2W_spc_vnav.nii.gz']\n",
      "191_35028047_3M\n",
      "['12_ABCD_T2W_spc_vnav.nii.gz', '13_ABCD_T2W_spc_vnav.nii.gz', '4_ABCD_T2W_spc_vnav.nii.gz', '5_ABCD_T2W_spc_vnav.nii.gz']\n",
      "191_37298891_6M\n",
      "['15_ABCD_T2w_spc_vNav.nii.gz', '16_ABCD_T2w_spc_vNav.nii.gz', '4_ABCD_T2w_spc_vNav.nii.gz', '5_ABCD_T2w_spc_vNav.nii.gz']\n",
      "191_55191581_3M\n",
      "['16_ABCD_T2W_spc_vnav.nii.gz', '17_ABCD_T2W_spc_vnav.nii.gz', '4_ABCD_T2W_spc_vnav.nii.gz', '5_ABCD_T2W_spc_vnav.nii.gz']\n",
      "191_73357635_3M\n",
      "['12_ABCD_T2W_spc_vnav.nii.gz', '13_ABCD_T2W_spc_vnav.nii.gz', '4_ABCD_T2W_spc_vnav.nii.gz', '5_ABCD_T2W_spc_vnav.nii.gz']\n",
      "191_79778957_3M\n",
      "['12_ABCD_T2W_spc_vnav.nii.gz', '13_ABCD_T2W_spc_vnav.nii.gz', '4_ABCD_T2W_spc_vnav.nii.gz', '5_ABCD_T2W_spc_vnav.nii.gz']\n",
      "191_82134774_3M\n",
      "['11_ABCD_T2W_spc_vnav.nii.gz', '12_ABCD_T2W_spc_vnav.nii.gz', '4_ABCD_T2W_spc_vnav.nii.gz', '5_ABCD_T2W_spc_vnav.nii.gz']\n",
      "191_97773091_3M\n",
      "['10_ABCD_T2W_spc_vnav.nii.gz', '4_ABCD_T2W_spc_vnav.nii.gz', '5_ABCD_T2W_spc_vnav.nii.gz', '9_ABCD_T2W_spc_vnav.nii.gz']\n"
     ]
    }
   ],
   "source": [
    "# First, move all subjects with more than 2 files to a new directory (inspect these later)\n",
    "for i in new_HF_subs:\n",
    "    file = os.listdir(op.join(new_HF, i))\n",
    "    if len(file) > 2:\n",
    "        print(i)\n",
    "        print(file)\n",
    "        new_dir = op.join('/Volumes/Data/Khula/extra_HF', i)\n",
    "        if not os.path.exists(new_dir):\n",
    "            os.makedirs(new_dir)\n",
    "\n",
    "        for j in file[:]:\n",
    "            shutil.copy2(op.join(new_HF, i, j), op.join(new_dir, j))\n",
    "            os.remove(op.join(new_HF, i, j))\n",
    "        os.rmdir(op.join(new_HF, i))\n"
   ]
  },
  {
   "cell_type": "code",
   "execution_count": 102,
   "metadata": {},
   "outputs": [],
   "source": [
    "# Retrieve and sort HF subjects\n",
    "new_HF_subs = os.listdir(new_HF)\n",
    "for i in new_HF_subs:\n",
    "    if 'DS' in i:\n",
    "        new_HF_subs.remove(i)\n",
    "new_HF_subs = sorted(new_HF_subs, key=numericalSort)"
   ]
  },
  {
   "cell_type": "code",
   "execution_count": 103,
   "metadata": {},
   "outputs": [
    {
     "name": "stdout",
     "output_type": "stream",
     "text": [
      "191_7688414_6M\n",
      "['4_ABCD_T2W_spc_vnav.nii.gz', '5_ABCD_T2W_spc_vnav.nii.gz']\n",
      "191_11173897_6M\n",
      "['4_ABCD_T2W_spc_vnav.nii.gz', '5_ABCD_T2W_spc_vnav.nii.gz']\n",
      "191_11991799_3M\n",
      "['4_ABCD_T2W_spc_vnav.nii.gz', '5_ABCD_T2W_spc_vnav.nii.gz']\n",
      "191_11991799_12M\n",
      "['4_ABCD_T2w_SPC_vNav.nii.gz', '5_ABCD_T2w_SPC_vNav.nii.gz']\n",
      "191_15763639_3M\n",
      "['4_ABCD_T2W_spc_vnav.nii.gz', '5_ABCD_T2W_spc_vnav.nii.gz']\n",
      "191_15763639_6M\n",
      "['4_ABCD_T2W_spc_vnav.nii.gz', '5_ABCD_T2W_spc_vnav.nii.gz']\n",
      "191_16516486_6M\n",
      "['4_ABCD_T2W_spc_vnav.nii.gz', '5_ABCD_T2W_spc_vnav.nii.gz']\n",
      "191_16743463_6M\n",
      "['4_ABCD_T2W_spc_vnav.nii.gz', '5_ABCD_T2W_spc_vnav.nii.gz']\n",
      "191_17632409_12M\n",
      "['4_ABCD_T2w_SPC_vNav.nii.gz', '5_ABCD_T2w_SPC_vNav.nii.gz']\n",
      "191_17825403_3M\n",
      "['4_ABCD_T2W_spc_vnav.nii.gz', '5_ABCD_T2W_spc_vnav.nii.gz']\n",
      "191_17825403_6M\n",
      "['4_ABCD_T2w_spc_vNav.nii.gz', '5_ABCD_T2w_spc_vNav.nii.gz']\n",
      "191_18448260_6M\n",
      "['4_ABCD_T2w_spc_vNav.nii.gz', '5_ABCD_T2w_spc_vNav.nii.gz']\n",
      "191_19175800_12M\n",
      "['5_ABCD_T2w_SPC_vNav.nii.gz', '6_ABCD_T2w_SPC_vNav.nii.gz']\n",
      "191_19689453_3M\n",
      "['4_ABCD_T2W_spc_vnav.nii.gz', '5_ABCD_T2W_spc_vnav.nii.gz']\n",
      "191_19689453_6M\n",
      "['4_ABCD_T2W_spc_vnav.nii.gz', '5_ABCD_T2W_spc_vnav.nii.gz']\n",
      "191_19689453_12M\n",
      "['4_ABCD_T2w_SPC_vNav.nii.gz', '5_ABCD_T2w_SPC_vNav.nii.gz']\n",
      "191_23764088_3M\n",
      "['7_ABCD_T2W_spc_vnav.nii.gz', '8_ABCD_T2W_spc_vnav.nii.gz']\n",
      "191_24607513_6M\n",
      "['4_ABCD_T2w_spc_vNav.nii.gz', '5_ABCD_T2w_spc_vNav.nii.gz']\n",
      "191_24613786_3M\n",
      "['4_ABCD_T2W_spc_vnav.nii.gz', '5_ABCD_T2W_spc_vnav.nii.gz']\n",
      "191_25377850_3M\n",
      "['4_ABCD_T2W_spc_vnav.nii.gz', '5_ABCD_T2W_spc_vnav.nii.gz']\n",
      "191_25617222_6M\n",
      "['4_ABCD_T2w_spc_vNav.nii.gz', '5_ABCD_T2w_spc_vNav.nii.gz']\n",
      "191_25881304_3M\n",
      "['4_ABCD_T2W_spc_vnav.nii.gz', '5_ABCD_T2W_spc_vnav.nii.gz']\n",
      "191_26240272_6M\n",
      "['7_ABCD_T2W_spc_vnav.nii.gz', '8_ABCD_T2W_spc_vnav.nii.gz']\n",
      "191_26240272_12M\n",
      "['4_ABCD_T2w_SPC_vNav.nii.gz', '5_ABCD_T2w_SPC_vNav.nii.gz']\n",
      "191_26383858_3M\n",
      "['4_ABCD_T2W_spc_vnav.nii.gz', '5_ABCD_T2W_spc_vnav.nii.gz']\n",
      "191_26383858_6M\n",
      "['4_ABCD_T2w_spc_vNav.nii.gz', '5_ABCD_T2w_spc_vNav.nii.gz']\n",
      "191_26383858_12M\n",
      "['4_ABCD_T2w_SPC_vNav.nii.gz', '5_ABCD_T2w_SPC_vNav.nii.gz']\n",
      "191_26476223_6M\n",
      "['4_ABCD_T2W_spc_vnav.nii.gz', '5_ABCD_T2W_spc_vnav.nii.gz']\n",
      "191_27024977_3M\n",
      "['4_ABCD_T2W_spc_vnav.nii.gz', '5_ABCD_T2W_spc_vnav.nii.gz']\n",
      "191_27400148_3M\n",
      "['4_ABCD_T2W_spc_vnav.nii.gz', '5_ABCD_T2W_spc_vnav.nii.gz']\n",
      "191_27400148_6M\n",
      "['4_ABCD_T2w_spc_vNav.nii.gz', '5_ABCD_T2w_spc_vNav.nii.gz']\n",
      "191_27487331_12M\n",
      "['4_ABCD_T2w_SPC_vNav.nii.gz', '5_ABCD_T2w_SPC_vNav.nii.gz']\n",
      "191_28097536_6M\n",
      "['4_ABCD_T2W_spc_vnav.nii.gz', '5_ABCD_T2W_spc_vnav.nii.gz']\n",
      "191_28370676_3M\n",
      "['4_ABCD_T2W_spc_vnav.nii.gz', '5_ABCD_T2W_spc_vnav.nii.gz']\n",
      "191_28370676_6M\n",
      "['4_ABCD_T2W_spc_vnav.nii.gz', '5_ABCD_T2W_spc_vnav.nii.gz']\n",
      "191_28370676_12M\n",
      "['4_ABCD_T2w_SPC_vNav.nii.gz', '5_ABCD_T2w_SPC_vNav.nii.gz']\n",
      "191_29736014_3M\n",
      "['5_ABCD_T2W_spc_vnav.nii.gz', '6_ABCD_T2W_spc_vnav.nii.gz']\n",
      "191_30101104_6M\n",
      "['4_ABCD_T2w_spc_vNav.nii.gz', '5_ABCD_T2w_spc_vNav.nii.gz']\n",
      "191_30130345_3M\n",
      "['4_ABCD_T2W_spc_vnav.nii.gz', '5_ABCD_T2W_spc_vnav.nii.gz']\n",
      "191_30130345_12M\n",
      "['4_ABCD_T2w_SPC_vNav.nii.gz', '5_ABCD_T2w_SPC_vNav.nii.gz']\n",
      "191_30545639_3M\n",
      "['4_ABCD_T2W_spc_vnav.nii.gz', '5_ABCD_T2W_spc_vnav.nii.gz']\n",
      "191_30545639_6M\n",
      "['4_ABCD_T2W_spc_vnav.nii.gz', '5_ABCD_T2W_spc_vnav.nii.gz']\n",
      "191_31861014_12M\n",
      "['4_ABCD_T2w_SPC_vNav.nii.gz', '5_ABCD_T2w_SPC_vNav.nii.gz']\n",
      "191_32406344_6M\n",
      "['4_ABCD_T2W_spc_vnav.nii.gz', '5_ABCD_T2W_spc_vnav.nii.gz']\n",
      "191_34303377_3M\n",
      "['4_ABCD_T2W_spc_vnav.nii.gz', '5_ABCD_T2W_spc_vnav.nii.gz']\n",
      "191_35193895_12M\n",
      "['4_ABCD_T2w_SPC_vNav.nii.gz', '5_ABCD_T2w_SPC_vNav.nii.gz']\n",
      "191_35193895_18M\n",
      "['4_ABCD_T2w_SPC_vNav.nii.gz', '5_ABCD_T2w_SPC_vNav.nii.gz']\n",
      "191_35616868_3M\n",
      "['5_ABCD_T2W_spc_vnav.nii.gz', '8_ABCD_T2W_spc_vnav.nii.gz']\n",
      "191_35616868_6M\n",
      "['4_ABCD_T2W_spc_vnav.nii.gz', '5_ABCD_T2W_spc_vnav.nii.gz']\n",
      "191_35616868_12M\n",
      "['4_ABCD_T2w_SPC_vNav.nii.gz', '5_ABCD_T2w_SPC_vNav.nii.gz']\n",
      "191_35655048_6M\n",
      "['4_ABCD_T2W_spc_vnav.nii.gz', '5_ABCD_T2W_spc_vnav.nii.gz']\n",
      "191_35655048_18M\n",
      "['4_ABCD_T2w_SPC_vNav.nii.gz', '5_ABCD_T2w_SPC_vNav.nii.gz']\n",
      "191_35839450_3M\n",
      "['4_ABCD_T2W_spc_vnav.nii.gz', '5_ABCD_T2W_spc_vnav.nii.gz']\n",
      "191_35839450_12M\n",
      "['4_ABCD_T2w_SPC_vNav.nii.gz', '5_ABCD_T2w_SPC_vNav.nii.gz']\n",
      "191_36156882_3M\n",
      "['4_ABCD_T2W_spc_vnav.nii.gz', '5_ABCD_T2W_spc_vnav.nii.gz']\n",
      "191_36156882_6M\n",
      "['4_ABCD_T2w_spc_vNav.nii.gz', '5_ABCD_T2w_spc_vNav.nii.gz']\n",
      "191_37069639_3M\n",
      "['4_ABCD_T2W_spc_vnav.nii.gz', '5_ABCD_T2W_spc_vnav.nii.gz']\n",
      "191_37069639_12M\n",
      "['5_ABCD_T2w_SPC_vNav.nii.gz', '6_ABCD_T2w_SPC_vNav.nii.gz']\n",
      "191_37476428_6M\n",
      "['4_ABCD_T2w_spc_vNav.nii.gz', '5_ABCD_T2w_spc_vNav.nii.gz']\n",
      "191_38017803_3M\n",
      "['4_ABCD_T2W_spc_vnav.nii.gz', '5_ABCD_T2W_spc_vnav.nii.gz']\n",
      "191_38318504_12M\n",
      "['4_ABCD_T2w_SPC_vNav.nii.gz', '5_ABCD_T2w_SPC_vNav.nii.gz']\n",
      "191_39728873_3M\n",
      "['4_ABCD_T2W_spc_vnav.nii.gz', '5_ABCD_T2W_spc_vnav.nii.gz']\n",
      "191_40748000_3M\n",
      "['4_ABCD_T2W_spc_vnav.nii.gz', '5_ABCD_T2W_spc_vnav.nii.gz']\n",
      "191_40748000_6M\n",
      "['4_ABCD_T2W_spc_vnav.nii.gz', '5_ABCD_T2W_spc_vnav.nii.gz']\n",
      "191_40772873_3M\n",
      "['4_ABCD_T2W_spc_vnav.nii.gz', '5_ABCD_T2W_spc_vnav.nii.gz']\n",
      "191_40983013_3M\n",
      "['5_ABCD_T2W_spc_vnav.nii.gz', '6_ABCD_T2W_spc_vnav.nii.gz']\n",
      "191_41164115_6M\n",
      "['4_ABCD_T2W_spc_vnav.nii.gz', '5_ABCD_T2W_spc_vnav.nii.gz']\n",
      "191_41185748_6M\n",
      "['4_ABCD_T2W_spc_vnav.nii.gz', '5_ABCD_T2W_spc_vnav.nii.gz']\n",
      "191_41661055_3M\n",
      "['4_ABCD_T2W_spc_vnav.nii.gz', '5_ABCD_T2W_spc_vnav.nii.gz']\n",
      "191_41661055_12M\n",
      "['4_ABCD_T2w_SPC_vNav.nii.gz', '5_ABCD_T2w_SPC_vNav.nii.gz']\n",
      "191_41817868_6M\n",
      "['4_ABCD_T2W_spc_vnav.nii.gz', '5_ABCD_T2W_spc_vnav.nii.gz']\n",
      "191_41926846_3M\n",
      "['7_ABCD_T2W_spc_vnav.nii.gz', '8_ABCD_T2W_spc_vnav.nii.gz']\n",
      "191_41926846_12M\n",
      "['4_ABCD_T2w_SPC_vNav.nii.gz', '5_ABCD_T2w_SPC_vNav.nii.gz']\n",
      "191_42008535_6M\n",
      "['4_ABCD_T2W_spc_vnav.nii.gz', '5_ABCD_T2W_spc_vnav.nii.gz']\n",
      "191_42202758_3M\n",
      "['4_ABCD_T2W_spc_vnav.nii.gz', '5_ABCD_T2W_spc_vnav.nii.gz']\n",
      "191_42202758_18M\n",
      "['4_ABCD_T2w_SPC_vNav.nii.gz', '5_ABCD_T2w_SPC_vNav.nii.gz']\n",
      "191_43443613_6M\n",
      "['4_ABCD_T2W_spc_vnav.nii.gz', '5_ABCD_T2W_spc_vnav.nii.gz']\n",
      "191_43759364_3M\n",
      "['4_ABCD_T2W_spc_vnav.nii.gz', '5_ABCD_T2W_spc_vnav.nii.gz']\n",
      "191_44078145_12M\n",
      "['4_ABCD_T2w_SPC_vNav.nii.gz', '5_ABCD_T2w_SPC_vNav.nii.gz']\n",
      "191_45194564_6M\n",
      "['4_ABCD_T2W_spc_vnav.nii.gz', '5_ABCD_T2W_spc_vnav.nii.gz']\n",
      "191_45931101_6M\n",
      "['4_ABCD_T2w_spc_vNav.nii.gz', '5_ABCD_T2w_spc_vNav.nii.gz']\n",
      "191_45931101_12M\n",
      "['4_ABCD_T2w_SPC_vNav.nii.gz', '5_ABCD_T2w_SPC_vNav.nii.gz']\n",
      "191_46100390_3M\n",
      "['4_ABCD_T2W_spc_vnav.nii.gz', '5_ABCD_T2W_spc_vnav.nii.gz']\n",
      "191_46100390_6M\n",
      "['4_ABCD_T2w_spc_vNav.nii.gz', '5_ABCD_T2w_spc_vNav.nii.gz']\n",
      "191_46252060_3M\n",
      "['4_ABCD_T2W_spc_vnav.nii.gz', '5_ABCD_T2W_spc_vnav.nii.gz']\n",
      "191_46616096_3M\n",
      "['4_ABCD_T2W_spc_vnav.nii.gz', '5_ABCD_T2W_spc_vnav.nii.gz']\n",
      "191_46616096_12M\n",
      "['4_ABCD_T2w_SPC_vNav.nii.gz', '5_ABCD_T2w_SPC_vNav.nii.gz']\n",
      "191_47398487_3M\n",
      "['4_ABCD_T2W_spc_vnav.nii.gz', '5_ABCD_T2W_spc_vnav.nii.gz']\n",
      "191_49292365_12M\n",
      "['4_ABCD_T2w_SPC_vNav.nii.gz', '5_ABCD_T2w_SPC_vNav.nii.gz']\n",
      "191_49513164_6M\n",
      "['4_ABCD_T2W_spc_vnav.nii.gz', '5_ABCD_T2W_spc_vnav.nii.gz']\n",
      "191_49513164_12M\n",
      "['4_ABCD_T2w_SPC_vNav.nii.gz', '5_ABCD_T2w_SPC_vNav.nii.gz']\n",
      "191_54357895_3M\n",
      "['7_ABCD_T2W_spc_vnav.nii.gz', '8_ABCD_T2W_spc_vnav.nii.gz']\n",
      "191_54357895_6M\n",
      "['4_ABCD_T2W_spc_vnav.nii.gz', '5_ABCD_T2W_spc_vnav.nii.gz']\n",
      "191_55374194_6M\n",
      "['4_ABCD_T2w_spc_vNav.nii.gz', '5_ABCD_T2w_spc_vNav.nii.gz']\n",
      "191_58945500_6M\n",
      "['4_ABCD_T2W_spc_vnav.nii.gz', '5_ABCD_T2W_spc_vnav.nii.gz']\n",
      "191_61022874_3M\n",
      "['4_ABCD_T2W_spc_vnav.nii.gz', '5_ABCD_T2W_spc_vnav.nii.gz']\n",
      "191_61728800_6M\n",
      "['4_ABCD_T2w_spc_vNav.nii.gz', '5_ABCD_T2w_spc_vNav.nii.gz']\n",
      "191_61743365_3M\n",
      "['4_ABCD_T2W_spc_vnav.nii.gz', '5_ABCD_T2W_spc_vnav.nii.gz']\n",
      "191_61867644_3M\n",
      "['4_ABCD_T2W_spc_vnav.nii.gz', '5_ABCD_T2W_spc_vnav.nii.gz']\n",
      "191_61867644_6M\n",
      "['4_ABCD_T2W_spc_vnav.nii.gz', '5_ABCD_T2W_spc_vnav.nii.gz']\n",
      "191_61867644_12M\n",
      "['4_ABCD_T2w_SPC_vNav.nii.gz', '5_ABCD_T2w_SPC_vNav.nii.gz']\n",
      "191_62910762_3M\n",
      "['7_ABCD_T2W_spc_vnav.nii.gz', '8_ABCD_T2W_spc_vnav.nii.gz']\n",
      "191_62910762_12M\n",
      "['5_ABCD_T2w_SPC_vNav.nii.gz', '6_ABCD_T2w_SPC_vNav.nii.gz']\n",
      "191_63214792_3M\n",
      "['4_ABCD_T2W_spc_vnav.nii.gz', '5_ABCD_T2W_spc_vnav.nii.gz']\n",
      "191_64253579_3M\n",
      "['4_ABCD_T2W_spc_vnav.nii.gz', '5_ABCD_T2W_spc_vnav.nii.gz']\n",
      "191_64253579_6M\n",
      "['4_ABCD_T2W_spc_vnav.nii.gz', '5_ABCD_T2W_spc_vnav.nii.gz']\n",
      "191_64253579_12M\n",
      "['5_ABCD_T2w_SPC_vNav.nii.gz', '6_ABCD_T2w_SPC_vNav.nii.gz']\n",
      "191_64335106_6M\n",
      "['4_ABCD_T2W_spc_vnav.nii.gz', '5_ABCD_T2W_spc_vnav.nii.gz']\n",
      "191_64745710_3M\n",
      "['4_ABCD_T2W_spc_vnav.nii.gz', '5_ABCD_T2W_spc_vnav.nii.gz']\n",
      "191_65146108_3M\n",
      "['4_ABCD_T2W_spc_vnav.nii.gz', '5_ABCD_T2W_spc_vnav.nii.gz']\n",
      "191_65146108_6M\n",
      "['4_ABCD_T2w_spc_vNav.nii.gz', '5_ABCD_T2w_spc_vNav.nii.gz']\n",
      "191_65182291_3M\n",
      "['5_ABCD_T2W_spc_vnav.nii.gz', '6_ABCD_T2W_spc_vnav.nii.gz']\n",
      "191_65700986_3M\n",
      "['4_ABCD_T2W_spc_vnav.nii.gz', '5_ABCD_T2W_spc_vnav.nii.gz']\n",
      "191_65700986_6M\n",
      "['4_ABCD_T2W_spc_vnav.nii.gz', '5_ABCD_T2W_spc_vnav.nii.gz']\n",
      "191_65700986_12M\n",
      "['4_ABCD_T2w_SPC_vNav.nii.gz', '5_ABCD_T2w_SPC_vNav.nii.gz']\n",
      "191_65770204_6M\n",
      "['4_ABCD_T2W_spc_vnav.nii.gz', '5_ABCD_T2W_spc_vnav.nii.gz']\n",
      "191_65770204_18M\n",
      "['4_ABCD_T2w_SPC_vNav.nii.gz', '5_ABCD_T2w_SPC_vNav.nii.gz']\n",
      "191_66271949_12M\n",
      "['4_ABCD_T2w_SPC_vNav.nii.gz', '5_ABCD_T2w_SPC_vNav.nii.gz']\n",
      "191_66480703_3M\n",
      "['4_ABCD_T2W_spc_vnav.nii.gz', '5_ABCD_T2W_spc_vnav.nii.gz']\n",
      "191_66480703_6M\n",
      "['4_ABCD_T2W_spc_vnav.nii.gz', '5_ABCD_T2W_spc_vnav.nii.gz']\n",
      "191_66511850_3M\n",
      "['4_ABCD_T2W_spc_vnav.nii.gz', '5_ABCD_T2W_spc_vnav.nii.gz']\n",
      "191_66511850_12M\n",
      "['4_ABCD_T2w_SPC_vNav.nii.gz', '5_ABCD_T2w_SPC_vNav.nii.gz']\n",
      "191_66622988_18M\n",
      "['4_ABCD_T2w_SPC_vNav.nii.gz', '5_ABCD_T2w_SPC_vNav.nii.gz']\n",
      "191_66815589_6M\n",
      "['4_ABCD_T2w_spc_vNav.nii.gz', '5_ABCD_T2w_spc_vNav.nii.gz']\n",
      "191_67905129_6M\n",
      "['4_ABCD_T2W_spc_vnav.nii.gz', '5_ABCD_T2W_spc_vnav.nii.gz']\n",
      "191_68828978_3M\n",
      "['4_ABCD_T2W_spc_vnav.nii.gz', '5_ABCD_T2W_spc_vnav.nii.gz']\n",
      "191_68828978_6M\n",
      "['4_ABCD_T2W_spc_vnav.nii.gz', '5_ABCD_T2W_spc_vnav.nii.gz']\n",
      "191_70439269_3M\n",
      "['4_ABCD_T2W_spc_vnav.nii.gz', '5_ABCD_T2W_spc_vnav.nii.gz']\n",
      "191_70439269_12M\n",
      "['5_ABCD_T2w_SPC_vNav.nii.gz', '6_ABCD_T2w_SPC_vNav.nii.gz']\n",
      "191_72244244_6M\n",
      "['5_ABCD_T2W_spc_vnav.nii.gz', '6_ABCD_T2W_spc_vnav.nii.gz']\n",
      "191_72986996_3M\n",
      "['4_ABCD_T2W_spc_vnav.nii.gz', '5_ABCD_T2W_spc_vnav.nii.gz']\n",
      "191_75799922_6M\n",
      "['4_ABCD_T2W_spc_vnav.nii.gz', '5_ABCD_T2W_spc_vnav.nii.gz']\n",
      "191_75799922_12M\n",
      "['4_ABCD_T2w_SPC_vNav.nii.gz', '5_ABCD_T2w_SPC_vNav.nii.gz']\n",
      "191_75804093_3M\n",
      "['4_ABCD_T2W_spc_vnav.nii.gz', '5_ABCD_T2W_spc_vnav.nii.gz']\n",
      "191_75903249_3M\n",
      "['4_ABCD_T2W_spc_vnav.nii.gz', '5_ABCD_T2W_spc_vnav.nii.gz']\n",
      "191_76388414_6M\n",
      "['4_ABCD_T2W_spc_vnav.nii.gz', '5_ABCD_T2W_spc_vnav.nii.gz']\n",
      "191_77157098_6M\n",
      "['4_ABCD_T2W_spc_vnav.nii.gz', '5_ABCD_T2W_spc_vnav.nii.gz']\n",
      "191_78552161_3M\n",
      "['4_ABCD_T2W_spc_vnav.nii.gz', '5_ABCD_T2W_spc_vnav.nii.gz']\n",
      "191_78552161_6M\n",
      "['5_ABCD_T2W_spc_vnav.nii.gz', '6_ABCD_T2W_spc_vnav.nii.gz']\n",
      "191_79186641_3M\n",
      "['4_ABCD_T2W_spc_vnav.nii.gz', '5_ABCD_T2W_spc_vnav.nii.gz']\n",
      "191_79778957_6M\n",
      "['4_ABCD_T2w_spc_vNav.nii.gz', '5_ABCD_T2w_spc_vNav.nii.gz']\n",
      "191_80306672_3M\n",
      "['4_ABCD_T2W_spc_vnav.nii.gz', '5_ABCD_T2W_spc_vnav.nii.gz']\n",
      "191_80566139_6M\n",
      "['4_ABCD_T2w_spc_vNav.nii.gz', '5_ABCD_T2w_spc_vNav.nii.gz']\n",
      "191_81903722_3M\n",
      "['4_ABCD_T2W_spc_vnav.nii.gz', '5_ABCD_T2W_spc_vnav.nii.gz']\n",
      "191_82220356_6M\n",
      "['4_ABCD_T2w_spc_vNav.nii.gz', '5_ABCD_T2w_spc_vNav.nii.gz']\n",
      "191_83623750_3M\n",
      "['4_ABCD_T2W_spc_vnav.nii.gz', '5_ABCD_T2W_spc_vnav.nii.gz']\n",
      "191_83623750_12M\n",
      "['4_ABCD_T2w_SPC_vNav.nii.gz', '5_ABCD_T2w_SPC_vNav.nii.gz']\n",
      "191_84933542_6M\n",
      "['4_ABCD_T2w_spc_vNav.nii.gz', '5_ABCD_T2w_spc_vNav.nii.gz']\n",
      "191_85821768_6M\n",
      "['4_ABCD_T2w_spc_vNav.nii.gz', '5_ABCD_T2w_spc_vNav.nii.gz']\n",
      "191_86553440_3M\n",
      "['4_ABCD_T2W_spc_vnav.nii.gz', '5_ABCD_T2W_spc_vnav.nii.gz']\n",
      "191_86553440_6M\n",
      "['4_ABCD_T2W_spc_vnav.nii.gz', '5_ABCD_T2W_spc_vnav.nii.gz']\n",
      "191_86973716_3M\n",
      "['4_ABCD_T2W_spc_vnav.nii.gz', '5_ABCD_T2W_spc_vnav.nii.gz']\n",
      "191_86973716_12M\n",
      "['4_ABCD_T2w_SPC_vNav.nii.gz', '5_ABCD_T2w_SPC_vNav.nii.gz']\n",
      "191_87091749_6M\n",
      "['4_ABCD_T2W_spc_vnav.nii.gz', '5_ABCD_T2W_spc_vnav.nii.gz']\n",
      "191_87594279_6M\n",
      "['4_ABCD_T2W_spc_vnav.nii.gz', '5_ABCD_T2W_spc_vnav.nii.gz']\n",
      "191_87615223_6M\n",
      "['4_ABCD_T2W_spc_vnav.nii.gz', '5_ABCD_T2W_spc_vnav.nii.gz']\n",
      "191_88659099_6M\n",
      "['4_ABCD_T2W_spc_vnav.nii.gz', '5_ABCD_T2W_spc_vnav.nii.gz']\n",
      "191_88659099_12M\n",
      "['4_ABCD_T2w_SPC_vNav.nii.gz', '5_ABCD_T2w_SPC_vNav.nii.gz']\n",
      "191_91059743_3M\n",
      "['4_ABCD_T2W_spc_vnav.nii.gz', '5_ABCD_T2W_spc_vnav.nii.gz']\n",
      "191_91059743_12M\n",
      "['4_ABCD_T2w_SPC_vNav.nii.gz', '5_ABCD_T2w_SPC_vNav.nii.gz']\n",
      "191_91724418_6M\n",
      "['5_ABCD_T2w_spc_vNav.nii.gz', '6_ABCD_T2w_spc_vNav.nii.gz']\n",
      "191_91801361_6M\n",
      "['4_ABCD_T2w_spc_vNav.nii.gz', '5_ABCD_T2w_spc_vNav.nii.gz']\n",
      "191_94399640_12M\n",
      "['4_ABCD_T2w_SPC_vNav.nii.gz', '5_ABCD_T2w_SPC_vNav.nii.gz']\n",
      "191_95740777_3M\n",
      "['4_ABCD_T2W_spc_vnav.nii.gz', '5_ABCD_T2W_spc_vnav.nii.gz']\n",
      "191_95740777_6M\n",
      "['4_ABCD_T2W_spc_vnav.nii.gz', '5_ABCD_T2W_spc_vnav.nii.gz']\n",
      "191_95740777_12M\n",
      "['4_ABCD_T2w_SPC_vNav.nii.gz', '5_ABCD_T2w_SPC_vNav.nii.gz']\n",
      "191_97018029_3M\n",
      "['4_ABCD_T2W_spc_vnav.nii.gz', '5_ABCD_T2W_spc_vnav.nii.gz']\n",
      "191_97018029_6M\n",
      "['4_ABCD_T2W_spc_vnav.nii.gz', '5_ABCD_T2W_spc_vnav.nii.gz']\n",
      "191_97213684_3M\n",
      "['4_ABCD_T2W_spc_vnav.nii.gz', '5_ABCD_T2W_spc_vnav.nii.gz']\n",
      "191_97213684_6M\n",
      "['4_ABCD_T2W_spc_vnav.nii.gz', '5_ABCD_T2W_spc_vnav.nii.gz']\n",
      "191_97735991_3M\n",
      "['5_ABCD_T2W_spc_vnav.nii.gz', '6_ABCD_T2W_spc_vnav.nii.gz']\n",
      "191_98498849_3M\n",
      "['4_ABCD_T2W_spc_vnav.nii.gz', '5_ABCD_T2W_spc_vnav.nii.gz']\n",
      "191_98904731_6M\n",
      "['4_ABCD_T2W_spc_vnav.nii.gz', '5_ABCD_T2W_spc_vnav.nii.gz']\n",
      "191_98904731_18M\n",
      "['4_ABCD_T2w_SPC_vNav.nii.gz', '5_ABCD_T2w_SPC_vNav.nii.gz']\n",
      "191_99527898_3M\n",
      "['5_ABCD_T2W_spc_vnav.nii.gz', '6_ABCD_T2W_spc_vnav.nii.gz']\n",
      "191_99527898_12M\n",
      "['4_ABCD_T2w_SPC_vNav.nii.gz', '5_ABCD_T2w_SPC_vNav.nii.gz']\n",
      "191_99799072_3M\n",
      "['4_ABCD_T2W_spc_vnav.nii.gz', '5_ABCD_T2W_spc_vnav.nii.gz']\n",
      "19145194564_6M\n",
      "['4_ABCD_T2W_spc_vnav.nii.gz', '5_ABCD_T2W_spc_vnav.nii.gz']\n"
     ]
    }
   ],
   "source": [
    "# Next, remove non-bias-corrected files (first one of two)\n",
    "\n",
    "for i in new_HF_subs:\n",
    "    file = os.listdir(op.join(new_HF, i))\n",
    "    if len(file) == 2:\n",
    "        print(i)\n",
    "        print(file)\n",
    "        file = sorted(file, key=numericalSort)\n",
    "        os.remove(op.join(new_HF, i, file[0]))"
   ]
  },
  {
   "cell_type": "code",
   "execution_count": 104,
   "metadata": {},
   "outputs": [
    {
     "name": "stdout",
     "output_type": "stream",
     "text": [
      "['191_2257887_12M', '191_11173897_3M', '191_11173897_6M', '191_11173897_12M', '191_11561329_6M', '191_11561329_12M', '191_11857141_3M', '191_11933910_12M', '191_11933910_18M', '191_11991799_3M', '191_11991799_6M', '191_12267949_3M', '191_12892977_6M', '191_14472914_6M', '191_15377048_6M', '191_15763639_3M', '191_15763639_6M', '191_16516486_3M', '191_16516486_6M', '191_16743463_3M', '191_16743463_6M', '191_16743463_12M', '191_16743463_24M', '191_17632409_3M', '191_17632409_6M', '191_17632409_12M', '191_17632409_18M', '191_17825403_6M', '191_17825403_12M', '191_17990907_6M', '191_17990907_12M', '191_18448260_3M', '191_18448260_6M', '191_18448260_12M', '191_18448260_24M', '191_19175800_3M', '191_19175800_6M', '191_19175800_12M', '191_19689453_3M', '191_19689453_6M', '191_19689453_12M', '191_19689453_18M', '191_20163705_6M', '191_20403188_3M', '191_20403188_6M', '191_21421763_3M', '191_21421763_12M', '191_21845878_6M', '191_22210141_3M', '191_22210141_6M', '191_22210141_12M', '191_22572887_3M', '191_22615813_6M', '191_22615813_18M', '191_23150844_6M', '191_23150844_18M', '191_23653554_3M', '191_23653554_6M', '191_23653554_12M', '191_23653554_18M', '191_23764088_3M', '191_23914740_3M', '191_23914740_6M', '191_23914740_12M', '191_24232090_6M', '191_24232090_12M', '191_24324377_3M', '191_24503296_3M', '191_24503296_6M', '191_24607513_3M', '191_24607513_6M', '191_24613786_3M', '191_24613786_6M', '191_24613786_12M', '191_24727795_3M', '191_24727795_6M', '191_24727795_12M', '191_24910463_3M', '191_24910463_6M', '191_25377850_3M', '191_25377850_6M', '191_25377850_12M', '191_25404231_3M', '191_25404231_6M', '191_25404231_12M', '191_25404231_24M', '191_25617222_3M', '191_25617222_6M', '191_25617222_12M', '191_25881304_3M', '191_25881304_6M', '191_26240272_6M', '191_26240272_12M', '191_26250015_3M', '191_26383858_3M', '191_26383858_6M', '191_26383858_12M', '191_26383858_18M', '191_26476223_3M', '191_26476223_6M', '191_26476223_12M', '191_26655637_3M', '191_26655637_12M', '191_27024977_3M', '191_27024977_6M', '191_27400148_3M', '191_27400148_6M', '191_27487331_12M', '191_27837951_3M', '191_27837951_12M', '191_28039912_3M', '191_28039912_12M', '191_28097536_3M', '191_28097536_6M', '191_28097536_12M', '191_28370676_3M', '191_28370676_6M', '191_28370676_12M', '191_29651264_12M', '191_29736014_3M', '191_29736014_6M', '191_29736014_12M', '191_29884416_3M', '191_29884416_6M', '191_30101104_3M', '191_30101104_6M', '191_30101104_12M', '191_30130345_3M', '191_30130345_6M', '191_30130345_12M', '191_30146703_3M', '191_30172716_3M', '191_30172716_6M', '191_30525706_6M', '191_30545639_3M', '191_30545639_12M', '191_30545639_18M', '191_30563028_3M', '191_30563028_12M', '191_30563028_18M', '191_30982983_3M', '191_30982983_6M', '191_30982983_18M', '191_31861014_3M', '191_32406344_6M', '191_32406344_12M', '191_32761496_6M', '191_32788450_3M', '191_32959318_3M', '191_32959318_6M', '191_32976770_3M', '191_32976770_6M', '191_33367686_3M', '191_33367686_6M', '191_34303377_3M', '191_34303377_12M', '191_34449907_3M', '191_34449907_6M', '191_35028047_3M', '191_35028047_6M', '191_35066412_3M', '191_35066412_6M', '191_35066412_12M', '191_35193895_12M', '191_35197624_3M', '191_35197624_6M', '191_35363593_3M', '191_35412429_3M', '191_35616868_3M', '191_35616868_12M', '191_35655048_6M', '191_35839450_3M', '191_35839450_12M', '191_35839450_18M', '191_35989699_3M', '191_35989699_6M', '191_35989699_12M', '191_36156882_3M', '191_36156882_6M', '191_36192898_6M', '191_36300607_3M', '191_36300607_12M', '191_37069639_3M', '191_37069639_6M', '191_37069639_12M', '191_37298891_3M', '191_37298891_6M', '191_37298891_12M', '191_37476428_3M', '191_37476428_6M', '191_37553535_3M', '191_37553535_6M', '191_37553535_18M', '191_38017803_6M', '191_38280568_3M', '191_38280568_6M', '191_38280568_12M', '191_38318504_12M', '191_38472063_6M', '191_38994667_3M', '191_38994667_6M', '191_39208990_6M', '191_39590544_6M', '191_39590544_18M', '191_39710049_3M', '191_39710049_6M', '191_39710049_12M', '191_39728873_3M', '191_39728873_6M', '191_40748000_3M', '191_40772873_3M', '191_40983013_3M', '191_40983013_12M', '191_41079022_6M', '191_41079022_12M', '191_41164115_6M', '191_41164115_12M', '191_41181665_6M', '191_41181665_18M', '191_41185748_3M', '191_41235443_3M', '191_41235443_6M', '191_41235443_12M', '191_41477606_3M', '191_41477606_6M', '191_41477606_12M', '191_41661055_3M', '191_41661055_12M', '191_41817868_3M', '191_41817868_12M', '191_41817868_18M', '191_41926846_3M', '191_41926846_6M', '191_41926846_12M', '191_41926846_18M', '191_42008535_3M', '191_42008535_6M', '191_42008535_12M', '191_42008535_24M', '191_42202758_3M', '191_42202758_6M', '191_42202758_12M', '191_42679490_12M', '191_43443613_3M', '191_43749062_6M', '191_43759364_3M', '191_43759364_6M', '191_43759364_18M', '191_44078145_6M', '191_44078145_12M', '191_44859353_3M', '191_45078082_6M', '191_45078082_12M', '191_45078082_18M', '191_45194564_3M', '191_45194564_6M', '191_45194564_12M', '191_45194564_18M', '191_45409866_3M', '191_45409866_6M', '191_45409866_12M', '191_45543455_3M', '191_45543455_6M', '191_45543455_12M', '191_45839584_6M', '191_45931101_6M', '191_46100390_3M', '191_46100390_6M', '191_46100390_12M', '191_46252060_3M', '191_46252060_12M', '191_46616096_3M', '191_46616096_6M', '191_46993408_3M', '191_46993408_6M', '191_46993408_12M', '191_47116533_3M', '191_47116533_6M', '191_47398487_3M', '191_47398487_6M', '191_47590294_6M', '191_47621245_6M', '191_47621245_12M', '191_48019069_3M', '191_48019069_6M', '191_48019069_12M', '191_49292365_3M', '191_49292365_6M', '191_49292365_12M', '191_49353889_6M', '191_49513164_3M', '191_49513164_6M', '191_49513164_12M', '191_49685484_6M', '191_49685484_12M', '191_50936817_6M', '191_50958964_3M', '191_50958964_6M', '191_51197740_6M', '191_51197740_12M', '191_51545547_6M', '191_51545547_18M', '191_52217968_3M', '191_52217968_6M', '191_52217968_12M', '191_52217968_18M', '191_52286421_3M', '191_52286421_6M', '191_54224362_3M', '191_54357895_3M', '191_54357895_6M', '191_55191581_3M', '191_55191581_6M', '191_55374194_6M', '191_55374194_12M', '191_55655285_3M', '191_55655285_6M', '191_55655285_12M', '191_55837449_3M', '191_55837449_12M', '191_55837449_18M', '191_56008908_3M', '191_56011314_3M', '191_56011314_12M', '191_56035535_3M', '191_56035535_6M', '191_56035535_12M', '191_56975893_3M', '191_56975893_6M', '191_56975893_12M', '191_57518965_3M', '191_57518965_6M', '191_57518965_12M', '191_58011621_3M', '191_58011621_6M', '191_58872286_3M', '191_58872286_6M', '191_58872286_12M', '191_59659447_3M', '191_59659447_6M', '191_59659447_12M', '191_59862975_6M', '191_59862975_12M', '191_59889122_3M', '191_59889122_6M', '191_60273938_3M', '191_60273938_6M', '191_60273938_12M', '191_60273938_18M', '191_60606853_6M', '191_61022874_3M', '191_61022874_6M', '191_61022874_12M', '191_61728800_3M', '191_61728800_6M', '191_61743365_3M', '191_61743365_6M', '191_61799579_3M', '191_61799579_6M', '191_61799579_12M', '191_61867644_3M', '191_61867644_6M', '191_61867644_12M', '191_62570364_3M', '191_62910762_12M', '191_62910762_24M', '191_63214792_3M', '191_63214792_6M', '191_63214792_18M', '191_63665661_6M', '191_63665661_12M', '191_64253579_3M', '191_64253579_6M', '191_64253579_12M', '191_64253579_18M', '191_64335106_3M', '191_64335106_6M', '191_64335106_12M', '191_64745710_3M', '191_64745710_6M', '191_64745710_12M', '191_64860105_3M', '191_64860105_6M', '191_64860105_12M', '191_65146108_6M', '191_65182291_3M', '191_65182291_6M', '191_65182291_12M', '191_65216610_3M', '191_65216610_6M', '191_65700986_3M', '191_65700986_6M', '191_65700986_12M', '191_65770204_3M', '191_65770204_6M', '191_65770204_12M', '191_65770204_18M', '191_66271949_3M', '191_66271949_6M', '191_66276629_3M', '191_66276629_6M', '191_66480703_3M', '191_66480703_6M', '191_66480703_12M', '191_66511850_3M', '191_66511850_6M', '191_66622988_6M', '191_66622988_24M', '191_66815589_6M', '191_67476244_3M', '191_67476244_6M', '191_67476244_12M', '191_67476244_18M', '191_67779779_3M', '191_67779779_6M', '191_67858166_6M', '191_67858166_12M', '191_67905129_6M', '191_67905129_12M', '191_67916518_3M', '191_67916518_6M', '191_67916518_12M', '191_68007881_3M', '191_68007881_6M', '191_68273319_3M', '191_68273319_6M', '191_68828978_3M', '191_68828978_6M', '191_68828978_12M', '191_68828978_18M', '191_69114038_6M', '191_69114038_12M', '191_69114318_6M', '191_69114318_12M', '191_69262492_3M', '191_69262492_6M', '191_69262492_12M', '191_69294609_3M', '191_69294609_12M', '191_69385027_6M', '191_69385027_12M', '191_69445602_6M', '191_69445602_12M', '191_69445602_18M', '191_69457980_3M', '191_69457980_6M', '191_69457980_12M', '191_69457980_18M', '191_69719119_6M', '191_69841309_12M', '191_70036610_3M', '191_70036610_6M', '191_70036610_12M', '191_70036610_18M', '191_70439269_3M', '191_70439269_6M', '191_70460714_6M', '191_70482254_3M', '191_72244244_3M', '191_72244244_6M', '191_72244244_12M', '191_72986996_3M', '191_73051020_3M', '191_73051020_6M', '191_73051020_12M', '191_73051020_24M', '191_73357635_3M', '191_73357635_12M', '191_73942616_3M', '191_73942616_6M', '191_73942616_12M', '191_73942616_24M', '191_74688361_3M', '191_74688361_6M', '191_74688361_12M', '191_74904081_12M', '191_74945793_3M', '191_74945793_12M', '191_75799922_6M', '191_75799922_12M', '191_75799922_18M', '191_75804093_3M', '191_75804093_6M', '191_75833259_6M', '191_75833259_12M', '191_75903249_6M', '191_76006961_3M', '191_76006961_6M', '191_76009725_3M', '191_76009725_6M', '191_76388414_3M', '191_76388414_6M', '191_76388414_12M', '191_76704585_3M', '191_76804093_6M', '191_77157098_3M', '191_77157098_6M', '191_77157098_12M', '191_77343641_3M', '191_77343641_6M', '191_77343641_12M', '191_77343641_18M', '191_77518813_3M', '191_77518813_6M', '191_77518813_12M', '191_77518813_18M', '191_77767333_6M', '191_77767333_12M', '191_77767333_18M', '191_77865641_3M', '191_77865641_6M', '191_77865641_12M', '191_78282621_12M', '191_78552161_3M', '191_78552161_6M', '191_79186641_3M', '191_79186641_6M', '191_79186641_18M', '191_79261749_3M', '191_79261749_6M', '191_79261749_12M', '191_79742065_12M', '191_79758419_3M', '191_79778957_3M', '191_79778957_6M', '191_79778957_12M', '191_80014837_6M', '191_80014837_12M', '191_80306672_6M', '191_80566139_6M', '191_80566139_18M', '191_80586959_12M', '191_80586959_18M', '191_81274355_3M', '191_81274355_6M', '191_81274355_12M', '191_81477415_3M', '191_81477415_6M', '191_81477415_12M', '191_81831129_3M', '191_82134774_3M', '191_82220356_6M', '191_82220356_12M', '191_82220356_18M', '191_82241096_3M', '191_82241096_6M', '191_82241096_12M', '191_82416234_12M', '191_83623750_6M', '191_83623750_12M', '191_83847544_18M', '191_84352636_3M', '191_84425932_3M', '191_84425932_6M', '191_84425932_24M', '191_84933542_3M', '191_84933542_6M', '191_84933542_18M', '191_85539019_3M', '191_85588044_6M', '191_85588044_12M', '191_85784479_6M', '191_85784479_12M', '191_85821768_3M', '191_85821768_6M', '191_85821768_12M', '191_85821768_18M', '191_85926465_6M', '191_85926465_12M', '191_86087049_6M', '191_86553440_3M', '191_86553440_6M', '191_86973716_3M', '191_86973716_6M', '191_86973716_12M', '191_87091749_3M', '191_87091749_6M', '191_87091749_18M', '191_87092749_12M', '191_87594279_3M', '191_87594279_6M', '191_87615223_6M', '191_87615223_12M', '191_88659099_3M', '191_88659099_6M', '191_88659099_12M', '191_88879029_3M', '191_88964748_3M', '191_89184357_6M', '191_89184357_12M', '191_89654844_6M', '191_89654844_12M', '191_90292551_6M', '191_90580532_3M', '191_90580532_6M', '191_90580532_12M', '191_90972406_3M', '191_91059743_3M', '191_91059743_6M', '191_91059743_12M', '191_91724418_3M', '191_91724418_6M', '191_91724418_12M', '191_91860292_6M', '191_91945250_3M', '191_92081965_3M', '191_92081965_6M', '191_92081965_12M', '191_92934454_6M', '191_92934454_18M', '191_93368423_3M', '191_93368423_6M', '191_93368423_12M', '191_93744287_6M', '191_94399640_3M', '191_94399640_6M', '191_94399640_18M', '191_95283342_3M', '191_95283342_12M', '191_95740777_3M', '191_95740777_12M', '191_95774215_6M', '191_96672854_6M', '191_96928021_3M', '191_96928021_12M', '191_97018029_6M', '191_97131221_3M', '191_97131221_6M', '191_97131221_12M', '191_97137841_6M', '191_97137847_6M', '191_97213684_3M', '191_97213684_6M', '191_97360188_3M', '191_97773091_3M', '191_97789056_6M', '191_97789056_18M', '191_98117712_6M', '191_98117712_12M', '191_98300138_6M', '191_98300138_12M', '191_98498849_3M', '191_98904731_3M', '191_98904731_6M', '191_98904731_12M', '191_99135497_6M', '191_99527898_3M', '191_99527898_6M', '191_99527898_12M', '191_99704528_6M', '191_99799072_3M', '191_99799072_6M', '191_99799072_18M', 'Khula']\n"
     ]
    }
   ],
   "source": [
    "# Retrieve and sort LF subjects\n",
    "new_LF_subs = os.listdir(new_LF)\n",
    "for i in new_LF_subs:\n",
    "    if 'DS' in i:\n",
    "        new_LF_subs.remove(i)\n",
    "new_LF_subs = sorted(new_LF_subs, key=numericalSort)\n",
    "print(new_LF_subs)"
   ]
  },
  {
   "cell_type": "code",
   "execution_count": 107,
   "metadata": {},
   "outputs": [
    {
     "name": "stdout",
     "output_type": "stream",
     "text": [
      "191_17632409_12M\n",
      "['500_T2_AXI_T2_Align_not_for_diagnostic_use_NOT_FOR_DIAGNOSTIC_USE.nii.gz', '5_T2_AXI.nii.gz', '700_T2_AXI_T2_Align_not_for_diagnostic_use_NOT_FOR_DIAGNOSTIC_USE.nii.gz', '7_T2_AXI.nii.gz']\n",
      "191_24727795_3M\n",
      "['500_T2_AXI_T2_Align_not_for_diagnostic_use_NOT_FOR_DIAGNOSTIC_USE.nii.gz', '5_T2_AXI.nii.gz', '900_T2_AXI_T2_Align_not_for_diagnostic_use_NOT_FOR_DIAGNOSTIC_USE.nii.gz', '9_T2_AXI.nii.gz']\n",
      "191_30101104_3M\n",
      "['400_T2_AXI_T2_Align_not_for_diagnostic_use_NOT_FOR_DIAGNOSTIC_USE.nii.gz', '4_T2_AXI.nii.gz', '700_T2_AXI_T2_Align_not_for_diagnostic_use_NOT_FOR_DIAGNOSTIC_USE.nii.gz', '7_T2_AXI.nii.gz']\n",
      "191_30545639_3M\n",
      "['500_T2_AXI_DL_NOT_FOR_DIAGNOSTIC_USE_T2_Align_not_for_diagnostic_use_NOT_FOR_DIAGNOSTIC_USE.nii.gz', '5_T2_AXI_DL_NOT_FOR_DIAGNOSTIC_USE.nii.gz', '9_T2_AXI_DL_NOT_FOR_DIAGNOSTIC_USE.nii.gz']\n",
      "191_30563028_12M\n",
      "['500_T2_AXI_T2_Align_not_for_diagnostic_use_NOT_FOR_DIAGNOSTIC_USE.nii.gz', '5_T2_AXI.nii.gz', '700_T2_AXI_T2_Align_not_for_diagnostic_use_NOT_FOR_DIAGNOSTIC_USE.nii.gz', '7_T2_AXI.nii.gz']\n",
      "191_32976770_3M\n",
      "['500_T2_AXI_T2_Align_not_for_diagnostic_use_NOT_FOR_DIAGNOSTIC_USE.nii.gz', '5_T2_AXI.nii.gz', '6_T2_AXI.nii.gz']\n",
      "191_42202758_3M\n",
      "['500_T2_AXI_DL_NOT_FOR_DIAGNOSTIC_USE_T2_Align_not_for_diagnostic_use_NOT_FOR_DIAGNOSTIC_USE.nii.gz', '5_T2_AXI_DL_NOT_FOR_DIAGNOSTIC_USE.nii.gz', '8_T2_AXI_DL_NOT_FOR_DIAGNOSTIC_USE.nii.gz']\n",
      "191_46252060_3M\n",
      "['5_T2_AXI.nii.gz', '900_T2_AXI_T2_Align_not_for_diagnostic_use_NOT_FOR_DIAGNOSTIC_USE.nii.gz', '9_T2_AXI.nii.gz']\n",
      "191_62910762_24M\n",
      "['1000_T2_AXI_T2_Align_not_for_diagnostic_use_NOT_FOR_DIAGNOSTIC_USE.nii.gz', '10_T2_AXI.nii.gz', '500_T2_AXI_T2_Align_not_for_diagnostic_use_NOT_FOR_DIAGNOSTIC_USE.nii.gz', '5_T2_AXI.nii.gz']\n",
      "191_69457980_3M\n",
      "['4_T2_AXI.nii.gz', '800_T2_AXI_T2_Align_not_for_diagnostic_use_NOT_FOR_DIAGNOSTIC_USE.nii.gz', '8_T2_AXI.nii.gz']\n",
      "191_86973716_3M\n",
      "['5_T2_AXI.nii.gz', '700_T2_AXI_T2_Align_not_for_diagnostic_use_NOT_FOR_DIAGNOSTIC_USE.nii.gz', '7_T2_AXI.nii.gz', '9_T2_AXI.nii.gz']\n",
      "191_87091749_3M\n",
      "['1000_T2_AXI_T2_Align_not_for_diagnostic_use_NOT_FOR_DIAGNOSTIC_USE.nii.gz', '10_T2_AXI.nii.gz', '500_T2_AXI_T2_Align_not_for_diagnostic_use_NOT_FOR_DIAGNOSTIC_USE.nii.gz', '5_T2_AXI.nii.gz']\n",
      "191_87594279_3M\n",
      "['500_T2_AXI_T2_Align_not_for_diagnostic_use_NOT_FOR_DIAGNOSTIC_USE.nii.gz', '5_T2_AXI.nii.gz', '900_T2_AXI_T2_Align_not_for_diagnostic_use_NOT_FOR_DIAGNOSTIC_USE.nii.gz', '9_T2_AXI.nii.gz']\n"
     ]
    }
   ],
   "source": [
    "# First, inspect folders with >2 files and remove the extra ones manually\n",
    "\n",
    "for i in new_LF_subs:\n",
    "    file = os.listdir(op.join(new_LF, i))\n",
    "    if len(file) > 2:\n",
    "        print(i)\n",
    "        print(file)\n",
    "        # file = sorted(file, key=numericalSort)\n",
    "        # os.remove(op.join(new_LF, i, file[1]))\n",
    "        new_dir = op.join('/Volumes/Data/Khula/extra_LF', i)\n",
    "        if not os.path.exists(new_dir):\n",
    "            os.makedirs(new_dir)\n",
    "\n",
    "        for j in file[:]:\n",
    "            shutil.copy2(op.join(new_LF, i, j), op.join(new_dir, j))\n",
    "            os.remove(op.join(new_LF, i, j))\n",
    "        os.rmdir(op.join(new_LF, i))\n"
   ]
  },
  {
   "cell_type": "code",
   "execution_count": 109,
   "metadata": {},
   "outputs": [
    {
     "name": "stdout",
     "output_type": "stream",
     "text": [
      "641\n"
     ]
    }
   ],
   "source": [
    "# Retrieve and sort LF subjects\n",
    "new_LF_subs = os.listdir(new_LF)\n",
    "for i in new_LF_subs:\n",
    "    if 'DS' in i:\n",
    "        new_LF_subs.remove(i)\n",
    "new_LF_subs = sorted(new_LF_subs, key=numericalSort)\n",
    "print(len(new_LF_subs))"
   ]
  },
  {
   "cell_type": "code",
   "execution_count": 110,
   "metadata": {},
   "outputs": [],
   "source": [
    "# Next, remove second file of two\n",
    "\n",
    "for i in new_LF_subs:\n",
    "    file = os.listdir(op.join(new_LF, i))\n",
    "    if len(file) == 2:\n",
    "        # print(i)\n",
    "        # print(file)\n",
    "        file = sorted(file, key=numericalSort)\n",
    "        os.remove(op.join(new_LF, i, file[1]))"
   ]
  },
  {
   "cell_type": "code",
   "execution_count": 111,
   "metadata": {},
   "outputs": [
    {
     "name": "stdout",
     "output_type": "stream",
     "text": [
      "/Volumes/Data/Khula/HF\n",
      "['191_7688414_6M', '191_11173897_6M', '191_11991799_3M', '191_11991799_12M', '191_15763639_3M', '191_15763639_6M', '191_16516486_6M', '191_16743463_6M', '191_17632409_6M', '191_17632409_12M', '191_17825403_3M', '191_17825403_6M', '191_18448260_6M', '191_19175800_12M', '191_19689453_3M', '191_19689453_6M', '191_19689453_12M', '191_23764088_3M', '191_24607513_6M', '191_24613786_3M', '191_24727795_12M', '191_25377850_3M', '191_25617222_6M', '191_25881304_3M', '191_25881304_6M', '191_26240272_6M', '191_26240272_12M', '191_26383858_3M', '191_26383858_6M', '191_26383858_12M', '191_26476223_6M', '191_27024977_3M', '191_27400148_3M', '191_27400148_6M', '191_27487331_12M', '191_28097536_6M', '191_28370676_3M', '191_28370676_6M', '191_28370676_12M', '191_29736014_3M', '191_30101104_6M', '191_30101104_12M', '191_30130345_3M', '191_30130345_12M', '191_30545639_3M', '191_30545639_6M', '191_31861014_12M', '191_32406344_6M', '191_34303377_3M', '191_35193895_12M', '191_35193895_18M', '191_35616868_3M', '191_35616868_6M', '191_35616868_12M', '191_35655048_6M', '191_35655048_18M', '191_35839450_3M', '191_35839450_12M', '191_36156882_3M', '191_36156882_6M', '191_37069639_3M', '191_37069639_12M', '191_37476428_6M', '191_38017803_3M', '191_38318504_12M', '191_39728873_3M', '191_40748000_3M', '191_40748000_6M', '191_40772873_3M', '191_40983013_3M', '191_41164115_6M', '191_41185748_6M', '191_41661055_3M', '191_41661055_12M', '191_41817868_6M', '191_41926846_3M', '191_41926846_12M', '191_42008535_6M', '191_42202758_3M', '191_42202758_18M', '191_43443613_6M', '191_43759364_3M', '191_44078145_12M', '191_45194564_6M', '191_45931101_6M', '191_45931101_12M', '191_46100390_3M', '191_46100390_6M', '191_46252060_3M', '191_46616096_3M', '191_46616096_12M', '191_47398487_3M', '191_49292365_12M', '191_49513164_6M', '191_49513164_12M', '191_54357895_3M', '191_54357895_6M', '191_55374194_6M', '191_58945500_6M', '191_61022874_3M', '191_61728800_6M', '191_61743365_3M', '191_61867644_3M', '191_61867644_6M', '191_61867644_12M', '191_62910762_3M', '191_62910762_12M', '191_63214792_3M', '191_64253579_3M', '191_64253579_6M', '191_64253579_12M', '191_64335106_6M', '191_64745710_3M', '191_65146108_3M', '191_65146108_6M', '191_65182291_3M', '191_65700986_3M', '191_65700986_6M', '191_65700986_12M', '191_65770204_6M', '191_65770204_18M', '191_66271949_12M', '191_66480703_3M', '191_66480703_6M', '191_66511850_3M', '191_66511850_12M', '191_66622988_18M', '191_66815589_6M', '191_67905129_6M', '191_68828978_3M', '191_68828978_6M', '191_70439269_3M', '191_70439269_12M', '191_72244244_6M', '191_72986996_3M', '191_74904081_12M', '191_75799922_6M', '191_75799922_12M', '191_75804093_3M', '191_75903249_3M', '191_76388414_6M', '191_77157098_6M', '191_77157098_12M', '191_78552161_3M', '191_78552161_6M', '191_79186641_3M', '191_79778957_6M', '191_80306672_3M', '191_80566139_6M', '191_81903722_3M', '191_82220356_6M', '191_83623750_3M', '191_83623750_12M', '191_84933542_6M', '191_85821768_6M', '191_86553440_3M', '191_86553440_6M', '191_86973716_3M', '191_86973716_12M', '191_87091749_6M', '191_87594279_6M', '191_87615223_6M', '191_88659099_6M', '191_88659099_12M', '191_91059743_3M', '191_91059743_12M', '191_91724418_6M', '191_91801361_6M', '191_94399640_12M', '191_95740777_3M', '191_95740777_6M', '191_95740777_12M', '191_97018029_3M', '191_97018029_6M', '191_97213684_3M', '191_97213684_6M', '191_97735991_3M', '191_98498849_3M', '191_98904731_6M', '191_98904731_18M', '191_99527898_3M', '191_99527898_12M', '191_99799072_3M', '19145194564_6M']\n",
      "/Volumes/Data/Khula/LF\n",
      "['191_2257887_12M', '191_11173897_3M', '191_11173897_6M', '191_11173897_12M', '191_11561329_6M', '191_11561329_12M', '191_11857141_3M', '191_11933910_12M', '191_11933910_18M', '191_11991799_3M', '191_11991799_6M', '191_12267949_3M', '191_12892977_6M', '191_14472914_6M', '191_15377048_6M', '191_15763639_3M', '191_15763639_6M', '191_16516486_3M', '191_16516486_6M', '191_16743463_3M', '191_16743463_6M', '191_16743463_12M', '191_16743463_24M', '191_17632409_3M', '191_17632409_6M', '191_17632409_18M', '191_17825403_6M', '191_17825403_12M', '191_17990907_6M', '191_17990907_12M', '191_18448260_3M', '191_18448260_6M', '191_18448260_12M', '191_18448260_24M', '191_19175800_3M', '191_19175800_6M', '191_19175800_12M', '191_19689453_3M', '191_19689453_6M', '191_19689453_12M', '191_19689453_18M', '191_20163705_6M', '191_20403188_3M', '191_20403188_6M', '191_21421763_3M', '191_21421763_12M', '191_21845878_6M', '191_22210141_3M', '191_22210141_6M', '191_22210141_12M', '191_22572887_3M', '191_22615813_6M', '191_22615813_18M', '191_23150844_6M', '191_23150844_18M', '191_23653554_3M', '191_23653554_6M', '191_23653554_12M', '191_23653554_18M', '191_23764088_3M', '191_23914740_3M', '191_23914740_6M', '191_23914740_12M', '191_24232090_6M', '191_24232090_12M', '191_24324377_3M', '191_24503296_3M', '191_24503296_6M', '191_24607513_3M', '191_24607513_6M', '191_24613786_3M', '191_24613786_6M', '191_24613786_12M', '191_24727795_6M', '191_24727795_12M', '191_24910463_3M', '191_24910463_6M', '191_25377850_3M', '191_25377850_6M', '191_25377850_12M', '191_25404231_3M', '191_25404231_6M', '191_25404231_12M', '191_25404231_24M', '191_25617222_3M', '191_25617222_6M', '191_25617222_12M', '191_25881304_3M', '191_25881304_6M', '191_26240272_6M', '191_26240272_12M', '191_26250015_3M', '191_26383858_3M', '191_26383858_6M', '191_26383858_12M', '191_26383858_18M', '191_26476223_3M', '191_26476223_6M', '191_26476223_12M', '191_26655637_3M', '191_26655637_12M', '191_27024977_3M', '191_27024977_6M', '191_27400148_3M', '191_27400148_6M', '191_27487331_12M', '191_27837951_3M', '191_27837951_12M', '191_28039912_3M', '191_28039912_12M', '191_28097536_3M', '191_28097536_6M', '191_28097536_12M', '191_28370676_3M', '191_28370676_6M', '191_28370676_12M', '191_29651264_12M', '191_29736014_3M', '191_29736014_6M', '191_29736014_12M', '191_29884416_3M', '191_29884416_6M', '191_30101104_6M', '191_30101104_12M', '191_30130345_3M', '191_30130345_6M', '191_30130345_12M', '191_30146703_3M', '191_30172716_3M', '191_30172716_6M', '191_30525706_6M', '191_30545639_12M', '191_30545639_18M', '191_30563028_3M', '191_30563028_18M', '191_30982983_3M', '191_30982983_6M', '191_30982983_18M', '191_31861014_3M', '191_32406344_6M', '191_32406344_12M', '191_32761496_6M', '191_32788450_3M', '191_32959318_3M', '191_32959318_6M', '191_32976770_6M', '191_33367686_3M', '191_33367686_6M', '191_34303377_3M', '191_34303377_12M', '191_34449907_3M', '191_34449907_6M', '191_35028047_3M', '191_35028047_6M', '191_35066412_3M', '191_35066412_6M', '191_35066412_12M', '191_35193895_12M', '191_35197624_3M', '191_35197624_6M', '191_35363593_3M', '191_35412429_3M', '191_35616868_3M', '191_35616868_12M', '191_35655048_6M', '191_35839450_3M', '191_35839450_12M', '191_35839450_18M', '191_35989699_3M', '191_35989699_6M', '191_35989699_12M', '191_36156882_3M', '191_36156882_6M', '191_36192898_6M', '191_36300607_3M', '191_36300607_12M', '191_37069639_3M', '191_37069639_6M', '191_37069639_12M', '191_37298891_3M', '191_37298891_6M', '191_37298891_12M', '191_37476428_3M', '191_37476428_6M', '191_37553535_3M', '191_37553535_6M', '191_37553535_18M', '191_38017803_6M', '191_38280568_3M', '191_38280568_6M', '191_38280568_12M', '191_38318504_12M', '191_38472063_6M', '191_38994667_3M', '191_38994667_6M', '191_39208990_6M', '191_39590544_6M', '191_39590544_18M', '191_39710049_3M', '191_39710049_6M', '191_39710049_12M', '191_39728873_3M', '191_39728873_6M', '191_40748000_3M', '191_40772873_3M', '191_40983013_3M', '191_40983013_12M', '191_41079022_6M', '191_41079022_12M', '191_41164115_6M', '191_41164115_12M', '191_41181665_6M', '191_41181665_18M', '191_41185748_3M', '191_41235443_3M', '191_41235443_6M', '191_41235443_12M', '191_41477606_3M', '191_41477606_6M', '191_41477606_12M', '191_41661055_3M', '191_41661055_12M', '191_41817868_3M', '191_41817868_12M', '191_41817868_18M', '191_41926846_3M', '191_41926846_6M', '191_41926846_12M', '191_41926846_18M', '191_42008535_3M', '191_42008535_6M', '191_42008535_12M', '191_42008535_24M', '191_42202758_6M', '191_42202758_12M', '191_42679490_12M', '191_43443613_3M', '191_43749062_6M', '191_43759364_3M', '191_43759364_6M', '191_43759364_18M', '191_44078145_6M', '191_44078145_12M', '191_44859353_3M', '191_45078082_6M', '191_45078082_12M', '191_45078082_18M', '191_45194564_3M', '191_45194564_6M', '191_45194564_12M', '191_45194564_18M', '191_45409866_3M', '191_45409866_6M', '191_45409866_12M', '191_45543455_3M', '191_45543455_6M', '191_45543455_12M', '191_45839584_6M', '191_45931101_6M', '191_46100390_3M', '191_46100390_6M', '191_46100390_12M', '191_46252060_12M', '191_46616096_3M', '191_46616096_6M', '191_46993408_3M', '191_46993408_6M', '191_46993408_12M', '191_47116533_3M', '191_47116533_6M', '191_47398487_3M', '191_47398487_6M', '191_47590294_6M', '191_47621245_6M', '191_47621245_12M', '191_48019069_3M', '191_48019069_6M', '191_48019069_12M', '191_49292365_3M', '191_49292365_6M', '191_49292365_12M', '191_49353889_6M', '191_49513164_3M', '191_49513164_6M', '191_49513164_12M', '191_49685484_6M', '191_49685484_12M', '191_50936817_6M', '191_50958964_3M', '191_50958964_6M', '191_51197740_6M', '191_51197740_12M', '191_51545547_6M', '191_51545547_18M', '191_52217968_3M', '191_52217968_6M', '191_52217968_12M', '191_52217968_18M', '191_52286421_3M', '191_52286421_6M', '191_54224362_3M', '191_54357895_3M', '191_54357895_6M', '191_55191581_3M', '191_55191581_6M', '191_55374194_6M', '191_55374194_12M', '191_55655285_3M', '191_55655285_6M', '191_55655285_12M', '191_55837449_3M', '191_55837449_12M', '191_55837449_18M', '191_56008908_3M', '191_56011314_3M', '191_56011314_12M', '191_56035535_3M', '191_56035535_6M', '191_56035535_12M', '191_56975893_3M', '191_56975893_6M', '191_56975893_12M', '191_57518965_3M', '191_57518965_6M', '191_57518965_12M', '191_58011621_3M', '191_58011621_6M', '191_58872286_3M', '191_58872286_6M', '191_58872286_12M', '191_59659447_3M', '191_59659447_6M', '191_59659447_12M', '191_59862975_6M', '191_59862975_12M', '191_59889122_3M', '191_59889122_6M', '191_60273938_3M', '191_60273938_6M', '191_60273938_12M', '191_60273938_18M', '191_60606853_6M', '191_61022874_3M', '191_61022874_6M', '191_61022874_12M', '191_61728800_3M', '191_61728800_6M', '191_61743365_3M', '191_61743365_6M', '191_61799579_3M', '191_61799579_6M', '191_61799579_12M', '191_61867644_3M', '191_61867644_6M', '191_61867644_12M', '191_62570364_3M', '191_62910762_12M', '191_63214792_3M', '191_63214792_6M', '191_63214792_18M', '191_63665661_6M', '191_63665661_12M', '191_64253579_3M', '191_64253579_6M', '191_64253579_12M', '191_64253579_18M', '191_64335106_3M', '191_64335106_6M', '191_64335106_12M', '191_64745710_3M', '191_64745710_6M', '191_64745710_12M', '191_64860105_3M', '191_64860105_6M', '191_64860105_12M', '191_65146108_6M', '191_65182291_3M', '191_65182291_6M', '191_65182291_12M', '191_65216610_3M', '191_65216610_6M', '191_65700986_3M', '191_65700986_6M', '191_65700986_12M', '191_65770204_3M', '191_65770204_6M', '191_65770204_12M', '191_65770204_18M', '191_66271949_3M', '191_66271949_6M', '191_66276629_3M', '191_66276629_6M', '191_66480703_3M', '191_66480703_6M', '191_66480703_12M', '191_66511850_3M', '191_66511850_6M', '191_66622988_6M', '191_66622988_24M', '191_66815589_6M', '191_67476244_3M', '191_67476244_6M', '191_67476244_12M', '191_67476244_18M', '191_67779779_3M', '191_67779779_6M', '191_67858166_6M', '191_67858166_12M', '191_67905129_6M', '191_67905129_12M', '191_67916518_3M', '191_67916518_6M', '191_67916518_12M', '191_68007881_3M', '191_68007881_6M', '191_68273319_3M', '191_68273319_6M', '191_68828978_3M', '191_68828978_6M', '191_68828978_12M', '191_68828978_18M', '191_69114038_6M', '191_69114038_12M', '191_69114318_6M', '191_69114318_12M', '191_69262492_3M', '191_69262492_6M', '191_69262492_12M', '191_69294609_3M', '191_69294609_12M', '191_69385027_6M', '191_69385027_12M', '191_69445602_6M', '191_69445602_12M', '191_69445602_18M', '191_69457980_6M', '191_69457980_12M', '191_69457980_18M', '191_69719119_6M', '191_69841309_12M', '191_70036610_3M', '191_70036610_6M', '191_70036610_12M', '191_70036610_18M', '191_70439269_3M', '191_70439269_6M', '191_70460714_6M', '191_70482254_3M', '191_72244244_3M', '191_72244244_6M', '191_72244244_12M', '191_72986996_3M', '191_73051020_3M', '191_73051020_6M', '191_73051020_12M', '191_73051020_24M', '191_73357635_3M', '191_73357635_12M', '191_73942616_3M', '191_73942616_6M', '191_73942616_12M', '191_73942616_24M', '191_74688361_3M', '191_74688361_6M', '191_74688361_12M', '191_74904081_12M', '191_74945793_3M', '191_74945793_12M', '191_75799922_6M', '191_75799922_12M', '191_75799922_18M', '191_75804093_3M', '191_75804093_6M', '191_75833259_6M', '191_75833259_12M', '191_75903249_6M', '191_76006961_3M', '191_76006961_6M', '191_76009725_3M', '191_76009725_6M', '191_76388414_3M', '191_76388414_6M', '191_76388414_12M', '191_76704585_3M', '191_76804093_6M', '191_77157098_3M', '191_77157098_6M', '191_77157098_12M', '191_77343641_3M', '191_77343641_6M', '191_77343641_12M', '191_77343641_18M', '191_77518813_3M', '191_77518813_6M', '191_77518813_12M', '191_77518813_18M', '191_77767333_6M', '191_77767333_12M', '191_77767333_18M', '191_77865641_3M', '191_77865641_6M', '191_77865641_12M', '191_78282621_12M', '191_78552161_3M', '191_78552161_6M', '191_79186641_3M', '191_79186641_6M', '191_79186641_18M', '191_79261749_3M', '191_79261749_6M', '191_79261749_12M', '191_79742065_12M', '191_79758419_3M', '191_79778957_3M', '191_79778957_6M', '191_79778957_12M', '191_80014837_6M', '191_80014837_12M', '191_80306672_6M', '191_80566139_6M', '191_80566139_18M', '191_80586959_12M', '191_80586959_18M', '191_81274355_3M', '191_81274355_6M', '191_81274355_12M', '191_81477415_3M', '191_81477415_6M', '191_81477415_12M', '191_81831129_3M', '191_82134774_3M', '191_82220356_6M', '191_82220356_12M', '191_82220356_18M', '191_82241096_3M', '191_82241096_6M', '191_82241096_12M', '191_82416234_12M', '191_83623750_6M', '191_83623750_12M', '191_83847544_18M', '191_84352636_3M', '191_84425932_3M', '191_84425932_6M', '191_84425932_24M', '191_84933542_3M', '191_84933542_6M', '191_84933542_18M', '191_85539019_3M', '191_85588044_6M', '191_85588044_12M', '191_85784479_6M', '191_85784479_12M', '191_85821768_3M', '191_85821768_6M', '191_85821768_12M', '191_85821768_18M', '191_85926465_6M', '191_85926465_12M', '191_86087049_6M', '191_86553440_3M', '191_86553440_6M', '191_86973716_6M', '191_86973716_12M', '191_87091749_6M', '191_87091749_18M', '191_87092749_12M', '191_87594279_6M', '191_87615223_6M', '191_87615223_12M', '191_88659099_3M', '191_88659099_6M', '191_88659099_12M', '191_88879029_3M', '191_88964748_3M', '191_89184357_6M', '191_89184357_12M', '191_89654844_6M', '191_89654844_12M', '191_90292551_6M', '191_90580532_3M', '191_90580532_6M', '191_90580532_12M', '191_90972406_3M', '191_91059743_3M', '191_91059743_6M', '191_91059743_12M', '191_91724418_3M', '191_91724418_6M', '191_91724418_12M', '191_91860292_6M', '191_91945250_3M', '191_92081965_3M', '191_92081965_6M', '191_92081965_12M', '191_92934454_6M', '191_92934454_18M', '191_93368423_3M', '191_93368423_6M', '191_93368423_12M', '191_93744287_6M', '191_94399640_3M', '191_94399640_6M', '191_94399640_18M', '191_95283342_3M', '191_95283342_12M', '191_95740777_3M', '191_95740777_12M', '191_95774215_6M', '191_96672854_6M', '191_96928021_3M', '191_96928021_12M', '191_97018029_6M', '191_97131221_3M', '191_97131221_6M', '191_97131221_12M', '191_97137841_6M', '191_97137847_6M', '191_97213684_3M', '191_97213684_6M', '191_97360188_3M', '191_97773091_3M', '191_97789056_6M', '191_97789056_18M', '191_98117712_6M', '191_98117712_12M', '191_98300138_6M', '191_98300138_12M', '191_98498849_3M', '191_98904731_3M', '191_98904731_6M', '191_98904731_12M', '191_99135497_6M', '191_99527898_3M', '191_99527898_6M', '191_99527898_12M', '191_99704528_6M', '191_99799072_3M', '191_99799072_6M', '191_99799072_18M', 'Khula']\n",
      "145\n"
     ]
    }
   ],
   "source": [
    "print(new_HF)\n",
    "HF_subs_final = os.listdir(new_HF)\n",
    "for i in HF_subs_final:\n",
    "    if 'DS' in i:\n",
    "        HF_subs_final.remove(i)\n",
    "HF_subs_final = sorted(HF_subs_final, key=numericalSort)\n",
    "print(HF_subs_final)\n",
    "\n",
    "print(new_LF)\n",
    "LF_subs_final = os.listdir(new_LF)\n",
    "for i in LF_subs_final:\n",
    "    if 'DS' in i:\n",
    "        LF_subs_final.remove(i)\n",
    "LF_subs_final = sorted(LF_subs_final, key=numericalSort)\n",
    "print(LF_subs_final)\n",
    "\n",
    "counter = 0\n",
    "for i in HF_subs_final:\n",
    "    if i in LF_subs_final:\n",
    "        # print(i)\n",
    "        counter += 1\n",
    "\n",
    "print(counter)"
   ]
  },
  {
   "cell_type": "code",
   "execution_count": 112,
   "metadata": {},
   "outputs": [],
   "source": [
    "# Rename HF and LF files\n",
    "\n",
    "for i in HF_subs_final:\n",
    "    file = os.listdir(op.join(new_HF, i))[0]\n",
    "    new_name = i + '.nii.gz'\n",
    "    os.rename(op.join(new_HF, i, file), op.join(new_HF, i, new_name))\n"
   ]
  },
  {
   "cell_type": "code",
   "execution_count": 113,
   "metadata": {},
   "outputs": [],
   "source": [
    "for i in LF_subs_final:\n",
    "    file = os.listdir(op.join(new_LF, i))[0]\n",
    "    new_name = i + '.nii.gz'\n",
    "    os.rename(op.join(new_LF, i, file), op.join(new_LF, i, new_name))"
   ]
  },
  {
   "cell_type": "code",
   "execution_count": 114,
   "metadata": {},
   "outputs": [],
   "source": [
    "# Find paired files\n",
    "\n",
    "for i in HF_subs_final:\n",
    "    if i in LF_subs_final:\n",
    "        file_HF = os.listdir(op.join(new_HF, i))[0]\n",
    "        file_LF = os.listdir(op.join(new_LF, i))[0]\n",
    "\n",
    "        dest_path_HF = '/Volumes/Data/Khula_paired/HF'\n",
    "        dest_path_LF = '/Volumes/Data/Khula_paired/LF'\n",
    "\n",
    "        shutil.copy2(op.join(new_HF, i, file_HF), op.join(dest_path_HF, file_HF))\n",
    "        shutil.copy2(op.join(new_LF, i, file_LF), op.join(dest_path_LF, file_LF))\n",
    "\n",
    "        os.remove(op.join(new_HF, i, file_HF))\n",
    "        os.remove(op.join(new_LF, i, file_LF))\n",
    "\n",
    "        os.rmdir(op.join(new_HF, i))\n",
    "        os.rmdir(op.join(new_LF, i))"
   ]
  },
  {
   "cell_type": "code",
   "execution_count": 116,
   "metadata": {},
   "outputs": [
    {
     "name": "stdout",
     "output_type": "stream",
     "text": [
      "/Volumes/Data/Khula/HF\n",
      "39\n",
      "/Volumes/Data/Khula/LF\n",
      "496\n"
     ]
    }
   ],
   "source": [
    "print(new_HF)\n",
    "HF_subs_final = os.listdir(new_HF)\n",
    "for i in HF_subs_final:\n",
    "    if 'DS' in i:\n",
    "        HF_subs_final.remove(i)\n",
    "HF_subs_final = sorted(HF_subs_final, key=numericalSort)\n",
    "print(len(HF_subs_final))\n",
    "\n",
    "print(new_LF)\n",
    "LF_subs_final = os.listdir(new_LF)\n",
    "for i in LF_subs_final:\n",
    "    if 'DS' in i:\n",
    "        LF_subs_final.remove(i)\n",
    "LF_subs_final = sorted(LF_subs_final, key=numericalSort)\n",
    "print(len(LF_subs_final))"
   ]
  },
  {
   "cell_type": "code",
   "execution_count": 117,
   "metadata": {},
   "outputs": [],
   "source": [
    "for i in HF_subs_final:\n",
    "    file_HF = os.listdir(op.join(new_HF, i))[0]\n",
    "       \n",
    "    dest_path_HF = '/Volumes/Data/Khula_unpaired/HF'\n",
    "    shutil.copy2(op.join(new_HF, i, file_HF), op.join(dest_path_HF, file_HF))\n",
    "    os.remove(op.join(new_HF, i, file_HF))\n",
    "    os.rmdir(op.join(new_HF, i))\n",
    "\n",
    "for i in LF_subs_final:\n",
    "    file_LF = os.listdir(op.join(new_LF, i))[0]\n",
    "       \n",
    "    dest_path_LF = '/Volumes/Data/Khula_unpaired/LF'\n",
    "    shutil.copy2(op.join(new_LF, i, file_LF), op.join(dest_path_LF, file_LF))\n",
    "    os.remove(op.join(new_LF, i, file_LF))\n",
    "    os.rmdir(op.join(new_LF, i))"
   ]
  },
  {
   "cell_type": "code",
   "execution_count": 4,
   "metadata": {},
   "outputs": [],
   "source": [
    "hf_paired = os.listdir('/Volumes/Data/Khula_paired/HF')\n",
    "for i in hf_paired:\n",
    "    if 'DS' in i:\n",
    "        hf_paired.remove(i)\n",
    "hf_paired = sorted(hf_paired, key=numericalSort)\n",
    "\n",
    "lf_paired = os.listdir('/Volumes/Data/Khula_paired/LF')\n",
    "for i in lf_paired:\n",
    "    if 'DS' in i:\n",
    "        lf_paired.remove(i)\n",
    "lf_paired = sorted(lf_paired, key=numericalSort)\n",
    "\n",
    "hf_unpaired = os.listdir('/Volumes/Data/Khula_unpaired/HF')\n",
    "for i in hf_unpaired:\n",
    "    if 'DS' in i:\n",
    "        hf_unpaired.remove(i)\n",
    "hf_unpaired = sorted(hf_unpaired, key=numericalSort)\n",
    "\n",
    "lf_unpaired = os.listdir('/Volumes/Data/Khula_unpaired/LF')\n",
    "for i in lf_unpaired:\n",
    "    if 'DS' in i:\n",
    "        lf_unpaired.remove(i)\n",
    "lf_unpaired = sorted(lf_unpaired, key=numericalSort)"
   ]
  },
  {
   "cell_type": "code",
   "execution_count": 5,
   "metadata": {},
   "outputs": [
    {
     "name": "stdout",
     "output_type": "stream",
     "text": [
      "['191_7688414_6M.nii.gz', '191_11991799_12M.nii.gz', '191_17632409_12M.nii.gz', '191_17825403_3M.nii.gz', '191_30545639_3M.nii.gz', '191_30545639_6M.nii.gz', '191_31861014_12M.nii.gz', '191_35193895_18M.nii.gz', '191_35616868_6M.nii.gz', '191_35655048_18M.nii.gz', '191_38017803_3M.nii.gz', '191_40748000_6M.nii.gz', '191_41185748_6M.nii.gz', '191_41817868_6M.nii.gz', '191_42202758_3M.nii.gz', '191_42202758_18M.nii.gz', '191_43443613_6M.nii.gz', '191_45931101_12M.nii.gz', '191_46252060_3M.nii.gz', '191_46616096_12M.nii.gz', '191_58945500_6M.nii.gz', '191_62910762_3M.nii.gz', '191_65146108_3M.nii.gz', '191_66271949_12M.nii.gz', '191_66511850_12M.nii.gz', '191_66622988_18M.nii.gz', '191_70439269_12M.nii.gz', '191_75903249_3M.nii.gz', '191_80306672_3M.nii.gz', '191_81903722_3M.nii.gz', '191_83623750_3M.nii.gz', '191_86973716_3M.nii.gz', '191_91801361_6M.nii.gz', '191_94399640_12M.nii.gz', '191_95740777_6M.nii.gz', '191_97018029_3M.nii.gz', '191_97735991_3M.nii.gz', '191_98904731_18M.nii.gz', '19145194564_6M.nii.gz']\n"
     ]
    }
   ],
   "source": [
    "print(hf_unpaired)"
   ]
  },
  {
   "cell_type": "code",
   "execution_count": 6,
   "metadata": {},
   "outputs": [],
   "source": [
    "# Edit text files to then be able to QC\n",
    "\n",
    "f1 = open(\"/Volumes/Data/Khula_paired/HF_subs_paired.txt\", \"w\")\n",
    "\n",
    "myString = \"\"\n",
    "end = len(hf_paired) - 1\n",
    "for i in range(len(hf_paired)):\n",
    "    if i < end:\n",
    "        myString += \"\\\"\" + hf_paired[i] + \"\\\"\" + \" \"\n",
    "    else:\n",
    "        myString += \"\\\"\" + hf_paired[i] + \"\\\"\"\n",
    "\n",
    "f1.write(myString)\n",
    "f1.close()    "
   ]
  },
  {
   "cell_type": "code",
   "execution_count": 7,
   "metadata": {},
   "outputs": [],
   "source": [
    "f2 = open(\"/Volumes/Data/Khula_paired/LF_subs_paired.txt\", \"w\")\n",
    "\n",
    "myString = \"\"\n",
    "end = len(lf_paired) - 1\n",
    "for i in range(len(lf_paired)):\n",
    "    if i < end:\n",
    "        myString += \"\\\"\" + lf_paired[i] + \"\\\"\" + \" \"\n",
    "    else:\n",
    "        myString += \"\\\"\" + lf_paired[i] + \"\\\"\"\n",
    "\n",
    "f2.write(myString)\n",
    "f2.close()"
   ]
  },
  {
   "cell_type": "code",
   "execution_count": 8,
   "metadata": {},
   "outputs": [],
   "source": [
    "f3 = open(\"/Volumes/Data/Khula_unpaired/HF_subs_unpaired.txt\", \"w\")\n",
    "\n",
    "myString = \"\"\n",
    "end = len(hf_unpaired) - 1\n",
    "for i in range(len(hf_unpaired)):\n",
    "    if i < end:\n",
    "        myString += \"\\\"\" + hf_unpaired[i] + \"\\\"\" + \" \"\n",
    "    else:\n",
    "        myString += \"\\\"\" + hf_unpaired[i] + \"\\\"\"\n",
    "\n",
    "f3.write(myString)\n",
    "f3.close()"
   ]
  },
  {
   "cell_type": "code",
   "execution_count": 9,
   "metadata": {},
   "outputs": [],
   "source": [
    "f4 = open(\"/Volumes/Data/Khula_unpaired/LF_subs_unpaired.txt\", \"w\")\n",
    "\n",
    "myString = \"\"\n",
    "end = len(lf_unpaired) - 1\n",
    "for i in range(len(lf_unpaired)):\n",
    "    if i < end:\n",
    "        myString += \"\\\"\" + lf_unpaired[i] + \"\\\"\" + \" \"\n",
    "    else:\n",
    "        myString += \"\\\"\" + lf_unpaired[i] + \"\\\"\"\n",
    "\n",
    "f4.write(myString)\n",
    "f4.close()"
   ]
  },
  {
   "cell_type": "code",
   "execution_count": 14,
   "metadata": {},
   "outputs": [],
   "source": [
    "# Extras\n",
    "\n",
    "extraHF = os.listdir('/Volumes/Data/Khula/extra_HF')\n",
    "for i in extraHF:\n",
    "    if 'DS' in i:\n",
    "        extraHF.remove(i)\n",
    "extraHF = sorted(extraHF, key=numericalSort)\n",
    "\n",
    "extraLF = os.listdir('/Volumes/Data/Khula/extra_LF')\n",
    "for i in extraLF:\n",
    "    if 'DS' in i:\n",
    "        extraLF.remove(i)\n",
    "extraLF = sorted(extraLF, key=numericalSort)\n",
    "\n",
    "for i in extraHF:\n",
    "    if i in extraLF:\n",
    "        print(i)"
   ]
  },
  {
   "cell_type": "code",
   "execution_count": 20,
   "metadata": {},
   "outputs": [
    {
     "name": "stdout",
     "output_type": "stream",
     "text": [
      "191_19175800_3M\n",
      "191_26655637_3M\n",
      "191_35028047_3M\n",
      "191_37298891_6M\n",
      "191_73357635_3M\n",
      "191_82134774_3M\n",
      "191_97773091_3M\n"
     ]
    }
   ],
   "source": [
    "LF_unpaired_subs = os.listdir('/Volumes/Data/Khula_unpaired/LF')\n",
    "for i in LF_unpaired_subs:\n",
    "    if 'DS' in i:\n",
    "        LF_unpaired_subs.remove(i)\n",
    "LF_unpaired_subs = sorted(LF_unpaired_subs, key=numericalSort)\n",
    "LF_unpaired_final = []\n",
    "for i in range(len(LF_unpaired_subs)):\n",
    "    new_sub = LF_unpaired_subs[i][:-7]\n",
    "    LF_unpaired_subs[i] = new_sub\n",
    "\n",
    "for i in extraHF:\n",
    "    if i in LF_unpaired_subs:\n",
    "        print(i)\n",
    "        shutil.copy2(op.join('/Volumes/Data/Khula/extra_HF', i, i+'.nii.gz'), op.join('/Volumes/Data/Khula_paired/HF', i+'.nii.gz'))\n",
    "        os.remove(op.join('/Volumes/Data/Khula/extra_HF', i, i+'.nii.gz'))\n",
    "        # os.rmdir(op.join('/Volumes/Data/Khula/extra_HF', i))\n",
    "\n",
    "        shutil.copy2(op.join('/Volumes/Data/Khula_unpaired/LF', i+'.nii.gz'), op.join('/Volumes/Data/Khula_paired/LF', i+'.nii.gz'))\n",
    "        os.remove(op.join('/Volumes/Data/Khula_unpaired/LF', i+'.nii.gz'))\n"
   ]
  },
  {
   "cell_type": "code",
   "execution_count": 26,
   "metadata": {},
   "outputs": [
    {
     "name": "stdout",
     "output_type": "stream",
     "text": [
      "191_17632409_12M\n",
      "191_30545639_3M\n",
      "191_46252060_3M\n"
     ]
    }
   ],
   "source": [
    "HF_unpaired_subs = os.listdir('/Volumes/Data/Khula_unpaired/HF')\n",
    "for i in HF_unpaired_subs:\n",
    "    if 'DS' in i:\n",
    "        HF_unpaired_subs.remove(i)\n",
    "HF_unpaired_subs = sorted(HF_unpaired_subs, key=numericalSort)\n",
    "HF_unpaired_final = []\n",
    "for i in range(len(HF_unpaired_subs)):\n",
    "    new_sub = HF_unpaired_subs[i][:-7]\n",
    "    HF_unpaired_final.append(new_sub)\n",
    "\n",
    "for i in extraLF:\n",
    "    if i in HF_unpaired_final:\n",
    "        print(i)\n",
    "        shutil.copy2(op.join('/Volumes/Data/Khula/extra_LF', i, i+'.nii.gz'), op.join('/Volumes/Data/Khula_paired/LF', i+'.nii.gz'))\n",
    "        os.remove(op.join('/Volumes/Data/Khula/extra_LF', i, i+'.nii.gz'))\n",
    "        # os.rmdir(op.join('/Volumes/Data/Khula/extra_LF', i))\n",
    "\n",
    "        shutil.copy2(op.join('/Volumes/Data/Khula_unpaired/HF', i+'.nii.gz'), op.join('/Volumes/Data/Khula_paired/HF', i+'.nii.gz'))\n",
    "        os.remove(op.join('/Volumes/Data/Khula_unpaired/HF', i+'.nii.gz'))"
   ]
  },
  {
   "cell_type": "code",
   "execution_count": 31,
   "metadata": {},
   "outputs": [
    {
     "name": "stdout",
     "output_type": "stream",
     "text": [
      "11\n",
      "8\n",
      "191_78552161_3M.nii.gz\n"
     ]
    }
   ],
   "source": [
    "# Manual QC\n",
    "\n",
    "HF_paired_excluded = ['191_19175800_12M.nii.gz', '191_24727795_12M.nii.gz', '191_26383858_3M.nii.gz', '191_43759364_3M.nii.gz', '191_61867644_12M.nii.gz', '191_64745710_3M.nii.gz', '191_76388414_6M.nii.gz', '191_78552161_3M.nii.gz', '191_79186641_3M.nii.gz', '191_85821768_6M.nii.gz', '191_87615223_6M.nii.gz']\n",
    "print(len(HF_paired_excluded))\n",
    "LF_paired_excluded = ['191_19689453_6M.nii.gz', '191_28097536_6M.nii.gz', '191_30101104_12M.nii.gz', '191_35028047_3M.nii.gz', '191_35839450_3M.nii.gz', '191_61867644_3M.nii.gz', '191_78552161_3M.nii.gz', '191_99799072_3M.nii.gz']\n",
    "print(len(LF_paired_excluded))\n",
    "\n",
    "for i in LF_paired_excluded:\n",
    "    if i in HF_paired_excluded:\n",
    "        print(i)"
   ]
  },
  {
   "cell_type": "code",
   "execution_count": 35,
   "metadata": {},
   "outputs": [
    {
     "name": "stdout",
     "output_type": "stream",
     "text": [
      "4\n",
      "24\n"
     ]
    }
   ],
   "source": [
    "HF_unpaired_excluded = ['191_7688414_6M.nii.gz', '191_58945500_6M.nii.gz', '191_80306672_3M.nii.gz', '191_83623750_3M.nii.gz']\n",
    "print(len(HF_unpaired_excluded))\n",
    "LF_unpaired_excluded = ['191_11857141_3M.nii.gz', '191_15377048_6M.nii.gz', '191_23150844_18M.nii.gz', '191_32976770_6M.nii.gz', '191_39710049_3M.nii.gz', '191_45194564_3M.nii.gz', '191_45409866_12M.nii.gz', '191_49292365_3M.nii.gz', '191_55655285_3M.nii.gz', '191_57518965_3M.nii.gz', '191_60273938_3M.nii.gz', '191_63214792_6M.nii.gz', '191_64860105_3M.nii.gz', '191_65216610_3M.nii.gz', '191_65770204_3M.nii.gz', '191_67476244_3M.nii.gz', '191_69114318_6M.nii.gz', '191_76388414_3M.nii.gz', '191_77343641_3M.nii.gz', '191_79758419_3M.nii.gz', '191_82241096_3M.nii.gz', '191_88659099_3M.nii.gz', '191_91945250_3M.nii.gz', 'Khula.nii.gz']\n",
    "print(len(LF_unpaired_excluded))"
   ]
  },
  {
   "cell_type": "code",
   "execution_count": 36,
   "metadata": {},
   "outputs": [],
   "source": [
    "# for i in HF_unpaired_excluded:\n",
    "#     shutil.copy2(op.join('/Volumes/Data/Khula_unpaired/HF', i), op.join('/Volumes/Data/Khula_unpaired/HF_qc_excluded', i))\n",
    "#     os.remove(op.join('/Volumes/Data/Khula_unpaired/HF', i))\n",
    "\n",
    "for i in LF_unpaired_excluded:\n",
    "    shutil.copy2(op.join('/Volumes/Data/Khula_unpaired/LF', i), op.join('/Volumes/Data/Khula_unpaired/LF_qc_excluded', i))\n",
    "    os.remove(op.join('/Volumes/Data/Khula_unpaired/LF', i))"
   ]
  },
  {
   "cell_type": "code",
   "execution_count": 38,
   "metadata": {},
   "outputs": [],
   "source": [
    "for i in HF_paired_excluded:\n",
    "    if i in LF_paired_excluded:\n",
    "        continue\n",
    "    else:\n",
    "        shutil.copy2(op.join('/Volumes/Data/Khula_paired/HF', i), op.join('/Volumes/Data/Khula_paired/HF_qc_excluded', i))\n",
    "        os.remove(op.join('/Volumes/Data/Khula_paired/HF', i))\n",
    "\n",
    "        shutil.copy2(op.join('/Volumes/Data/Khula_paired/LF', i), op.join('/Volumes/Data/Khula_paired/LF_qc_excluded', i))\n",
    "        os.remove(op.join('/Volumes/Data/Khula_paired/LF', i))"
   ]
  },
  {
   "cell_type": "code",
   "execution_count": 39,
   "metadata": {},
   "outputs": [],
   "source": [
    "for i in LF_paired_excluded:    \n",
    "    shutil.copy2(op.join('/Volumes/Data/Khula_paired/LF', i), op.join('/Volumes/Data/Khula_paired/LF_qc_excluded', i))\n",
    "    os.remove(op.join('/Volumes/Data/Khula_paired/LF', i))\n",
    "\n",
    "    shutil.copy2(op.join('/Volumes/Data/Khula_paired/HF', i), op.join('/Volumes/Data/Khula_paired/HF_qc_excluded', i))\n",
    "    os.remove(op.join('/Volumes/Data/Khula_paired/HF', i))"
   ]
  },
  {
   "cell_type": "code",
   "execution_count": null,
   "metadata": {},
   "outputs": [],
   "source": [
    "# After step above, copy the remaining good ones to unpaired (copy because we still want to keep excluded\n",
    "# in folder to have evidence of which subjects were added to unpaired)"
   ]
  },
  {
   "cell_type": "code",
   "execution_count": 3,
   "metadata": {},
   "outputs": [],
   "source": [
    "# Final folders\n",
    "\n",
    "HF_paired_final_folder = '/Volumes/Data/Khula_paired/HF'\n",
    "HF_paired_final = os.listdir(HF_paired_final_folder)\n",
    "for i in HF_paired_final:\n",
    "    if 'DS' in i:\n",
    "        HF_paired_final.remove(i)\n",
    "HF_paired_final = sorted(HF_paired_final, key=numericalSort)\n",
    "\n",
    "LF_paired_final_folder = '/Volumes/Data/Khula_paired/LF'\n",
    "LF_paired_final = os.listdir(LF_paired_final_folder)\n",
    "for i in LF_paired_final:\n",
    "    if 'DS' in i:\n",
    "        LF_paired_final.remove(i)\n",
    "LF_paired_final = sorted(LF_paired_final, key=numericalSort)\n",
    "\n",
    "HF_unpaired_final_folder = '/Volumes/Data/Khula_unpaired/HF'\n",
    "HF_unpaired_final = os.listdir(HF_unpaired_final_folder)\n",
    "for i in HF_unpaired_final:\n",
    "    if 'DS' in i:\n",
    "        HF_unpaired_final.remove(i)\n",
    "HF_unpaired_final = sorted(HF_unpaired_final, key=numericalSort)\n",
    "\n",
    "LF_unpaired_final_folder = '/Volumes/Data/Khula_unpaired/LF'\n",
    "LF_unpaired_final = os.listdir(LF_unpaired_final_folder)\n",
    "for i in LF_unpaired_final:\n",
    "    if 'DS' in i:\n",
    "        LF_unpaired_final.remove(i)\n",
    "LF_unpaired_final = sorted(LF_unpaired_final, key=numericalSort)"
   ]
  },
  {
   "cell_type": "code",
   "execution_count": 53,
   "metadata": {},
   "outputs": [
    {
     "name": "stdout",
     "output_type": "stream",
     "text": [
      "36\n",
      "36\n"
     ]
    }
   ],
   "source": [
    "print(len(HF_unpaired_final))\n",
    "print(len(LF_unpaired_final[:len(HF_unpaired_final)]))"
   ]
  },
  {
   "cell_type": "code",
   "execution_count": 48,
   "metadata": {},
   "outputs": [],
   "source": [
    "cycleGANfolder = '/Volumes/Data/CycleGAN'"
   ]
  },
  {
   "cell_type": "code",
   "execution_count": 49,
   "metadata": {},
   "outputs": [],
   "source": [
    "for i in HF_paired_final:\n",
    "    shutil.copy2(op.join(HF_paired_final_folder, i), op.join(cycleGANfolder, 'HF', i))\n",
    "\n",
    "for i in LF_paired_final:\n",
    "    shutil.copy2(op.join(LF_paired_final_folder, i), op.join(cycleGANfolder, 'LF', i))"
   ]
  },
  {
   "cell_type": "code",
   "execution_count": 54,
   "metadata": {},
   "outputs": [],
   "source": [
    "for i in HF_unpaired_final:\n",
    "    shutil.copy2(op.join(HF_unpaired_final_folder, i), op.join(cycleGANfolder, 'HF', i))\n",
    "\n",
    "for i in LF_unpaired_final[:len(HF_unpaired_final)]: # Only copy the same amount of LF subjects as HF\n",
    "    shutil.copy2(op.join(LF_unpaired_final_folder, i), op.join(cycleGANfolder, 'LF', i))"
   ]
  },
  {
   "cell_type": "code",
   "execution_count": null,
   "metadata": {},
   "outputs": [],
   "source": [
    "# I manually moved the last 20 from paired to test (no repeat in train), meaning train data went from 137 to 117\n",
    "# I then added all 36 unpaired HF to train, and to make sure the same amount of LF was added, I added the first 36\n",
    "# This resulted in 153 train subjects and 20 test subjects"
   ]
  },
  {
   "cell_type": "code",
   "execution_count": 10,
   "metadata": {},
   "outputs": [],
   "source": [
    "import gzip\n",
    "\n",
    "def unzip_nii_gz(nii_gz_file_path, output_dir_path):\n",
    "    with gzip.open(nii_gz_file_path, 'rb') as f_in:\n",
    "        with open(output_dir_path, 'wb') as f_out:\n",
    "            shutil.copyfileobj(f_in, f_out)"
   ]
  },
  {
   "cell_type": "code",
   "execution_count": 56,
   "metadata": {},
   "outputs": [],
   "source": [
    "# test_in = '/Volumes/Data/CycleGAN/HF/191_11173897_6M.nii.gz'\n",
    "# test_out = test_in[:-3]\n",
    "\n",
    "# unzip_nii_gz(test_in, test_out)"
   ]
  },
  {
   "cell_type": "code",
   "execution_count": 57,
   "metadata": {},
   "outputs": [],
   "source": [
    "gan_HF_dir = '/Volumes/Data/CycleGAN/HF'\n",
    "gan_LF_dir = '/Volumes/Data/CycleGAN/LF'\n",
    "\n",
    "gan_HF = os.listdir(gan_HF_dir)\n",
    "for i in gan_HF:\n",
    "    if 'DS' in i:\n",
    "        gan_HF.remove(i)\n",
    "gan_HF = sorted(gan_HF, key=numericalSort)\n",
    "\n",
    "gan_LF = os.listdir(gan_LF_dir)\n",
    "for i in gan_LF:\n",
    "    if 'DS' in i:\n",
    "        gan_LF.remove(i)\n",
    "gan_LF = sorted(gan_LF, key=numericalSort)"
   ]
  },
  {
   "cell_type": "code",
   "execution_count": 5,
   "metadata": {},
   "outputs": [],
   "source": [
    "gan_HF_test_dir = '/Volumes/Data/CycleGAN/HF_test'\n",
    "gan_LF_test_dir = '/Volumes/Data/CycleGAN/LF_test'\n",
    "\n",
    "gan_HF_test = os.listdir(gan_HF_test_dir)\n",
    "for i in gan_HF_test:\n",
    "    if 'DS' in i:\n",
    "        gan_HF_test.remove(i)\n",
    "gan_HF_test = sorted(gan_HF_test, key=numericalSort)\n",
    "\n",
    "gan_LF_test = os.listdir(gan_LF_test_dir)\n",
    "for i in gan_LF_test:\n",
    "    if 'DS' in i:\n",
    "        gan_LF_test.remove(i)\n",
    "gan_LF_test = sorted(gan_LF_test, key=numericalSort)"
   ]
  },
  {
   "cell_type": "code",
   "execution_count": 61,
   "metadata": {},
   "outputs": [],
   "source": [
    "for i in gan_HF:\n",
    "    in_path = op.join(gan_HF_dir, i)\n",
    "    out_path = in_path[:-3]\n",
    "    unzip_nii_gz(in_path, out_path)\n",
    "    os.remove(in_path)\n",
    "\n",
    "for i in gan_LF:\n",
    "    in_path = op.join(gan_LF_dir, i)\n",
    "    out_path = in_path[:-3]\n",
    "    unzip_nii_gz(in_path, out_path)\n",
    "    os.remove(in_path)"
   ]
  },
  {
   "cell_type": "code",
   "execution_count": 6,
   "metadata": {},
   "outputs": [],
   "source": [
    "for i in gan_HF_test:\n",
    "    in_path = op.join(gan_HF_test_dir, i)\n",
    "    out_path = in_path[:-3]\n",
    "    unzip_nii_gz(in_path, out_path)\n",
    "    os.remove(in_path)\n",
    "\n",
    "for i in gan_LF_test:\n",
    "    in_path = op.join(gan_LF_test_dir, i)\n",
    "    out_path = in_path[:-3]\n",
    "    unzip_nii_gz(in_path, out_path)\n",
    "    os.remove(in_path)"
   ]
  },
  {
   "cell_type": "markdown",
   "metadata": {},
   "source": [
    "## Getting 12M+ scans for Daniel"
   ]
  },
  {
   "cell_type": "code",
   "execution_count": 4,
   "metadata": {},
   "outputs": [],
   "source": [
    "new_folder = '/Volumes/Data/X_Khula_12Mp_HF'\n",
    "\n",
    "for i in HF_paired_final:\n",
    "    if '12M' in i or '18M' in i:\n",
    "        shutil.copy2(op.join(HF_paired_final_folder, i), op.join(new_folder, i))\n",
    "\n",
    "for i in HF_unpaired_final:\n",
    "    if '12M' in i or '18M' in i:\n",
    "        shutil.copy2(op.join(HF_unpaired_final_folder, i), op.join(new_folder, i))"
   ]
  },
  {
   "cell_type": "code",
   "execution_count": 6,
   "metadata": {},
   "outputs": [
    {
     "name": "stdout",
     "output_type": "stream",
     "text": [
      "44\n"
     ]
    }
   ],
   "source": [
    "Khula_12_18 = os.listdir(new_folder)\n",
    "for i in Khula_12_18:\n",
    "    if 'DS' in i:\n",
    "        Khula_12_18.remove(i)\n",
    "Khula_12_18 = sorted(Khula_12_18, key=numericalSort)\n",
    "\n",
    "print(len(Khula_12_18))"
   ]
  },
  {
   "cell_type": "code",
   "execution_count": 7,
   "metadata": {},
   "outputs": [],
   "source": [
    "f5 = open(\"/Volumes/Data/Khula_12M_18M.txt\", \"w\")\n",
    "\n",
    "myString = \"\"\n",
    "end = len(Khula_12_18) - 1\n",
    "for i in range(len(Khula_12_18)):\n",
    "    if i < end:\n",
    "        myString += \"\\\"\" + Khula_12_18[i] + \"\\\"\" + \" \"\n",
    "    else:\n",
    "        myString += \"\\\"\" + Khula_12_18[i] + \"\\\"\"\n",
    "\n",
    "f5.write(myString)\n",
    "f5.close()"
   ]
  },
  {
   "cell_type": "code",
   "execution_count": 14,
   "metadata": {},
   "outputs": [
    {
     "name": "stdout",
     "output_type": "stream",
     "text": [
      "['191_11991799_12M', '191_17632409_12M', '191_19689453_12M', '191_26240272_12M', '191_26383858_12M', '191_27487331_12M', '191_28370676_12M', '191_30101104_12M', '191_30130345_12M', '191_31861014_12M', '191_35193895_12M', '191_35193895_18M', '191_35616868_12M', '191_35655048_18M', '191_35839450_12M', '191_37069639_12M', '191_38318504_12M', '191_41661055_12M', '191_41926846_12M', '191_42202758_18M', '191_44078145_12M', '191_45931101_12M', '191_46616096_12M', '191_49292365_12M', '191_49513164_12M', '191_62910762_12M', '191_64253579_12M', '191_65700986_12M', '191_65770204_18M', '191_66271949_12M', '191_66511850_12M', '191_66622988_18M', '191_70439269_12M', '191_74904081_12M', '191_75799922_12M', '191_77157098_12M', '191_83623750_12M', '191_86973716_12M', '191_88659099_12M', '191_91059743_12M', '191_94399640_12M', '191_95740777_12M', '191_98904731_18M', '191_99527898_12M']\n"
     ]
    }
   ],
   "source": [
    "final_Khula_12_18 = os.listdir('/Volumes/Data/X_Khula_12M_18M')\n",
    "for i in final_Khula_12_18[:]:\n",
    "    if 'DS' in i or '.nii.gz' in i:\n",
    "        final_Khula_12_18.remove(i)\n",
    "final_Khula_12_18 = sorted(final_Khula_12_18, key=numericalSort)\n",
    "\n",
    "print((final_Khula_12_18))"
   ]
  },
  {
   "cell_type": "code",
   "execution_count": 21,
   "metadata": {},
   "outputs": [],
   "source": [
    "for i in final_Khula_12_18:\n",
    "    origFile = i+'.nii.gz'\n",
    "    shutil.copy2(op.join('/Volumes/Data/X_Khula_12M_18M', origFile), op.join('/Volumes/Data/X_Khula_12M_18M', i, origFile))\n",
    "    os.remove(op.join('/Volumes/Data/X_Khula_12M_18M', origFile))\n",
    "\n"
   ]
  },
  {
   "cell_type": "code",
   "execution_count": 35,
   "metadata": {},
   "outputs": [
    {
     "name": "stdout",
     "output_type": "stream",
     "text": [
      "1\n"
     ]
    }
   ],
   "source": [
    "import random\n",
    "print(random.randint(1, 3))"
   ]
  },
  {
   "cell_type": "code",
   "execution_count": 36,
   "metadata": {},
   "outputs": [
    {
     "name": "stdout",
     "output_type": "stream",
     "text": [
      "True\n"
     ]
    }
   ],
   "source": [
    "print(np.remainder(0, 2) == 0)"
   ]
  },
  {
   "cell_type": "markdown",
   "metadata": {},
   "source": [
    "## Hype preprocessing"
   ]
  },
  {
   "cell_type": "code",
   "execution_count": 8,
   "metadata": {},
   "outputs": [
    {
     "name": "stdout",
     "output_type": "stream",
     "text": [
      "['sub-HYPE00', 'sub-HYPE01', 'sub-HYPE02', 'sub-HYPE03', 'sub-HYPE04', 'sub-HYPE05', 'sub-HYPE06', 'sub-HYPE07', 'sub-HYPE08', 'sub-HYPE09', 'sub-HYPE10', 'sub-HYPE11', 'sub-HYPE12', 'sub-HYPE13', 'sub-HYPE14', 'sub-HYPE15', 'sub-HYPE16', 'sub-HYPE17', 'sub-HYPE18', 'sub-HYPE19', 'sub-HYPE20', 'sub-HYPE21', 'sub-HYPE22']\n"
     ]
    }
   ],
   "source": [
    "Hype_dir = '/media/hdd/levibaljer/Hype/rawdata'\n",
    "\n",
    "Hype_subs = os.listdir(Hype_dir)\n",
    "for i in Hype_dir:\n",
    "    if 'DS' in i:\n",
    "        Hype_dir.remove(i)\n",
    "Hype_subs = sorted(Hype_subs, key=numericalSort)\n",
    "\n",
    "print((Hype_subs))"
   ]
  },
  {
   "cell_type": "code",
   "execution_count": null,
   "metadata": {},
   "outputs": [],
   "source": [
    "for i in gan_HF:\n",
    "    in_path = op.join(gan_HF_dir, i)\n",
    "    out_path = in_path[:-3]\n",
    "    unzip_nii_gz(in_path, out_path)\n",
    "    os.remove(in_path)"
   ]
  },
  {
   "cell_type": "code",
   "execution_count": 19,
   "metadata": {},
   "outputs": [
    {
     "name": "stdout",
     "output_type": "stream",
     "text": [
      "0\n"
     ]
    }
   ],
   "source": [
    "for i in Hype_subs:\n",
    "    HF_scan = op.join(Hype_dir, i, 'ses-GE', 'anat', i+'_ses-GE_T2w.nii.gz')\n",
    "    unzipped = HF_scan[:-3]\n",
    "    unzip_nii_gz(HF_scan, unzipped)\n",
    "\n",
    "    old_name = unzipped\n",
    "    new_name = op.join(Hype_dir, i, 'ses-GE', 'anat', i + '_GT.nii')\n",
    "    os.rename(old_name, new_name)"
   ]
  },
  {
   "cell_type": "code",
   "execution_count": 22,
   "metadata": {},
   "outputs": [],
   "source": [
    "for i in Hype_subs:\n",
    "    LF_scan = op.join(Hype_dir, i, 'ses-HFC', 'anat', i+'_ses-HFC_acq-axi_T2w.nii.gz')\n",
    "    unzipped = LF_scan[:-3]\n",
    "    unzip_nii_gz(LF_scan, unzipped)\n",
    "\n",
    "    old_name = unzipped\n",
    "    new_name = op.join(Hype_dir, i, 'ses-HFC', 'anat', i + '_axi.nii')\n",
    "    os.rename(old_name, new_name)"
   ]
  },
  {
   "cell_type": "code",
   "execution_count": 27,
   "metadata": {},
   "outputs": [],
   "source": [
    "new_HF_dir = '/media/hdd/levibaljer/Hype/HF'\n",
    "new_LF_dir = '/media/hdd/levibaljer/Hype/LF'\n",
    "\n",
    "for i in Hype_subs:\n",
    "    #HF_scan = op.join(Hype_dir, i, 'ses-GE', 'anat', i+'ses-GE_T2w.nii.gz')\n",
    "    HF_scan = op.join(Hype_dir, i, 'ses-GE', 'anat', i + '_GT.nii')\n",
    "    LF_scan = op.join(Hype_dir, i, 'ses-HFC', 'anat', i + '_axi.nii')\n",
    "\n",
    "    shutil.copy2(HF_scan, op.join(new_HF_dir, i + '_GT.nii'))\n",
    "    shutil.copy2(LF_scan, op.join(new_LF_dir, i + '_axi.nii'))\n",
    "\n"
   ]
  },
  {
   "cell_type": "code",
   "execution_count": null,
   "metadata": {},
   "outputs": [],
   "source": []
  }
 ],
 "metadata": {
  "kernelspec": {
   "display_name": "unet",
   "language": "python",
   "name": "python3"
  },
  "language_info": {
   "codemirror_mode": {
    "name": "ipython",
    "version": 3
   },
   "file_extension": ".py",
   "mimetype": "text/x-python",
   "name": "python",
   "nbconvert_exporter": "python",
   "pygments_lexer": "ipython3",
   "version": "undefined.undefined.undefined"
  }
 },
 "nbformat": 4,
 "nbformat_minor": 2
}
