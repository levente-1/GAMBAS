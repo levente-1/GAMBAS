{
 "cells": [
  {
   "cell_type": "code",
   "execution_count": 1,
   "metadata": {},
   "outputs": [
    {
     "name": "stderr",
     "output_type": "stream",
     "text": [
      "/home/levibaljer/anaconda3/envs/unet/lib/python3.8/site-packages/mamba_ssm/ops/selective_scan_interface.py:164: FutureWarning: `torch.cuda.amp.custom_fwd(args...)` is deprecated. Please use `torch.amp.custom_fwd(args..., device_type='cuda')` instead.\n",
      "  def forward(ctx, xz, conv1d_weight, conv1d_bias, x_proj_weight, delta_proj_weight,\n",
      "/home/levibaljer/anaconda3/envs/unet/lib/python3.8/site-packages/mamba_ssm/ops/selective_scan_interface.py:240: FutureWarning: `torch.cuda.amp.custom_bwd(args...)` is deprecated. Please use `torch.amp.custom_bwd(args..., device_type='cuda')` instead.\n",
      "  def backward(ctx, dout):\n",
      "/home/levibaljer/anaconda3/envs/unet/lib/python3.8/site-packages/mamba_ssm/ops/triton/layer_norm.py:986: FutureWarning: `torch.cuda.amp.custom_fwd(args...)` is deprecated. Please use `torch.amp.custom_fwd(args..., device_type='cuda')` instead.\n",
      "  def forward(\n",
      "/home/levibaljer/anaconda3/envs/unet/lib/python3.8/site-packages/mamba_ssm/ops/triton/layer_norm.py:1045: FutureWarning: `torch.cuda.amp.custom_bwd(args...)` is deprecated. Please use `torch.amp.custom_bwd(args..., device_type='cuda')` instead.\n",
      "  def backward(ctx, dout, *args):\n",
      "/home/levibaljer/anaconda3/envs/unet/lib/python3.8/site-packages/mamba_ssm/distributed/tensor_parallel.py:26: FutureWarning: `torch.cuda.amp.custom_fwd(args...)` is deprecated. Please use `torch.amp.custom_fwd(args..., device_type='cuda')` instead.\n",
      "  def forward(ctx, x, weight, bias, process_group=None, sequence_parallel=True):\n",
      "/home/levibaljer/anaconda3/envs/unet/lib/python3.8/site-packages/mamba_ssm/distributed/tensor_parallel.py:62: FutureWarning: `torch.cuda.amp.custom_bwd(args...)` is deprecated. Please use `torch.amp.custom_bwd(args..., device_type='cuda')` instead.\n",
      "  def backward(ctx, grad_output):\n",
      "/home/levibaljer/anaconda3/envs/unet/lib/python3.8/site-packages/mamba_ssm/ops/triton/ssd_combined.py:758: FutureWarning: `torch.cuda.amp.custom_fwd(args...)` is deprecated. Please use `torch.amp.custom_fwd(args..., device_type='cuda')` instead.\n",
      "  def forward(ctx, zxbcdt, conv1d_weight, conv1d_bias, dt_bias, A, D, chunk_size, initial_states=None, seq_idx=None, dt_limit=(0.0, float(\"inf\")), return_final_states=False, activation=\"silu\",\n",
      "/home/levibaljer/anaconda3/envs/unet/lib/python3.8/site-packages/mamba_ssm/ops/triton/ssd_combined.py:836: FutureWarning: `torch.cuda.amp.custom_bwd(args...)` is deprecated. Please use `torch.amp.custom_bwd(args..., device_type='cuda')` instead.\n",
      "  def backward(ctx, dout, *args):\n"
     ]
    }
   ],
   "source": [
    "import os\n",
    "import sys\n",
    "sys.path.append('/home/levibaljer/GAN_suite')\n",
    "# from models import networks3D\n",
    "import torch\n",
    "import torch.nn as nn\n",
    "from torch.nn import init\n",
    "import mamba_ssm\n",
    "import causal_conv1d"
   ]
  },
  {
   "cell_type": "code",
   "execution_count": 3,
   "metadata": {},
   "outputs": [
    {
     "name": "stderr",
     "output_type": "stream",
     "text": [
      "/home/levibaljer/anaconda3/envs/unet/lib/python3.8/site-packages/rotary_embedding_torch/rotary_embedding_torch.py:35: FutureWarning: `torch.cuda.amp.autocast(args...)` is deprecated. Please use `torch.amp.autocast('cuda', args...)` instead.\n",
      "  @autocast(enabled = False)\n",
      "/home/levibaljer/anaconda3/envs/unet/lib/python3.8/site-packages/rotary_embedding_torch/rotary_embedding_torch.py:254: FutureWarning: `torch.cuda.amp.autocast(args...)` is deprecated. Please use `torch.amp.autocast('cuda', args...)` instead.\n",
      "  @autocast(enabled = False)\n"
     ]
    }
   ],
   "source": [
    "from models.networks3D import *\n",
    "from models.residual_transformers import *"
   ]
  },
  {
   "cell_type": "code",
   "execution_count": 5,
   "metadata": {},
   "outputs": [],
   "source": [
    "NetDiscriminator = NLayerDiscriminator(1, 64, 3, norm_layer=nn.InstanceNorm3d, use_sigmoid='False')"
   ]
  },
  {
   "cell_type": "code",
   "execution_count": 6,
   "metadata": {},
   "outputs": [
    {
     "name": "stdout",
     "output_type": "stream",
     "text": [
      "NLayerDiscriminator(\n",
      "  (model): Sequential(\n",
      "    (0): Conv3d(1, 64, kernel_size=(4, 4, 4), stride=(2, 2, 2), padding=(1, 1, 1))\n",
      "    (1): LeakyReLU(negative_slope=0.2, inplace=True)\n",
      "    (2): Conv3d(64, 128, kernel_size=(4, 4, 4), stride=(2, 2, 2), padding=(1, 1, 1))\n",
      "    (3): InstanceNorm3d(128, eps=1e-05, momentum=0.1, affine=False, track_running_stats=False)\n",
      "    (4): LeakyReLU(negative_slope=0.2, inplace=True)\n",
      "    (5): Conv3d(128, 256, kernel_size=(4, 4, 4), stride=(2, 2, 2), padding=(1, 1, 1))\n",
      "    (6): InstanceNorm3d(256, eps=1e-05, momentum=0.1, affine=False, track_running_stats=False)\n",
      "    (7): LeakyReLU(negative_slope=0.2, inplace=True)\n",
      "    (8): Conv3d(256, 512, kernel_size=(4, 4, 4), stride=(1, 1, 1), padding=(1, 1, 1))\n",
      "    (9): InstanceNorm3d(512, eps=1e-05, momentum=0.1, affine=False, track_running_stats=False)\n",
      "    (10): LeakyReLU(negative_slope=0.2, inplace=True)\n",
      "    (11): Conv3d(512, 1, kernel_size=(4, 4, 4), stride=(1, 1, 1), padding=(1, 1, 1))\n",
      "    (12): Sigmoid()\n",
      "  )\n",
      ")\n"
     ]
    }
   ],
   "source": [
    "print(NetDiscriminator)"
   ]
  },
  {
   "cell_type": "code",
   "execution_count": 4,
   "metadata": {},
   "outputs": [],
   "source": [
    "myNet1 = ResnetGenerator(1, 1, 64, norm_layer=nn.InstanceNorm3d, use_dropout=False, n_blocks=9)\n",
    "myNet2 = residual_transformers3D.I2IMamba(\n",
    "            'Res-ViT-B_16',\n",
    "            input_dim=1,\n",
    "            img_size=256,\n",
    "            output_dim=1,\n",
    "            vis=False\n",
    "        )\n",
    "myNet3 = residual_transformers3D.Res_CNN('Res-ViT-B_16', input_dim= 1, img_size=256, output_dim=1, vis=False)"
   ]
  },
  {
   "cell_type": "code",
   "execution_count": 5,
   "metadata": {},
   "outputs": [
    {
     "name": "stdout",
     "output_type": "stream",
     "text": [
      "ResnetGenerator(\n",
      "  (model): Sequential(\n",
      "    (0): ReplicationPad3d((3, 3, 3, 3, 3, 3))\n",
      "    (1): Conv3d(1, 64, kernel_size=(7, 7, 7), stride=(1, 1, 1))\n",
      "    (2): InstanceNorm3d(64, eps=1e-05, momentum=0.1, affine=False, track_running_stats=False)\n",
      "    (3): ReLU(inplace=True)\n",
      "    (4): Conv3d(64, 128, kernel_size=(3, 3, 3), stride=(2, 2, 2), padding=(1, 1, 1))\n",
      "    (5): InstanceNorm3d(128, eps=1e-05, momentum=0.1, affine=False, track_running_stats=False)\n",
      "    (6): ReLU(inplace=True)\n",
      "    (7): Conv3d(128, 256, kernel_size=(3, 3, 3), stride=(2, 2, 2), padding=(1, 1, 1))\n",
      "    (8): InstanceNorm3d(256, eps=1e-05, momentum=0.1, affine=False, track_running_stats=False)\n",
      "    (9): ReLU(inplace=True)\n",
      "    (10): ResnetBlock(\n",
      "      (conv_block): Sequential(\n",
      "        (0): ReplicationPad3d((1, 1, 1, 1, 1, 1))\n",
      "        (1): Conv3d(256, 256, kernel_size=(3, 3, 3), stride=(1, 1, 1))\n",
      "        (2): InstanceNorm3d(256, eps=1e-05, momentum=0.1, affine=False, track_running_stats=False)\n",
      "        (3): ReLU(inplace=True)\n",
      "        (4): ReplicationPad3d((1, 1, 1, 1, 1, 1))\n",
      "        (5): Conv3d(256, 256, kernel_size=(3, 3, 3), stride=(1, 1, 1))\n",
      "        (6): InstanceNorm3d(256, eps=1e-05, momentum=0.1, affine=False, track_running_stats=False)\n",
      "      )\n",
      "    )\n",
      "    (11): ResnetBlock(\n",
      "      (conv_block): Sequential(\n",
      "        (0): ReplicationPad3d((1, 1, 1, 1, 1, 1))\n",
      "        (1): Conv3d(256, 256, kernel_size=(3, 3, 3), stride=(1, 1, 1))\n",
      "        (2): InstanceNorm3d(256, eps=1e-05, momentum=0.1, affine=False, track_running_stats=False)\n",
      "        (3): ReLU(inplace=True)\n",
      "        (4): ReplicationPad3d((1, 1, 1, 1, 1, 1))\n",
      "        (5): Conv3d(256, 256, kernel_size=(3, 3, 3), stride=(1, 1, 1))\n",
      "        (6): InstanceNorm3d(256, eps=1e-05, momentum=0.1, affine=False, track_running_stats=False)\n",
      "      )\n",
      "    )\n",
      "    (12): ResnetBlock(\n",
      "      (conv_block): Sequential(\n",
      "        (0): ReplicationPad3d((1, 1, 1, 1, 1, 1))\n",
      "        (1): Conv3d(256, 256, kernel_size=(3, 3, 3), stride=(1, 1, 1))\n",
      "        (2): InstanceNorm3d(256, eps=1e-05, momentum=0.1, affine=False, track_running_stats=False)\n",
      "        (3): ReLU(inplace=True)\n",
      "        (4): ReplicationPad3d((1, 1, 1, 1, 1, 1))\n",
      "        (5): Conv3d(256, 256, kernel_size=(3, 3, 3), stride=(1, 1, 1))\n",
      "        (6): InstanceNorm3d(256, eps=1e-05, momentum=0.1, affine=False, track_running_stats=False)\n",
      "      )\n",
      "    )\n",
      "    (13): ResnetBlock(\n",
      "      (conv_block): Sequential(\n",
      "        (0): ReplicationPad3d((1, 1, 1, 1, 1, 1))\n",
      "        (1): Conv3d(256, 256, kernel_size=(3, 3, 3), stride=(1, 1, 1))\n",
      "        (2): InstanceNorm3d(256, eps=1e-05, momentum=0.1, affine=False, track_running_stats=False)\n",
      "        (3): ReLU(inplace=True)\n",
      "        (4): ReplicationPad3d((1, 1, 1, 1, 1, 1))\n",
      "        (5): Conv3d(256, 256, kernel_size=(3, 3, 3), stride=(1, 1, 1))\n",
      "        (6): InstanceNorm3d(256, eps=1e-05, momentum=0.1, affine=False, track_running_stats=False)\n",
      "      )\n",
      "    )\n",
      "    (14): ResnetBlock(\n",
      "      (conv_block): Sequential(\n",
      "        (0): ReplicationPad3d((1, 1, 1, 1, 1, 1))\n",
      "        (1): Conv3d(256, 256, kernel_size=(3, 3, 3), stride=(1, 1, 1))\n",
      "        (2): InstanceNorm3d(256, eps=1e-05, momentum=0.1, affine=False, track_running_stats=False)\n",
      "        (3): ReLU(inplace=True)\n",
      "        (4): ReplicationPad3d((1, 1, 1, 1, 1, 1))\n",
      "        (5): Conv3d(256, 256, kernel_size=(3, 3, 3), stride=(1, 1, 1))\n",
      "        (6): InstanceNorm3d(256, eps=1e-05, momentum=0.1, affine=False, track_running_stats=False)\n",
      "      )\n",
      "    )\n",
      "    (15): ResnetBlock(\n",
      "      (conv_block): Sequential(\n",
      "        (0): ReplicationPad3d((1, 1, 1, 1, 1, 1))\n",
      "        (1): Conv3d(256, 256, kernel_size=(3, 3, 3), stride=(1, 1, 1))\n",
      "        (2): InstanceNorm3d(256, eps=1e-05, momentum=0.1, affine=False, track_running_stats=False)\n",
      "        (3): ReLU(inplace=True)\n",
      "        (4): ReplicationPad3d((1, 1, 1, 1, 1, 1))\n",
      "        (5): Conv3d(256, 256, kernel_size=(3, 3, 3), stride=(1, 1, 1))\n",
      "        (6): InstanceNorm3d(256, eps=1e-05, momentum=0.1, affine=False, track_running_stats=False)\n",
      "      )\n",
      "    )\n",
      "    (16): ResnetBlock(\n",
      "      (conv_block): Sequential(\n",
      "        (0): ReplicationPad3d((1, 1, 1, 1, 1, 1))\n",
      "        (1): Conv3d(256, 256, kernel_size=(3, 3, 3), stride=(1, 1, 1))\n",
      "        (2): InstanceNorm3d(256, eps=1e-05, momentum=0.1, affine=False, track_running_stats=False)\n",
      "        (3): ReLU(inplace=True)\n",
      "        (4): ReplicationPad3d((1, 1, 1, 1, 1, 1))\n",
      "        (5): Conv3d(256, 256, kernel_size=(3, 3, 3), stride=(1, 1, 1))\n",
      "        (6): InstanceNorm3d(256, eps=1e-05, momentum=0.1, affine=False, track_running_stats=False)\n",
      "      )\n",
      "    )\n",
      "    (17): ResnetBlock(\n",
      "      (conv_block): Sequential(\n",
      "        (0): ReplicationPad3d((1, 1, 1, 1, 1, 1))\n",
      "        (1): Conv3d(256, 256, kernel_size=(3, 3, 3), stride=(1, 1, 1))\n",
      "        (2): InstanceNorm3d(256, eps=1e-05, momentum=0.1, affine=False, track_running_stats=False)\n",
      "        (3): ReLU(inplace=True)\n",
      "        (4): ReplicationPad3d((1, 1, 1, 1, 1, 1))\n",
      "        (5): Conv3d(256, 256, kernel_size=(3, 3, 3), stride=(1, 1, 1))\n",
      "        (6): InstanceNorm3d(256, eps=1e-05, momentum=0.1, affine=False, track_running_stats=False)\n",
      "      )\n",
      "    )\n",
      "    (18): ResnetBlock(\n",
      "      (conv_block): Sequential(\n",
      "        (0): ReplicationPad3d((1, 1, 1, 1, 1, 1))\n",
      "        (1): Conv3d(256, 256, kernel_size=(3, 3, 3), stride=(1, 1, 1))\n",
      "        (2): InstanceNorm3d(256, eps=1e-05, momentum=0.1, affine=False, track_running_stats=False)\n",
      "        (3): ReLU(inplace=True)\n",
      "        (4): ReplicationPad3d((1, 1, 1, 1, 1, 1))\n",
      "        (5): Conv3d(256, 256, kernel_size=(3, 3, 3), stride=(1, 1, 1))\n",
      "        (6): InstanceNorm3d(256, eps=1e-05, momentum=0.1, affine=False, track_running_stats=False)\n",
      "      )\n",
      "    )\n",
      "    (19): ConvTranspose3d(256, 128, kernel_size=(3, 3, 3), stride=(2, 2, 2), padding=(1, 1, 1), output_padding=(1, 1, 1))\n",
      "    (20): InstanceNorm3d(128, eps=1e-05, momentum=0.1, affine=False, track_running_stats=False)\n",
      "    (21): ReLU(inplace=True)\n",
      "    (22): ConvTranspose3d(128, 64, kernel_size=(3, 3, 3), stride=(2, 2, 2), padding=(1, 1, 1), output_padding=(1, 1, 1))\n",
      "    (23): InstanceNorm3d(64, eps=1e-05, momentum=0.1, affine=False, track_running_stats=False)\n",
      "    (24): ReLU(inplace=True)\n",
      "    (25): ReplicationPad3d((3, 3, 3, 3, 3, 3))\n",
      "    (26): Conv3d(64, 1, kernel_size=(7, 7, 7), stride=(1, 1, 1))\n",
      "    (27): Tanh()\n",
      "  )\n",
      ")\n"
     ]
    }
   ],
   "source": [
    "print(myNet1)"
   ]
  },
  {
   "cell_type": "code",
   "execution_count": 6,
   "metadata": {},
   "outputs": [
    {
     "name": "stdout",
     "output_type": "stream",
     "text": [
      "I2IMamba(\n",
      "  (encoder_1): Sequential(\n",
      "    (0): ReplicationPad3d((3, 3, 3, 3, 3, 3))\n",
      "    (1): Conv3d(1, 64, kernel_size=(7, 7, 7), stride=(1, 1, 1))\n",
      "    (2): InstanceNorm3d(64, eps=1e-05, momentum=0.1, affine=False, track_running_stats=False)\n",
      "    (3): ReLU(inplace=True)\n",
      "  )\n",
      "  (encoder_2): Sequential(\n",
      "    (0): Conv3d(64, 128, kernel_size=(3, 3, 3), stride=(2, 2, 2), padding=(1, 1, 1))\n",
      "    (1): InstanceNorm3d(128, eps=1e-05, momentum=0.1, affine=False, track_running_stats=False)\n",
      "    (2): ReLU(inplace=True)\n",
      "  )\n",
      "  (encoder_3): Sequential(\n",
      "    (0): Conv3d(128, 256, kernel_size=(3, 3, 3), stride=(2, 2, 2), padding=(1, 1, 1))\n",
      "    (1): InstanceNorm3d(256, eps=1e-05, momentum=0.1, affine=False, track_running_stats=False)\n",
      "    (2): ReLU(inplace=True)\n",
      "  )\n",
      "  (bottleneck_1): cmMambaWithCNN(\n",
      "    (mamba_layer): MambaLayer(\n",
      "      (norm): LayerNorm((256,), eps=1e-05, elementwise_affine=True)\n",
      "      (mamba1): Mamba(\n",
      "        (in_proj): Linear(in_features=256, out_features=1024, bias=False)\n",
      "        (conv1d): Conv1d(512, 512, kernel_size=(4,), stride=(1,), padding=(3,), groups=512)\n",
      "        (act): SiLU()\n",
      "        (x_proj): Linear(in_features=512, out_features=48, bias=False)\n",
      "        (dt_proj): Linear(in_features=16, out_features=512, bias=True)\n",
      "        (out_proj): Linear(in_features=512, out_features=256, bias=False)\n",
      "      )\n",
      "      (mamba2): Mamba(\n",
      "        (in_proj): Linear(in_features=256, out_features=1024, bias=False)\n",
      "        (conv1d): Conv1d(512, 512, kernel_size=(4,), stride=(1,), padding=(3,), groups=512)\n",
      "        (act): SiLU()\n",
      "        (x_proj): Linear(in_features=512, out_features=48, bias=False)\n",
      "        (dt_proj): Linear(in_features=16, out_features=512, bias=True)\n",
      "        (out_proj): Linear(in_features=512, out_features=256, bias=False)\n",
      "      )\n",
      "      (conv1d): Conv3d(512, 256, kernel_size=(1, 1, 1), stride=(1, 1, 1))\n",
      "    )\n",
      "    (cc): channel_compression(\n",
      "      (skip): Sequential(\n",
      "        (0): Conv3d(512, 256, kernel_size=(1, 1, 1), stride=(1, 1, 1))\n",
      "        (1): InstanceNorm3d(256, eps=1e-05, momentum=0.1, affine=False, track_running_stats=False)\n",
      "      )\n",
      "      (block): Sequential(\n",
      "        (0): Conv3d(512, 256, kernel_size=(3, 3, 3), stride=(1, 1, 1), padding=(1, 1, 1))\n",
      "        (1): InstanceNorm3d(256, eps=1e-05, momentum=0.1, affine=False, track_running_stats=False)\n",
      "        (2): ReLU()\n",
      "        (3): Conv3d(256, 256, kernel_size=(3, 3, 3), stride=(1, 1, 1), padding=(1, 1, 1))\n",
      "        (4): InstanceNorm3d(256, eps=1e-05, momentum=0.1, affine=False, track_running_stats=False)\n",
      "      )\n",
      "    )\n",
      "    (residual_cnn): Sequential(\n",
      "      (0): ResnetBlock(\n",
      "        (conv_block): Sequential(\n",
      "          (0): ReplicationPad3d((1, 1, 1, 1, 1, 1))\n",
      "          (1): Conv3d(256, 256, kernel_size=(3, 3, 3), stride=(1, 1, 1))\n",
      "          (2): InstanceNorm3d(256, eps=1e-05, momentum=0.1, affine=False, track_running_stats=False)\n",
      "          (3): ReLU(inplace=True)\n",
      "          (4): ReplicationPad3d((1, 1, 1, 1, 1, 1))\n",
      "          (5): Conv3d(256, 256, kernel_size=(3, 3, 3), stride=(1, 1, 1))\n",
      "          (6): InstanceNorm3d(256, eps=1e-05, momentum=0.1, affine=False, track_running_stats=False)\n",
      "        )\n",
      "      )\n",
      "    )\n",
      "  )\n",
      "  (bottleneck_2): cmMambaWithCNN(\n",
      "    (mamba_layer): MambaLayer(\n",
      "      (norm): LayerNorm((256,), eps=1e-05, elementwise_affine=True)\n",
      "      (mamba1): Mamba(\n",
      "        (in_proj): Linear(in_features=256, out_features=1024, bias=False)\n",
      "        (conv1d): Conv1d(512, 512, kernel_size=(4,), stride=(1,), padding=(3,), groups=512)\n",
      "        (act): SiLU()\n",
      "        (x_proj): Linear(in_features=512, out_features=48, bias=False)\n",
      "        (dt_proj): Linear(in_features=16, out_features=512, bias=True)\n",
      "        (out_proj): Linear(in_features=512, out_features=256, bias=False)\n",
      "      )\n",
      "      (mamba2): Mamba(\n",
      "        (in_proj): Linear(in_features=256, out_features=1024, bias=False)\n",
      "        (conv1d): Conv1d(512, 512, kernel_size=(4,), stride=(1,), padding=(3,), groups=512)\n",
      "        (act): SiLU()\n",
      "        (x_proj): Linear(in_features=512, out_features=48, bias=False)\n",
      "        (dt_proj): Linear(in_features=16, out_features=512, bias=True)\n",
      "        (out_proj): Linear(in_features=512, out_features=256, bias=False)\n",
      "      )\n",
      "      (conv1d): Conv3d(512, 256, kernel_size=(1, 1, 1), stride=(1, 1, 1))\n",
      "    )\n",
      "    (cc): channel_compression(\n",
      "      (skip): Sequential(\n",
      "        (0): Conv3d(512, 256, kernel_size=(1, 1, 1), stride=(1, 1, 1))\n",
      "        (1): InstanceNorm3d(256, eps=1e-05, momentum=0.1, affine=False, track_running_stats=False)\n",
      "      )\n",
      "      (block): Sequential(\n",
      "        (0): Conv3d(512, 256, kernel_size=(3, 3, 3), stride=(1, 1, 1), padding=(1, 1, 1))\n",
      "        (1): InstanceNorm3d(256, eps=1e-05, momentum=0.1, affine=False, track_running_stats=False)\n",
      "        (2): ReLU()\n",
      "        (3): Conv3d(256, 256, kernel_size=(3, 3, 3), stride=(1, 1, 1), padding=(1, 1, 1))\n",
      "        (4): InstanceNorm3d(256, eps=1e-05, momentum=0.1, affine=False, track_running_stats=False)\n",
      "      )\n",
      "    )\n",
      "    (residual_cnn): Sequential(\n",
      "      (0): ResnetBlock(\n",
      "        (conv_block): Sequential(\n",
      "          (0): ReplicationPad3d((1, 1, 1, 1, 1, 1))\n",
      "          (1): Conv3d(256, 256, kernel_size=(3, 3, 3), stride=(1, 1, 1))\n",
      "          (2): InstanceNorm3d(256, eps=1e-05, momentum=0.1, affine=False, track_running_stats=False)\n",
      "          (3): ReLU(inplace=True)\n",
      "          (4): ReplicationPad3d((1, 1, 1, 1, 1, 1))\n",
      "          (5): Conv3d(256, 256, kernel_size=(3, 3, 3), stride=(1, 1, 1))\n",
      "          (6): InstanceNorm3d(256, eps=1e-05, momentum=0.1, affine=False, track_running_stats=False)\n",
      "        )\n",
      "      )\n",
      "    )\n",
      "  )\n",
      "  (bottleneck_3): cmMambaWithCNN(\n",
      "    (mamba_layer): MambaLayer(\n",
      "      (norm): LayerNorm((256,), eps=1e-05, elementwise_affine=True)\n",
      "      (mamba1): Mamba(\n",
      "        (in_proj): Linear(in_features=256, out_features=1024, bias=False)\n",
      "        (conv1d): Conv1d(512, 512, kernel_size=(4,), stride=(1,), padding=(3,), groups=512)\n",
      "        (act): SiLU()\n",
      "        (x_proj): Linear(in_features=512, out_features=48, bias=False)\n",
      "        (dt_proj): Linear(in_features=16, out_features=512, bias=True)\n",
      "        (out_proj): Linear(in_features=512, out_features=256, bias=False)\n",
      "      )\n",
      "      (mamba2): Mamba(\n",
      "        (in_proj): Linear(in_features=256, out_features=1024, bias=False)\n",
      "        (conv1d): Conv1d(512, 512, kernel_size=(4,), stride=(1,), padding=(3,), groups=512)\n",
      "        (act): SiLU()\n",
      "        (x_proj): Linear(in_features=512, out_features=48, bias=False)\n",
      "        (dt_proj): Linear(in_features=16, out_features=512, bias=True)\n",
      "        (out_proj): Linear(in_features=512, out_features=256, bias=False)\n",
      "      )\n",
      "      (conv1d): Conv3d(512, 256, kernel_size=(1, 1, 1), stride=(1, 1, 1))\n",
      "    )\n",
      "    (cc): channel_compression(\n",
      "      (skip): Sequential(\n",
      "        (0): Conv3d(512, 256, kernel_size=(1, 1, 1), stride=(1, 1, 1))\n",
      "        (1): InstanceNorm3d(256, eps=1e-05, momentum=0.1, affine=False, track_running_stats=False)\n",
      "      )\n",
      "      (block): Sequential(\n",
      "        (0): Conv3d(512, 256, kernel_size=(3, 3, 3), stride=(1, 1, 1), padding=(1, 1, 1))\n",
      "        (1): InstanceNorm3d(256, eps=1e-05, momentum=0.1, affine=False, track_running_stats=False)\n",
      "        (2): ReLU()\n",
      "        (3): Conv3d(256, 256, kernel_size=(3, 3, 3), stride=(1, 1, 1), padding=(1, 1, 1))\n",
      "        (4): InstanceNorm3d(256, eps=1e-05, momentum=0.1, affine=False, track_running_stats=False)\n",
      "      )\n",
      "    )\n",
      "    (residual_cnn): Sequential(\n",
      "      (0): ResnetBlock(\n",
      "        (conv_block): Sequential(\n",
      "          (0): ReplicationPad3d((1, 1, 1, 1, 1, 1))\n",
      "          (1): Conv3d(256, 256, kernel_size=(3, 3, 3), stride=(1, 1, 1))\n",
      "          (2): InstanceNorm3d(256, eps=1e-05, momentum=0.1, affine=False, track_running_stats=False)\n",
      "          (3): ReLU(inplace=True)\n",
      "          (4): ReplicationPad3d((1, 1, 1, 1, 1, 1))\n",
      "          (5): Conv3d(256, 256, kernel_size=(3, 3, 3), stride=(1, 1, 1))\n",
      "          (6): InstanceNorm3d(256, eps=1e-05, momentum=0.1, affine=False, track_running_stats=False)\n",
      "        )\n",
      "      )\n",
      "    )\n",
      "  )\n",
      "  (bottleneck_4): cmMambaWithCNN(\n",
      "    (mamba_layer): MambaLayer(\n",
      "      (norm): LayerNorm((256,), eps=1e-05, elementwise_affine=True)\n",
      "      (mamba1): Mamba(\n",
      "        (in_proj): Linear(in_features=256, out_features=1024, bias=False)\n",
      "        (conv1d): Conv1d(512, 512, kernel_size=(4,), stride=(1,), padding=(3,), groups=512)\n",
      "        (act): SiLU()\n",
      "        (x_proj): Linear(in_features=512, out_features=48, bias=False)\n",
      "        (dt_proj): Linear(in_features=16, out_features=512, bias=True)\n",
      "        (out_proj): Linear(in_features=512, out_features=256, bias=False)\n",
      "      )\n",
      "      (mamba2): Mamba(\n",
      "        (in_proj): Linear(in_features=256, out_features=1024, bias=False)\n",
      "        (conv1d): Conv1d(512, 512, kernel_size=(4,), stride=(1,), padding=(3,), groups=512)\n",
      "        (act): SiLU()\n",
      "        (x_proj): Linear(in_features=512, out_features=48, bias=False)\n",
      "        (dt_proj): Linear(in_features=16, out_features=512, bias=True)\n",
      "        (out_proj): Linear(in_features=512, out_features=256, bias=False)\n",
      "      )\n",
      "      (conv1d): Conv3d(512, 256, kernel_size=(1, 1, 1), stride=(1, 1, 1))\n",
      "    )\n",
      "    (cc): channel_compression(\n",
      "      (skip): Sequential(\n",
      "        (0): Conv3d(512, 256, kernel_size=(1, 1, 1), stride=(1, 1, 1))\n",
      "        (1): InstanceNorm3d(256, eps=1e-05, momentum=0.1, affine=False, track_running_stats=False)\n",
      "      )\n",
      "      (block): Sequential(\n",
      "        (0): Conv3d(512, 256, kernel_size=(3, 3, 3), stride=(1, 1, 1), padding=(1, 1, 1))\n",
      "        (1): InstanceNorm3d(256, eps=1e-05, momentum=0.1, affine=False, track_running_stats=False)\n",
      "        (2): ReLU()\n",
      "        (3): Conv3d(256, 256, kernel_size=(3, 3, 3), stride=(1, 1, 1), padding=(1, 1, 1))\n",
      "        (4): InstanceNorm3d(256, eps=1e-05, momentum=0.1, affine=False, track_running_stats=False)\n",
      "      )\n",
      "    )\n",
      "    (residual_cnn): Sequential(\n",
      "      (0): ResnetBlock(\n",
      "        (conv_block): Sequential(\n",
      "          (0): ReplicationPad3d((1, 1, 1, 1, 1, 1))\n",
      "          (1): Conv3d(256, 256, kernel_size=(3, 3, 3), stride=(1, 1, 1))\n",
      "          (2): InstanceNorm3d(256, eps=1e-05, momentum=0.1, affine=False, track_running_stats=False)\n",
      "          (3): ReLU(inplace=True)\n",
      "          (4): ReplicationPad3d((1, 1, 1, 1, 1, 1))\n",
      "          (5): Conv3d(256, 256, kernel_size=(3, 3, 3), stride=(1, 1, 1))\n",
      "          (6): InstanceNorm3d(256, eps=1e-05, momentum=0.1, affine=False, track_running_stats=False)\n",
      "        )\n",
      "      )\n",
      "    )\n",
      "  )\n",
      "  (bottleneck_5): cmMambaWithCNN(\n",
      "    (mamba_layer): MambaLayer(\n",
      "      (norm): LayerNorm((256,), eps=1e-05, elementwise_affine=True)\n",
      "      (mamba1): Mamba(\n",
      "        (in_proj): Linear(in_features=256, out_features=1024, bias=False)\n",
      "        (conv1d): Conv1d(512, 512, kernel_size=(4,), stride=(1,), padding=(3,), groups=512)\n",
      "        (act): SiLU()\n",
      "        (x_proj): Linear(in_features=512, out_features=48, bias=False)\n",
      "        (dt_proj): Linear(in_features=16, out_features=512, bias=True)\n",
      "        (out_proj): Linear(in_features=512, out_features=256, bias=False)\n",
      "      )\n",
      "      (mamba2): Mamba(\n",
      "        (in_proj): Linear(in_features=256, out_features=1024, bias=False)\n",
      "        (conv1d): Conv1d(512, 512, kernel_size=(4,), stride=(1,), padding=(3,), groups=512)\n",
      "        (act): SiLU()\n",
      "        (x_proj): Linear(in_features=512, out_features=48, bias=False)\n",
      "        (dt_proj): Linear(in_features=16, out_features=512, bias=True)\n",
      "        (out_proj): Linear(in_features=512, out_features=256, bias=False)\n",
      "      )\n",
      "      (conv1d): Conv3d(512, 256, kernel_size=(1, 1, 1), stride=(1, 1, 1))\n",
      "    )\n",
      "    (cc): channel_compression(\n",
      "      (skip): Sequential(\n",
      "        (0): Conv3d(512, 256, kernel_size=(1, 1, 1), stride=(1, 1, 1))\n",
      "        (1): InstanceNorm3d(256, eps=1e-05, momentum=0.1, affine=False, track_running_stats=False)\n",
      "      )\n",
      "      (block): Sequential(\n",
      "        (0): Conv3d(512, 256, kernel_size=(3, 3, 3), stride=(1, 1, 1), padding=(1, 1, 1))\n",
      "        (1): InstanceNorm3d(256, eps=1e-05, momentum=0.1, affine=False, track_running_stats=False)\n",
      "        (2): ReLU()\n",
      "        (3): Conv3d(256, 256, kernel_size=(3, 3, 3), stride=(1, 1, 1), padding=(1, 1, 1))\n",
      "        (4): InstanceNorm3d(256, eps=1e-05, momentum=0.1, affine=False, track_running_stats=False)\n",
      "      )\n",
      "    )\n",
      "    (residual_cnn): Sequential(\n",
      "      (0): ResnetBlock(\n",
      "        (conv_block): Sequential(\n",
      "          (0): ReplicationPad3d((1, 1, 1, 1, 1, 1))\n",
      "          (1): Conv3d(256, 256, kernel_size=(3, 3, 3), stride=(1, 1, 1))\n",
      "          (2): InstanceNorm3d(256, eps=1e-05, momentum=0.1, affine=False, track_running_stats=False)\n",
      "          (3): ReLU(inplace=True)\n",
      "          (4): ReplicationPad3d((1, 1, 1, 1, 1, 1))\n",
      "          (5): Conv3d(256, 256, kernel_size=(3, 3, 3), stride=(1, 1, 1))\n",
      "          (6): InstanceNorm3d(256, eps=1e-05, momentum=0.1, affine=False, track_running_stats=False)\n",
      "        )\n",
      "      )\n",
      "    )\n",
      "  )\n",
      "  (bottleneck_6): cmMambaWithCNN(\n",
      "    (mamba_layer): MambaLayer(\n",
      "      (norm): LayerNorm((256,), eps=1e-05, elementwise_affine=True)\n",
      "      (mamba1): Mamba(\n",
      "        (in_proj): Linear(in_features=256, out_features=1024, bias=False)\n",
      "        (conv1d): Conv1d(512, 512, kernel_size=(4,), stride=(1,), padding=(3,), groups=512)\n",
      "        (act): SiLU()\n",
      "        (x_proj): Linear(in_features=512, out_features=48, bias=False)\n",
      "        (dt_proj): Linear(in_features=16, out_features=512, bias=True)\n",
      "        (out_proj): Linear(in_features=512, out_features=256, bias=False)\n",
      "      )\n",
      "      (mamba2): Mamba(\n",
      "        (in_proj): Linear(in_features=256, out_features=1024, bias=False)\n",
      "        (conv1d): Conv1d(512, 512, kernel_size=(4,), stride=(1,), padding=(3,), groups=512)\n",
      "        (act): SiLU()\n",
      "        (x_proj): Linear(in_features=512, out_features=48, bias=False)\n",
      "        (dt_proj): Linear(in_features=16, out_features=512, bias=True)\n",
      "        (out_proj): Linear(in_features=512, out_features=256, bias=False)\n",
      "      )\n",
      "      (conv1d): Conv3d(512, 256, kernel_size=(1, 1, 1), stride=(1, 1, 1))\n",
      "    )\n",
      "    (cc): channel_compression(\n",
      "      (skip): Sequential(\n",
      "        (0): Conv3d(512, 256, kernel_size=(1, 1, 1), stride=(1, 1, 1))\n",
      "        (1): InstanceNorm3d(256, eps=1e-05, momentum=0.1, affine=False, track_running_stats=False)\n",
      "      )\n",
      "      (block): Sequential(\n",
      "        (0): Conv3d(512, 256, kernel_size=(3, 3, 3), stride=(1, 1, 1), padding=(1, 1, 1))\n",
      "        (1): InstanceNorm3d(256, eps=1e-05, momentum=0.1, affine=False, track_running_stats=False)\n",
      "        (2): ReLU()\n",
      "        (3): Conv3d(256, 256, kernel_size=(3, 3, 3), stride=(1, 1, 1), padding=(1, 1, 1))\n",
      "        (4): InstanceNorm3d(256, eps=1e-05, momentum=0.1, affine=False, track_running_stats=False)\n",
      "      )\n",
      "    )\n",
      "    (residual_cnn): Sequential(\n",
      "      (0): ResnetBlock(\n",
      "        (conv_block): Sequential(\n",
      "          (0): ReplicationPad3d((1, 1, 1, 1, 1, 1))\n",
      "          (1): Conv3d(256, 256, kernel_size=(3, 3, 3), stride=(1, 1, 1))\n",
      "          (2): InstanceNorm3d(256, eps=1e-05, momentum=0.1, affine=False, track_running_stats=False)\n",
      "          (3): ReLU(inplace=True)\n",
      "          (4): ReplicationPad3d((1, 1, 1, 1, 1, 1))\n",
      "          (5): Conv3d(256, 256, kernel_size=(3, 3, 3), stride=(1, 1, 1))\n",
      "          (6): InstanceNorm3d(256, eps=1e-05, momentum=0.1, affine=False, track_running_stats=False)\n",
      "        )\n",
      "      )\n",
      "    )\n",
      "  )\n",
      "  (bottleneck_7): cmMambaWithCNN(\n",
      "    (mamba_layer): MambaLayer(\n",
      "      (norm): LayerNorm((256,), eps=1e-05, elementwise_affine=True)\n",
      "      (mamba1): Mamba(\n",
      "        (in_proj): Linear(in_features=256, out_features=1024, bias=False)\n",
      "        (conv1d): Conv1d(512, 512, kernel_size=(4,), stride=(1,), padding=(3,), groups=512)\n",
      "        (act): SiLU()\n",
      "        (x_proj): Linear(in_features=512, out_features=48, bias=False)\n",
      "        (dt_proj): Linear(in_features=16, out_features=512, bias=True)\n",
      "        (out_proj): Linear(in_features=512, out_features=256, bias=False)\n",
      "      )\n",
      "      (mamba2): Mamba(\n",
      "        (in_proj): Linear(in_features=256, out_features=1024, bias=False)\n",
      "        (conv1d): Conv1d(512, 512, kernel_size=(4,), stride=(1,), padding=(3,), groups=512)\n",
      "        (act): SiLU()\n",
      "        (x_proj): Linear(in_features=512, out_features=48, bias=False)\n",
      "        (dt_proj): Linear(in_features=16, out_features=512, bias=True)\n",
      "        (out_proj): Linear(in_features=512, out_features=256, bias=False)\n",
      "      )\n",
      "      (conv1d): Conv3d(512, 256, kernel_size=(1, 1, 1), stride=(1, 1, 1))\n",
      "    )\n",
      "    (cc): channel_compression(\n",
      "      (skip): Sequential(\n",
      "        (0): Conv3d(512, 256, kernel_size=(1, 1, 1), stride=(1, 1, 1))\n",
      "        (1): InstanceNorm3d(256, eps=1e-05, momentum=0.1, affine=False, track_running_stats=False)\n",
      "      )\n",
      "      (block): Sequential(\n",
      "        (0): Conv3d(512, 256, kernel_size=(3, 3, 3), stride=(1, 1, 1), padding=(1, 1, 1))\n",
      "        (1): InstanceNorm3d(256, eps=1e-05, momentum=0.1, affine=False, track_running_stats=False)\n",
      "        (2): ReLU()\n",
      "        (3): Conv3d(256, 256, kernel_size=(3, 3, 3), stride=(1, 1, 1), padding=(1, 1, 1))\n",
      "        (4): InstanceNorm3d(256, eps=1e-05, momentum=0.1, affine=False, track_running_stats=False)\n",
      "      )\n",
      "    )\n",
      "    (residual_cnn): Sequential(\n",
      "      (0): ResnetBlock(\n",
      "        (conv_block): Sequential(\n",
      "          (0): ReplicationPad3d((1, 1, 1, 1, 1, 1))\n",
      "          (1): Conv3d(256, 256, kernel_size=(3, 3, 3), stride=(1, 1, 1))\n",
      "          (2): InstanceNorm3d(256, eps=1e-05, momentum=0.1, affine=False, track_running_stats=False)\n",
      "          (3): ReLU(inplace=True)\n",
      "          (4): ReplicationPad3d((1, 1, 1, 1, 1, 1))\n",
      "          (5): Conv3d(256, 256, kernel_size=(3, 3, 3), stride=(1, 1, 1))\n",
      "          (6): InstanceNorm3d(256, eps=1e-05, momentum=0.1, affine=False, track_running_stats=False)\n",
      "        )\n",
      "      )\n",
      "    )\n",
      "  )\n",
      "  (bottleneck_8): cmMambaWithCNN(\n",
      "    (mamba_layer): MambaLayer(\n",
      "      (norm): LayerNorm((256,), eps=1e-05, elementwise_affine=True)\n",
      "      (mamba1): Mamba(\n",
      "        (in_proj): Linear(in_features=256, out_features=1024, bias=False)\n",
      "        (conv1d): Conv1d(512, 512, kernel_size=(4,), stride=(1,), padding=(3,), groups=512)\n",
      "        (act): SiLU()\n",
      "        (x_proj): Linear(in_features=512, out_features=48, bias=False)\n",
      "        (dt_proj): Linear(in_features=16, out_features=512, bias=True)\n",
      "        (out_proj): Linear(in_features=512, out_features=256, bias=False)\n",
      "      )\n",
      "      (mamba2): Mamba(\n",
      "        (in_proj): Linear(in_features=256, out_features=1024, bias=False)\n",
      "        (conv1d): Conv1d(512, 512, kernel_size=(4,), stride=(1,), padding=(3,), groups=512)\n",
      "        (act): SiLU()\n",
      "        (x_proj): Linear(in_features=512, out_features=48, bias=False)\n",
      "        (dt_proj): Linear(in_features=16, out_features=512, bias=True)\n",
      "        (out_proj): Linear(in_features=512, out_features=256, bias=False)\n",
      "      )\n",
      "      (conv1d): Conv3d(512, 256, kernel_size=(1, 1, 1), stride=(1, 1, 1))\n",
      "    )\n",
      "    (cc): channel_compression(\n",
      "      (skip): Sequential(\n",
      "        (0): Conv3d(512, 256, kernel_size=(1, 1, 1), stride=(1, 1, 1))\n",
      "        (1): InstanceNorm3d(256, eps=1e-05, momentum=0.1, affine=False, track_running_stats=False)\n",
      "      )\n",
      "      (block): Sequential(\n",
      "        (0): Conv3d(512, 256, kernel_size=(3, 3, 3), stride=(1, 1, 1), padding=(1, 1, 1))\n",
      "        (1): InstanceNorm3d(256, eps=1e-05, momentum=0.1, affine=False, track_running_stats=False)\n",
      "        (2): ReLU()\n",
      "        (3): Conv3d(256, 256, kernel_size=(3, 3, 3), stride=(1, 1, 1), padding=(1, 1, 1))\n",
      "        (4): InstanceNorm3d(256, eps=1e-05, momentum=0.1, affine=False, track_running_stats=False)\n",
      "      )\n",
      "    )\n",
      "    (residual_cnn): Sequential(\n",
      "      (0): ResnetBlock(\n",
      "        (conv_block): Sequential(\n",
      "          (0): ReplicationPad3d((1, 1, 1, 1, 1, 1))\n",
      "          (1): Conv3d(256, 256, kernel_size=(3, 3, 3), stride=(1, 1, 1))\n",
      "          (2): InstanceNorm3d(256, eps=1e-05, momentum=0.1, affine=False, track_running_stats=False)\n",
      "          (3): ReLU(inplace=True)\n",
      "          (4): ReplicationPad3d((1, 1, 1, 1, 1, 1))\n",
      "          (5): Conv3d(256, 256, kernel_size=(3, 3, 3), stride=(1, 1, 1))\n",
      "          (6): InstanceNorm3d(256, eps=1e-05, momentum=0.1, affine=False, track_running_stats=False)\n",
      "        )\n",
      "      )\n",
      "    )\n",
      "  )\n",
      "  (bottleneck_9): cmMambaWithCNN(\n",
      "    (mamba_layer): MambaLayer(\n",
      "      (norm): LayerNorm((256,), eps=1e-05, elementwise_affine=True)\n",
      "      (mamba1): Mamba(\n",
      "        (in_proj): Linear(in_features=256, out_features=1024, bias=False)\n",
      "        (conv1d): Conv1d(512, 512, kernel_size=(4,), stride=(1,), padding=(3,), groups=512)\n",
      "        (act): SiLU()\n",
      "        (x_proj): Linear(in_features=512, out_features=48, bias=False)\n",
      "        (dt_proj): Linear(in_features=16, out_features=512, bias=True)\n",
      "        (out_proj): Linear(in_features=512, out_features=256, bias=False)\n",
      "      )\n",
      "      (mamba2): Mamba(\n",
      "        (in_proj): Linear(in_features=256, out_features=1024, bias=False)\n",
      "        (conv1d): Conv1d(512, 512, kernel_size=(4,), stride=(1,), padding=(3,), groups=512)\n",
      "        (act): SiLU()\n",
      "        (x_proj): Linear(in_features=512, out_features=48, bias=False)\n",
      "        (dt_proj): Linear(in_features=16, out_features=512, bias=True)\n",
      "        (out_proj): Linear(in_features=512, out_features=256, bias=False)\n",
      "      )\n",
      "      (conv1d): Conv3d(512, 256, kernel_size=(1, 1, 1), stride=(1, 1, 1))\n",
      "    )\n",
      "    (cc): channel_compression(\n",
      "      (skip): Sequential(\n",
      "        (0): Conv3d(512, 256, kernel_size=(1, 1, 1), stride=(1, 1, 1))\n",
      "        (1): InstanceNorm3d(256, eps=1e-05, momentum=0.1, affine=False, track_running_stats=False)\n",
      "      )\n",
      "      (block): Sequential(\n",
      "        (0): Conv3d(512, 256, kernel_size=(3, 3, 3), stride=(1, 1, 1), padding=(1, 1, 1))\n",
      "        (1): InstanceNorm3d(256, eps=1e-05, momentum=0.1, affine=False, track_running_stats=False)\n",
      "        (2): ReLU()\n",
      "        (3): Conv3d(256, 256, kernel_size=(3, 3, 3), stride=(1, 1, 1), padding=(1, 1, 1))\n",
      "        (4): InstanceNorm3d(256, eps=1e-05, momentum=0.1, affine=False, track_running_stats=False)\n",
      "      )\n",
      "    )\n",
      "    (residual_cnn): Sequential(\n",
      "      (0): ResnetBlock(\n",
      "        (conv_block): Sequential(\n",
      "          (0): ReplicationPad3d((1, 1, 1, 1, 1, 1))\n",
      "          (1): Conv3d(256, 256, kernel_size=(3, 3, 3), stride=(1, 1, 1))\n",
      "          (2): InstanceNorm3d(256, eps=1e-05, momentum=0.1, affine=False, track_running_stats=False)\n",
      "          (3): ReLU(inplace=True)\n",
      "          (4): ReplicationPad3d((1, 1, 1, 1, 1, 1))\n",
      "          (5): Conv3d(256, 256, kernel_size=(3, 3, 3), stride=(1, 1, 1))\n",
      "          (6): InstanceNorm3d(256, eps=1e-05, momentum=0.1, affine=False, track_running_stats=False)\n",
      "        )\n",
      "      )\n",
      "    )\n",
      "  )\n",
      "  (decoder_1): Sequential(\n",
      "    (0): ConvTranspose3d(256, 128, kernel_size=(3, 3, 3), stride=(2, 2, 2), padding=(1, 1, 1), output_padding=(1, 1, 1))\n",
      "    (1): InstanceNorm3d(128, eps=1e-05, momentum=0.1, affine=False, track_running_stats=False)\n",
      "    (2): ReLU(inplace=True)\n",
      "  )\n",
      "  (decoder_2): Sequential(\n",
      "    (0): ConvTranspose3d(128, 64, kernel_size=(3, 3, 3), stride=(2, 2, 2), padding=(1, 1, 1), output_padding=(1, 1, 1))\n",
      "    (1): InstanceNorm3d(64, eps=1e-05, momentum=0.1, affine=False, track_running_stats=False)\n",
      "    (2): ReLU(inplace=True)\n",
      "  )\n",
      "  (decoder_3): Sequential(\n",
      "    (0): ReplicationPad3d((3, 3, 3, 3, 3, 3))\n",
      "    (1): Conv3d(64, 1, kernel_size=(7, 7, 7), stride=(1, 1, 1))\n",
      "    (2): Tanh()\n",
      "  )\n",
      ")\n"
     ]
    }
   ],
   "source": [
    "print(myNet2)"
   ]
  },
  {
   "cell_type": "markdown",
   "metadata": {},
   "source": [
    "hd-bet -i /media/hdd/levibaljer/Combined_data/Fold1/test/resvit_final -o /media/hdd/levibaljer/Combined_data/Fold1/test/resvit_final_brainex"
   ]
  },
  {
   "cell_type": "markdown",
   "metadata": {},
   "source": [
    "hd-bet -i /media/hdd/levibaljer/Combined_data/Fold1/val/gambas/gambas_9block -o /media/hdd/levibaljer/Combined_data/Fold1/val/gambas/gambas_9block_brainex"
   ]
  },
  {
   "cell_type": "markdown",
   "metadata": {},
   "source": [
    "100.nii  124.nii  185.nii  239.nii  26.nii   51.nii\n",
    "101.nii  128.nii  189.nii  23.nii   275.nii  52.nii\n",
    "105.nii  133.nii  195.nii  242.nii  27.nii   67.nii\n",
    "108.nii  13.nii   19.nii   245.nii  291.nii  99.nii\n",
    "111.nii  168.nii  203.nii  262.nii  44.nii   9.nii\n",
    "11.nii   172.nii  233.nii  263.nii  49.nii"
   ]
  },
  {
   "cell_type": "markdown",
   "metadata": {},
   "source": [
    "hd-bet -i /media/hdd/levibaljer/SynthSR/files -o /media/hdd/levibaljer/SynthSR/synthsr_brainex\n",
    "\n",
    "hd-bet -i /media/hdd/levibaljer/Combined_data/Fold1/test/images -o /media/hdd/levibaljer/Combined_data/Fold1/test/images_brainex"
   ]
  },
  {
   "cell_type": "markdown",
   "metadata": {},
   "source": [
    "117.nii.gz  17.nii.gz   213.nii.gz  260.nii.gz  292.nii.gz  48.nii.gz  76.nii.gz  97.nii.gz\n",
    "121.nii.gz  181.nii.gz  217.nii.gz  266.nii.gz  296.nii.gz  4.nii.gz   77.nii.gz\n",
    "146.nii.gz  190.nii.gz  247.nii.gz  267.nii.gz  297.nii.gz  5.nii.gz   83.nii.gz\n",
    "150.nii.gz  201.nii.gz  248.nii.gz  270.nii.gz  2.nii.gz    62.nii.gz  88.nii.gz\n",
    "167.nii.gz  211.nii.gz  258.nii.gz  279.nii.gz  303.nii.gz  63.nii.gz  89.nii.gz\n",
    "176.nii.gz  212.nii.gz  259.nii.gz  287.nii.gz  47.nii.gz   70.nii.gz  94.nii.gz"
   ]
  },
  {
   "cell_type": "code",
   "execution_count": 2,
   "metadata": {},
   "outputs": [
    {
     "name": "stdout",
     "output_type": "stream",
     "text": [
      "2.4.1+cu121\n"
     ]
    }
   ],
   "source": [
    "print(torch.__version__)"
   ]
  },
  {
   "cell_type": "code",
   "execution_count": 3,
   "metadata": {},
   "outputs": [],
   "source": [
    "import torchvision"
   ]
  },
  {
   "cell_type": "code",
   "execution_count": 4,
   "metadata": {},
   "outputs": [
    {
     "name": "stdout",
     "output_type": "stream",
     "text": [
      "1.4.0\n"
     ]
    }
   ],
   "source": [
    "print(causal_conv1d.__version__)"
   ]
  },
  {
   "cell_type": "code",
   "execution_count": null,
   "metadata": {},
   "outputs": [],
   "source": [
    "netD = networks3D.define_D(1 + 1, 64, 'n_layers',\n",
    "                                            3, 'instance', True, 'normal', 0.02, [0])"
   ]
  },
  {
   "cell_type": "code",
   "execution_count": null,
   "metadata": {},
   "outputs": [],
   "source": [
    "netD.eval()"
   ]
  },
  {
   "cell_type": "code",
   "execution_count": null,
   "metadata": {},
   "outputs": [],
   "source": [
    "input = torch.rand(1, 2, 64, 64, 64)\n",
    "print(input.shape)"
   ]
  },
  {
   "cell_type": "code",
   "execution_count": null,
   "metadata": {},
   "outputs": [],
   "source": [
    "output = netD(input)"
   ]
  },
  {
   "cell_type": "code",
   "execution_count": null,
   "metadata": {},
   "outputs": [],
   "source": [
    "print(output.shape)"
   ]
  },
  {
   "cell_type": "code",
   "execution_count": null,
   "metadata": {},
   "outputs": [],
   "source": [
    "def exists(x):\n",
    "    return x is not None\n",
    "\n",
    "class Block(nn.Module):\n",
    "    def __init__(self, dim, dim_out, groups=8):\n",
    "        super().__init__()\n",
    "        self.proj = nn.Conv3d(dim, dim_out, (1, 3, 3), padding=(0, 1, 1))\n",
    "        self.norm = nn.GroupNorm(groups, dim_out)\n",
    "        self.act = nn.SiLU()\n",
    "\n",
    "    def forward(self, x, scale_shift=None):\n",
    "        x = self.proj(x)\n",
    "        x = self.norm(x)\n",
    "\n",
    "        if exists(scale_shift):\n",
    "            scale, shift = scale_shift\n",
    "            x = x * (scale + 1) + shift\n",
    "\n",
    "        return self.act(x)"
   ]
  },
  {
   "cell_type": "code",
   "execution_count": null,
   "metadata": {},
   "outputs": [],
   "source": [
    "class WBlock(nn.Module):\n",
    "    def __init__(self):\n",
    "        super(WBlock, self).__init__()\n",
    "        \n",
    "        sequence = [nn.Upsample((32, 32, 16), mode='trilinear', align_corners=False),\n",
    "                    Block(1, 32),\n",
    "                    nn.Upsample((64, 64, 32), mode='trilinear', align_corners=False),\n",
    "                    Block(32, 64),\n",
    "                    nn.Upsample((128, 128, 64), mode='trilinear', align_corners=False),\n",
    "                    Block(64, 32),\n",
    "                    nn.Conv3d(32, 1, 1),\n",
    "                    nn.Tanh()]\n",
    "\n",
    "        self.model = nn.Sequential(*sequence)\n",
    "\n",
    "    def forward(self, x):\n",
    "        return self.model(x)"
   ]
  },
  {
   "cell_type": "code",
   "execution_count": null,
   "metadata": {},
   "outputs": [],
   "source": [
    "\n",
    "def init_weights(net, init_type='normal', gain=0.02):\n",
    "    def init_func(m):\n",
    "        classname = m.__class__.__name__\n",
    "        if hasattr(m, 'weight') and (classname.find('Conv') != -1 or classname.find('Linear') != -1):\n",
    "            if init_type == 'normal':\n",
    "                init.normal_(m.weight.data, 0.0, gain)\n",
    "            elif init_type == 'xavier':\n",
    "                init.xavier_normal_(m.weight.data, gain=gain)\n",
    "            elif init_type == 'kaiming':\n",
    "                init.kaiming_normal_(m.weight.data, a=0, mode='fan_in')\n",
    "            elif init_type == 'orthogonal':\n",
    "                init.orthogonal_(m.weight.data, gain=gain)\n",
    "            else:\n",
    "                raise NotImplementedError('initialization method [%s] is not implemented' % init_type)\n",
    "            if hasattr(m, 'bias') and m.bias is not None:\n",
    "                init.constant_(m.bias.data, 0.0)\n",
    "        elif classname.find('BatchNorm3d') != -1:\n",
    "            init.normal_(m.weight.data, 1.0, gain)\n",
    "            init.constant_(m.bias.data, 0.0)\n",
    "\n",
    "    print('initialize network with %s' % init_type)\n",
    "    net.apply(init_func)"
   ]
  },
  {
   "cell_type": "code",
   "execution_count": null,
   "metadata": {},
   "outputs": [],
   "source": [
    "def init_net(net, init_type='normal', init_gain=0.02, gpu_ids=[]):\n",
    "    if len(gpu_ids) > 0:\n",
    "        assert(torch.cuda.is_available())\n",
    "        net.to(gpu_ids[0])\n",
    "        net = torch.nn.DataParallel(net, gpu_ids)\n",
    "    init_weights(net, init_type, gain=init_gain)\n",
    "    return net"
   ]
  },
  {
   "cell_type": "code",
   "execution_count": null,
   "metadata": {},
   "outputs": [],
   "source": [
    "def define_W(init_type='normal', init_gain=0.02, gpu_ids=[]):\n",
    "    return init_net(WBlock(), init_type, init_gain, gpu_ids)"
   ]
  },
  {
   "cell_type": "code",
   "execution_count": null,
   "metadata": {},
   "outputs": [],
   "source": [
    "netW = define_W('normal', 0.02, [0])"
   ]
  },
  {
   "cell_type": "code",
   "execution_count": null,
   "metadata": {},
   "outputs": [],
   "source": [
    "outW = netW(output)"
   ]
  },
  {
   "cell_type": "code",
   "execution_count": null,
   "metadata": {},
   "outputs": [],
   "source": [
    "print(outW.shape)"
   ]
  },
  {
   "cell_type": "code",
   "execution_count": null,
   "metadata": {},
   "outputs": [],
   "source": [
    "def convOutput(n, f, p, s):\n",
    "    return ((n+(2*p)-f)/s) + 1"
   ]
  },
  {
   "cell_type": "markdown",
   "metadata": {},
   "source": [
    "#### To do: set dimensions in W automatically based on patch size specifications -- first upsample = dim/(2**2), second upsample = dim/(2), third upsample = dim"
   ]
  },
  {
   "cell_type": "code",
   "execution_count": null,
   "metadata": {},
   "outputs": [],
   "source": [
    "randImage = torch.rand(1, 1, 128, 128, 64).to('cuda:0')"
   ]
  },
  {
   "cell_type": "code",
   "execution_count": null,
   "metadata": {},
   "outputs": [],
   "source": [
    "noisy_A = randImage * (1 + outW)"
   ]
  },
  {
   "cell_type": "code",
   "execution_count": null,
   "metadata": {},
   "outputs": [],
   "source": [
    "print(noisy_A.shape)"
   ]
  },
  {
   "cell_type": "markdown",
   "metadata": {},
   "source": [
    "## Dataloader"
   ]
  },
  {
   "cell_type": "code",
   "execution_count": 10,
   "metadata": {},
   "outputs": [],
   "source": [
    "from utils.NiftiDataset import *\n",
    "import utils.NiftiDataset as NiftiDataset\n",
    "from torch.utils.data import DataLoader\n",
    "min_pixel = int(0.1 * ((128 * 128 * 64) / 100))\n",
    "trainTransforms = [\n",
    "                NiftiDataset.Resample((0.45, 0.45, 0.45), False),\n",
    "                NiftiDataset.Augmentation(),\n",
    "                NiftiDataset.Padding((64, 64, 64)),\n",
    "                NiftiDataset.RandomCrop((144, 256, 256), 0, min_pixel)\n",
    "                ]\n",
    "train_set = NiftiDataSet('/media/hdd/levibaljer/ExperimentingKhula', which_direction='AtoB', transforms=trainTransforms, shuffle_labels=False, train=True, outputIndices=True)\n",
    "train_loader = DataLoader(train_set, batch_size=1, shuffle=True, num_workers=8, pin_memory=True) "
   ]
  },
  {
   "cell_type": "code",
   "execution_count": 2,
   "metadata": {},
   "outputs": [
    {
     "name": "stdout",
     "output_type": "stream",
     "text": [
      "1\n"
     ]
    }
   ],
   "source": [
    "print(len(train_set))"
   ]
  },
  {
   "cell_type": "code",
   "execution_count": 11,
   "metadata": {},
   "outputs": [],
   "source": [
    "def get_data():\n",
    "    for i, data in enumerate(train_loader):\n",
    "        print(i)\n",
    "        print(len(data))\n",
    "        break\n",
    "    return data"
   ]
  },
  {
   "cell_type": "code",
   "execution_count": 12,
   "metadata": {},
   "outputs": [
    {
     "name": "stdout",
     "output_type": "stream",
     "text": [
      "0\n",
      "3\n"
     ]
    }
   ],
   "source": [
    "import matplotlib.pyplot as plt\n",
    "data = get_data()"
   ]
  },
  {
   "cell_type": "code",
   "execution_count": 5,
   "metadata": {},
   "outputs": [
    {
     "name": "stdout",
     "output_type": "stream",
     "text": [
      "['/media/hdd/levibaljer/ExperimentingKhula/labels/0.nii.gz']\n"
     ]
    }
   ],
   "source": [
    "print(train_set.labels_list)"
   ]
  },
  {
   "cell_type": "code",
   "execution_count": 13,
   "metadata": {},
   "outputs": [
    {
     "name": "stdout",
     "output_type": "stream",
     "text": [
      "torch.Size([1, 1, 144, 256, 256])\n",
      "tensor([0])\n"
     ]
    }
   ],
   "source": [
    "print(data[0].shape)\n",
    "print(data[2])"
   ]
  },
  {
   "cell_type": "code",
   "execution_count": null,
   "metadata": {},
   "outputs": [],
   "source": [
    "myImage = data[0].to('cuda:0')"
   ]
  },
  {
   "cell_type": "code",
   "execution_count": 43,
   "metadata": {},
   "outputs": [
    {
     "data": {
      "text/plain": [
       "<matplotlib.image.AxesImage at 0x7f707c1d7e50>"
      ]
     },
     "execution_count": 43,
     "metadata": {},
     "output_type": "execute_result"
    },
    {
     "data": {
      "image/png": "[encoded data removed]",
      "text/plain": [
       "<Figure size 640x480 with 1 Axes>"
      ]
     },
     "metadata": {},
     "output_type": "display_data"
    }
   ],
   "source": [
    "plt.imshow(data[0][0, 0, 32, :, :].cpu().numpy(), cmap='gray')"
   ]
  },
  {
   "cell_type": "code",
   "execution_count": 44,
   "metadata": {},
   "outputs": [
    {
     "data": {
      "text/plain": [
       "<matplotlib.image.AxesImage at 0x7f707c15a190>"
      ]
     },
     "execution_count": 44,
     "metadata": {},
     "output_type": "execute_result"
    },
    {
     "data": {
      "image/png": "[encoded data removed]",
      "text/plain": [
       "<Figure size 640x480 with 1 Axes>"
      ]
     },
     "metadata": {},
     "output_type": "display_data"
    }
   ],
   "source": [
    "plt.imshow(data[1][0, 0, 32, :, :].cpu().numpy(), cmap='gray')"
   ]
  },
  {
   "cell_type": "markdown",
   "metadata": {},
   "source": [
    "## DDPM"
   ]
  },
  {
   "cell_type": "code",
   "execution_count": null,
   "metadata": {},
   "outputs": [],
   "source": [
    "from models import networks3D"
   ]
  },
  {
   "cell_type": "code",
   "execution_count": null,
   "metadata": {},
   "outputs": [],
   "source": [
    "netG = networks3D.define_G(1, 1, 64, 'unet_256_ddm', 'instance',\n",
    "                                      True, 'normal', 0.02, [0], \n",
    "                                      **{'dim': 64, \n",
    "                                         'dim_mults': (1,2,4,8), \n",
    "                                         'init_dim': 64, \n",
    "                                         'resnet_groups': 8})"
   ]
  },
  {
   "cell_type": "code",
   "execution_count": null,
   "metadata": {},
   "outputs": [],
   "source": [
    "print(type(netG))"
   ]
  },
  {
   "cell_type": "code",
   "execution_count": null,
   "metadata": {},
   "outputs": [],
   "source": [
    "disc_out = 0.5 + 0.001 * torch.randn((1, 1, 14, 14, 6), dtype=torch.float32)"
   ]
  },
  {
   "cell_type": "code",
   "execution_count": null,
   "metadata": {},
   "outputs": [],
   "source": [
    "print(disc_out.shape)"
   ]
  },
  {
   "cell_type": "code",
   "execution_count": null,
   "metadata": {},
   "outputs": [],
   "source": [
    "outW = netW(disc_out)"
   ]
  },
  {
   "cell_type": "code",
   "execution_count": null,
   "metadata": {},
   "outputs": [],
   "source": [
    "print(outW.shape)"
   ]
  },
  {
   "cell_type": "code",
   "execution_count": null,
   "metadata": {},
   "outputs": [],
   "source": [
    "myImage.get_device()"
   ]
  },
  {
   "cell_type": "code",
   "execution_count": null,
   "metadata": {},
   "outputs": [],
   "source": [
    "noisy_Input = data[0] * (1 + outW)"
   ]
  },
  {
   "cell_type": "markdown",
   "metadata": {},
   "source": [
    "## ResViT encoder"
   ]
  },
  {
   "cell_type": "code",
   "execution_count": 4,
   "metadata": {},
   "outputs": [],
   "source": [
    "import torch\n",
    "import torch.nn as nn\n",
    "import numpy as np\n",
    "import torch.nn.functional as F\n",
    "from scipy import ndimage\n",
    "from torch.nn import CrossEntropyLoss, Dropout, Softmax, Linear, Conv2d, LayerNorm\n",
    "import copy"
   ]
  },
  {
   "cell_type": "code",
   "execution_count": 5,
   "metadata": {},
   "outputs": [],
   "source": [
    "class Encoder(nn.Module):\n",
    "    def __init__(self, config, vis):\n",
    "    # def __init__(self, vis):\n",
    "        super(Encoder, self).__init__()\n",
    "        self.vis = vis\n",
    "        self.layer = nn.ModuleList()\n",
    "        self.encoder_norm = LayerNorm(config.hidden_size, eps=1e-6)\n",
    "        for _ in range(12):\n",
    "            layer = Block(config, vis)\n",
    "            self.layer.append(copy.deepcopy(layer))\n",
    "\n",
    "    def forward(self, hidden_states):\n",
    "        attn_weights = []\n",
    "        for layer_block in self.layer:\n",
    "            hidden_states, weights = layer_block(hidden_states)\n",
    "            if self.vis:\n",
    "                attn_weights.append(weights)\n",
    "        encoded = self.encoder_norm(hidden_states)\n",
    "        return encoded, attn_weights"
   ]
  },
  {
   "cell_type": "code",
   "execution_count": 6,
   "metadata": {},
   "outputs": [],
   "source": [
    "class ResViT(nn.Module):\n",
    "    # def __init__(self,config, input_dim, img_size=224, output_dim=3, vis=False):\n",
    "    def __init__(self, input_dim, output_dim=3, vis=False):\n",
    "        super(ResViT, self).__init__()\n",
    "        # self.transformer_encoder = Encoder(config, vis)\n",
    "        # self.config = config\n",
    "        output_nc = output_dim\n",
    "        ngf = 64\n",
    "        use_bias = False\n",
    "        # norm_layer = nn.BatchNorm2d # switch to instance or groupNorm in 3D\n",
    "        norm_layer = nn.InstanceNorm3d\n",
    "        padding_type = 'reflect'\n",
    "        mult = 4\n",
    "\n",
    "        ############################################################################################\n",
    "        # Layer1-Encoder1\n",
    "        # model = [nn.ReflectionPad2d(3),\n",
    "        #          nn.Conv2d(input_dim, ngf, kernel_size=7, padding=0,\n",
    "        #                    bias=use_bias),\n",
    "        #          norm_layer(ngf),\n",
    "        #          nn.ReLU(True)]\n",
    "        \n",
    "        model = [nn.ReflectionPad3d(3),\n",
    "                 nn.Conv3d(input_dim, ngf, kernel_size=7, padding=0,\n",
    "                           bias=use_bias),\n",
    "                 norm_layer(ngf),\n",
    "                 nn.ReLU(True)]\n",
    "\n",
    "        setattr(self, 'encoder_1', nn.Sequential(*model))\n",
    "        ############################################################################################\n",
    "        # Layer2-Encoder2\n",
    "        n_downsampling = 2\n",
    "        model = []\n",
    "        i = 0\n",
    "        mult = 2 ** i\n",
    "        # model = [nn.Conv2d(ngf * mult, ngf * mult * 2, kernel_size=3,\n",
    "        #                    stride=2, padding=1, bias=use_bias),\n",
    "        #          norm_layer(ngf * mult * 2),\n",
    "        #          nn.ReLU(True)]\n",
    "        \n",
    "        model = [nn.Conv3d(ngf * mult, ngf * mult * 2, kernel_size=3,\n",
    "                           stride=2, padding=1, bias=use_bias),\n",
    "                 norm_layer(ngf * mult * 2),\n",
    "                 nn.ReLU(True)]\n",
    "\n",
    "        setattr(self, 'encoder_2', nn.Sequential(*model))\n",
    "        ############################################################################################\n",
    "        # Layer3-Encoder3\n",
    "        model = []\n",
    "        i = 1\n",
    "        mult = 2 ** i\n",
    "        # model = [nn.Conv2d(ngf * mult, ngf * mult * 2, kernel_size=3,\n",
    "        #                    stride=2, padding=1, bias=use_bias),\n",
    "        #          norm_layer(ngf * mult * 2),\n",
    "        #          nn.ReLU(True)]\n",
    "        model = [nn.Conv3d(ngf * mult, ngf * mult * 2, kernel_size=3,\n",
    "                           stride=2, padding=1, bias=use_bias),\n",
    "                 norm_layer(ngf * mult * 2),\n",
    "                 nn.ReLU(True)]\n",
    "        setattr(self, 'encoder_3', nn.Sequential(*model))\n",
    "\n",
    "        ############################################################################################\n",
    "\n",
    "    def forward(self, x):\n",
    "        # Pass input through cnn encoder of ResViT\n",
    "        x = self.encoder_1(x)\n",
    "        x = self.encoder_2(x)\n",
    "        x = self.encoder_3(x)\n",
    "\n",
    "        return x"
   ]
  },
  {
   "cell_type": "code",
   "execution_count": 7,
   "metadata": {},
   "outputs": [],
   "source": [
    "class SingleFunc(nn.Module):\n",
    "    # def __init__(self,config, input_dim, img_size=224, output_dim=3, vis=False):\n",
    "    def __init__(self, input_dim, output_dim=3, vis=False):\n",
    "        super(SingleFunc, self).__init__()\n",
    "        # self.transformer_encoder = Encoder(config, vis)\n",
    "        # self.config = config\n",
    "        output_nc = output_dim\n",
    "        ngf = 64\n",
    "        use_bias = False\n",
    "        # norm_layer = nn.BatchNorm2d # switch to instance or groupNorm in 3D\n",
    "        norm_layer = nn.InstanceNorm3d\n",
    "        padding_type = 'reflect'\n",
    "        mult = 4\n",
    "\n",
    "        ############################################################################################\n",
    "        # Layer1-Encoder1\n",
    "        # model = [nn.ReflectionPad2d(3),\n",
    "        #          nn.Conv2d(input_dim, ngf, kernel_size=7, padding=0,\n",
    "        #                    bias=use_bias),\n",
    "        #          norm_layer(ngf),\n",
    "        #          nn.ReLU(True)]\n",
    "        \n",
    "        model = [nn.ReflectionPad3d(3)]\n",
    "\n",
    "        setattr(self, 'encoder_1', nn.Sequential(*model))\n",
    "        ############################################################################################\n",
    "        # Layer2-Encoder2\n",
    "        n_downsampling = 2\n",
    "        model = []\n",
    "        i = 0\n",
    "        mult = 2 ** i\n",
    "        # model = [nn.Conv2d(ngf * mult, ngf * mult * 2, kernel_size=3,\n",
    "        #                    stride=2, padding=1, bias=use_bias),\n",
    "        #          norm_layer(ngf * mult * 2),\n",
    "        #          nn.ReLU(True)]\n",
    "        \n",
    "        model = [nn.Conv3d(ngf * mult, ngf * mult * 2, kernel_size=3,\n",
    "                           stride=2, padding=1, bias=use_bias),\n",
    "                 norm_layer(ngf * mult * 2),\n",
    "                 nn.ReLU(True)]\n",
    "\n",
    "        setattr(self, 'encoder_2', nn.Sequential(*model))\n",
    "        ############################################################################################\n",
    "        # Layer3-Encoder3\n",
    "        model = []\n",
    "        i = 1\n",
    "        mult = 2 ** i\n",
    "        # model = [nn.Conv2d(ngf * mult, ngf * mult * 2, kernel_size=3,\n",
    "        #                    stride=2, padding=1, bias=use_bias),\n",
    "        #          norm_layer(ngf * mult * 2),\n",
    "        #          nn.ReLU(True)]\n",
    "        model = [nn.Conv3d(ngf * mult, ngf * mult * 2, kernel_size=3,\n",
    "                           stride=2, padding=1, bias=use_bias),\n",
    "                 norm_layer(ngf * mult * 2),\n",
    "                 nn.ReLU(True)]\n",
    "        setattr(self, 'encoder_3', nn.Sequential(*model))\n",
    "\n",
    "        ############################################################################################\n",
    "\n",
    "    def forward(self, x):\n",
    "        # Pass input through cnn encoder of ResViT\n",
    "        x = self.encoder_1(x)\n",
    "        # x = self.encoder_2(x)\n",
    "        # x = self.encoder_3(x)\n",
    "\n",
    "        return x"
   ]
  },
  {
   "cell_type": "code",
   "execution_count": 8,
   "metadata": {},
   "outputs": [],
   "source": [
    "encoder = ResViT(input_dim = 1, output_dim=1, vis=False)"
   ]
  },
  {
   "cell_type": "code",
   "execution_count": 13,
   "metadata": {},
   "outputs": [],
   "source": [
    "from utils.NiftiDataset import *\n",
    "import utils.NiftiDataset as NiftiDataset\n",
    "from torch.utils.data import DataLoader\n",
    "min_pixel = int(0.1 * ((128 * 128 * 64) / 100))\n",
    "trainTransforms = [\n",
    "                NiftiDataset.Resample((0.45, 0.45, 0.45), False),\n",
    "                NiftiDataset.Augmentation(),\n",
    "                NiftiDataset.Padding((64, 64, 64))\n",
    "                # NiftiDataset.RandomCrop((128, 128, 64), 0, min_pixel)\n",
    "                ]\n",
    "train_set = NiftiDataSet('/media/hdd/levibaljer/Khula_GANs/paired/flirt_train', which_direction='AtoB', transforms=trainTransforms, shuffle_labels=False, train=True, outputIndices=True)\n",
    "train_loader = DataLoader(train_set, batch_size=1, shuffle=True, num_workers=8, pin_memory=True) "
   ]
  },
  {
   "cell_type": "code",
   "execution_count": 14,
   "metadata": {},
   "outputs": [],
   "source": [
    "def get_data():\n",
    "    for i, data in enumerate(train_loader):\n",
    "        print(i)\n",
    "        print(len(data))\n",
    "        break\n",
    "    return data"
   ]
  },
  {
   "cell_type": "code",
   "execution_count": 15,
   "metadata": {},
   "outputs": [
    {
     "name": "stdout",
     "output_type": "stream",
     "text": [
      "0\n",
      "3\n"
     ]
    }
   ],
   "source": [
    "import matplotlib.pyplot as plt\n",
    "data = get_data()"
   ]
  },
  {
   "cell_type": "code",
   "execution_count": 16,
   "metadata": {},
   "outputs": [
    {
     "name": "stdout",
     "output_type": "stream",
     "text": [
      "torch.Size([1, 1, 144, 256, 256])\n",
      "torch.Size([1, 1, 144, 256, 256])\n",
      "torch.Size([1])\n"
     ]
    }
   ],
   "source": [
    "print(data[0].shape)\n",
    "print(data[1].shape)\n",
    "print(data[2].shape)"
   ]
  },
  {
   "cell_type": "code",
   "execution_count": 17,
   "metadata": {},
   "outputs": [],
   "source": [
    "trialData = torch.rand(1, 1, 32, 256, 256)"
   ]
  },
  {
   "cell_type": "code",
   "execution_count": 18,
   "metadata": {},
   "outputs": [],
   "source": [
    "output2 = encoder(trialData)"
   ]
  },
  {
   "cell_type": "code",
   "execution_count": 19,
   "metadata": {},
   "outputs": [
    {
     "name": "stdout",
     "output_type": "stream",
     "text": [
      "torch.Size([1, 256, 8, 64, 64])\n"
     ]
    }
   ],
   "source": [
    "print(output2.shape)"
   ]
  },
  {
   "cell_type": "markdown",
   "metadata": {},
   "source": [
    "#### original output = torch.Size([1, 256, 36, 64, 64])\n",
    "#### patch output    = torch.Size([1, 256, 32, 32, 16])\n",
    "----------\n",
    "#### patch 64 output = torch.Size([1, 256, 16, 64, 64])\n",
    "#### patch 32 output = torch.Size([1, 256, 8, 64, 64])"
   ]
  },
  {
   "cell_type": "code",
   "execution_count": 20,
   "metadata": {},
   "outputs": [],
   "source": [
    "single = SingleFunc(input_dim = 1, output_dim=1, vis=False)"
   ]
  },
  {
   "cell_type": "code",
   "execution_count": 21,
   "metadata": {},
   "outputs": [],
   "source": [
    "singleOutput = single(data[0])"
   ]
  },
  {
   "cell_type": "code",
   "execution_count": 22,
   "metadata": {},
   "outputs": [
    {
     "name": "stdout",
     "output_type": "stream",
     "text": [
      "torch.Size([1, 1, 150, 262, 262])\n"
     ]
    }
   ],
   "source": [
    "print(singleOutput.shape)"
   ]
  },
  {
   "cell_type": "markdown",
   "metadata": {},
   "source": [
    "## ResViT ART Block"
   ]
  },
  {
   "cell_type": "code",
   "execution_count": 23,
   "metadata": {},
   "outputs": [],
   "source": [
    "from models import transformer_configs as configs\n",
    "from models.residual_transformers import Attention, Mlp, Block, Encoder, Transformer\n",
    "from models.residual_transformers import ART_block as ART_block_orig\n",
    "import torch\n",
    "import torch.nn as nn\n",
    "import numpy as np\n",
    "import torch.nn.functional as F\n",
    "from scipy import ndimage\n",
    "from torch.nn import CrossEntropyLoss, Dropout, Softmax, Linear, Conv2d, LayerNorm\n",
    "import copy"
   ]
  },
  {
   "cell_type": "code",
   "execution_count": 24,
   "metadata": {},
   "outputs": [],
   "source": [
    "myConfig = configs.get_resvit_b16_config()"
   ]
  },
  {
   "cell_type": "code",
   "execution_count": 25,
   "metadata": {},
   "outputs": [],
   "source": [
    "\n",
    "class TimeDistributed(nn.Module):\n",
    "    def __init__(self, module):        \n",
    "        super(TimeDistributed, self).__init__()\n",
    "        self.module = module\n",
    " \n",
    "    def forward(self, x):\n",
    " \n",
    "        batch_size, channels, depth, H, W = x.size()\n",
    "        print(x.size())\n",
    "        output = torch.tensor([])\n",
    "        for i in range(depth):\n",
    "          output_t = self.module(x[:, :, i, :, :])\n",
    "          output_t  = output_t.unsqueeze(2)\n",
    "          output = torch.cat((output, output_t ), 2)\n",
    "        print(output.size())\n",
    "        return output"
   ]
  },
  {
   "cell_type": "code",
   "execution_count": 26,
   "metadata": {},
   "outputs": [],
   "source": [
    "patch_embeddings = nn.Conv2d(in_channels=1024,\n",
    "                                       out_channels=768,\n",
    "                                       kernel_size=(1,1),\n",
    "                                       stride=(1,1))"
   ]
  },
  {
   "cell_type": "code",
   "execution_count": 27,
   "metadata": {},
   "outputs": [],
   "source": [
    "depthEmbed = TimeDistributed(patch_embeddings)"
   ]
  },
  {
   "cell_type": "code",
   "execution_count": 28,
   "metadata": {},
   "outputs": [],
   "source": [
    "randInput = torch.rand(1, 1024, 2, 16, 16)"
   ]
  },
  {
   "cell_type": "code",
   "execution_count": 29,
   "metadata": {},
   "outputs": [
    {
     "name": "stdout",
     "output_type": "stream",
     "text": [
      "torch.Size([1, 1024, 2, 16, 16])\n",
      "torch.Size([1, 768, 2, 16, 16])\n"
     ]
    }
   ],
   "source": [
    "out = depthEmbed(randInput)"
   ]
  },
  {
   "cell_type": "code",
   "execution_count": 30,
   "metadata": {},
   "outputs": [],
   "source": [
    "class DepthDistributed(nn.Module):\n",
    "    def __init__(self, module):        \n",
    "        super(DepthDistributed, self).__init__()\n",
    "        self.module = module\n",
    " \n",
    "    def forward(self, x):\n",
    " \n",
    "        batch_size, channels, depth, H, W = x.size()\n",
    "        print(x.size())\n",
    "        output = torch.tensor([])\n",
    "        for i in range(depth):\n",
    "          output_t = self.module(x[:, :, i, :, :])\n",
    "          output_t  = output_t.unsqueeze(2)\n",
    "          output = torch.cat((output, output_t ), 2)\n",
    "        print(output.size())\n",
    "        return output\n",
    "\n",
    "class Embeddings(nn.Module):\n",
    "    \"\"\"Construct the embeddings from patch, position embeddings.\n",
    "    \"\"\"\n",
    "    def __init__(self, config, img_size, in_channels=3,input_dim=3, old = 1):\n",
    "        super(Embeddings, self).__init__()\n",
    "        self.config = config\n",
    "        # img_size = _pair(img_size) # alter this to no longer use _pair; in my case it is 3D, where dimensions don't match\n",
    "        img_size = img_size # in this case it will be 128, 128, 64\n",
    "        grid_size = config.patches[\"grid\"]\n",
    "        # print(grid_size)\n",
    "        patch_size = (img_size[0] // 16 // grid_size[0], img_size[1] // 16 // grid_size[1])\n",
    "        patch_size_real = (patch_size[0] * 16, patch_size[1] * 16)\n",
    "        n_patches = (img_size[0] // patch_size_real[0]) * (img_size[1] // patch_size_real[1]) * 2\n",
    "        # n_patches = 256 * 2 # This is really more of a hyperparameter\n",
    "        print(patch_size)\n",
    "        # in_channels are number of channel outputs from encoder - if patch size is specified as 128, 128, 64, this will be 4096 (after multiplying channels by slices)\n",
    "        in_channels = 1024\n",
    "        #Learnable patch embeddings\n",
    "        self.patch_embeddings = nn.Conv2d(in_channels=in_channels,\n",
    "                                       out_channels=config.hidden_size,\n",
    "                                       kernel_size=patch_size,\n",
    "                                       stride=patch_size)\n",
    "        #learnable positional encodings\n",
    "        self.positional_encoding = nn.Parameter(torch.zeros(1, n_patches, config.hidden_size))\n",
    "        print(self.positional_encoding.shape)\n",
    "        self.dropout = Dropout(config.transformer[\"dropout_rate\"])\n",
    "\n",
    "\n",
    "    def forward(self, x):\n",
    "        print(\"Embedding: \")\n",
    "        print(\"-----starting shape: \" + str(x.shape))\n",
    "        # x = x.transpose(2, 4) # Alter shape from (1, 512, 16, 16, 8) to (1, 512, 8, 16, 16)\n",
    "        # x = x.flatten(1, 2) # Flatten along depth axis, so 3D embedding is treated as 2D slices (1, 4096, 16, 16)\n",
    "        depthEmbedding = DepthDistributed(self.patch_embeddings)\n",
    "        x = depthEmbedding(x)\n",
    "        print(\"-----patched shape: \" + str(x.shape))\n",
    "        x = x.flatten(2) # Check if this dimension needs to be altered; currently changes shape from (B, C, H, W) to (B, C, H*W)\n",
    "        print(\"-----flattened shape: \" + str(x.shape))\n",
    "        x = x.transpose(-1, -2)\n",
    "        print(\"-----transposed shape: \" + str(x.shape))\n",
    "        embeddings = x + self.positional_encoding\n",
    "        embeddings = self.dropout(embeddings)\n",
    "        return embeddings"
   ]
  },
  {
   "cell_type": "code",
   "execution_count": 36,
   "metadata": {},
   "outputs": [],
   "source": [
    "class EmbeddingsOriginal(nn.Module):\n",
    "    \"\"\"Construct the embeddings from patch, position embeddings.\n",
    "    \"\"\"\n",
    "    def __init__(self, config, img_size, in_channels=3,input_dim=3,old = 1):\n",
    "        super(EmbeddingsOriginal, self).__init__()\n",
    "        self.config = config\n",
    "        img_size = img_size # alter this to no longer use _pair; in my case it is 3D, where dimensions don't match\n",
    "        grid_size = config.patches[\"grid\"]\n",
    "        patch_size = (img_size[0] // 16 // grid_size[0], img_size[1] // 16 // grid_size[1])\n",
    "        patch_size_real = (patch_size[0] * 16, patch_size[1] * 16)\n",
    "        n_patches = (img_size[0] // patch_size_real[0]) * (img_size[1] // patch_size_real[1])\n",
    "        print(n_patches)\n",
    "        in_channels = 1024\n",
    "        #Learnable patch embeddings\n",
    "        self.patch_embeddings = nn.Conv2d(in_channels=in_channels,\n",
    "                                       out_channels=config.hidden_size,\n",
    "                                       kernel_size=patch_size,\n",
    "                                       stride=patch_size)\n",
    "        #learnable positional encodings\n",
    "        self.positional_encoding = nn.Parameter(torch.zeros(1, n_patches, config.hidden_size))\n",
    "        self.dropout = Dropout(config.transformer[\"dropout_rate\"])\n",
    "\n",
    "\n",
    "    def forward(self, x):\n",
    "        print(\"original shape: \" + str(x.shape))\n",
    "        x = self.patch_embeddings(x)\n",
    "        print(\"patched shape: \" + str(x.shape))\n",
    "        x = x.flatten(2) # Check if this dimension needs to be altered; currently changes shape from (B, C, H, W) to (B, C, H*W)\n",
    "        print(\"flattened shape: \" + str(x.shape))\n",
    "        x = x.transpose(-1, -2)\n",
    "        print(\"transposed shape: \" + str(x.shape))\n",
    "        embeddings = x + self.positional_encoding\n",
    "        print(\"embeddings shape: \" + str(embeddings.shape))\n",
    "        embeddings = self.dropout(embeddings)\n",
    "        print(\"embeddings shape2: \" + str(embeddings.shape))\n",
    "        return embeddings"
   ]
  },
  {
   "cell_type": "code",
   "execution_count": 40,
   "metadata": {},
   "outputs": [
    {
     "name": "stdout",
     "output_type": "stream",
     "text": [
      "(1, 1)\n",
      "torch.Size([1, 512, 768])\n"
     ]
    }
   ],
   "source": [
    "myEmbedding = Embeddings(myConfig, (256, 256), in_channels=1, input_dim=1, old=1)"
   ]
  },
  {
   "cell_type": "code",
   "execution_count": 33,
   "metadata": {},
   "outputs": [
    {
     "name": "stdout",
     "output_type": "stream",
     "text": [
      "256\n"
     ]
    }
   ],
   "source": [
    "myEmbeddingOriginal = EmbeddingsOriginal(myConfig, (256, 256), in_channels=1, input_dim=1, old=1)"
   ]
  },
  {
   "cell_type": "code",
   "execution_count": 34,
   "metadata": {},
   "outputs": [],
   "source": [
    "randInput2d = torch.rand(1, 1024, 16, 16)"
   ]
  },
  {
   "cell_type": "code",
   "execution_count": 37,
   "metadata": {},
   "outputs": [
    {
     "name": "stdout",
     "output_type": "stream",
     "text": [
      "original shape: torch.Size([1, 1024, 16, 16])\n"
     ]
    },
    {
     "ename": "RuntimeError",
     "evalue": "expected padding to be a single integer value or a list of 2 values to match the convolution dimensions, but got padding=[0, 0, 0]",
     "output_type": "error",
     "traceback": [
      "\u001b[0;31m---------------------------------------------------------------------------\u001b[0m",
      "\u001b[0;31mRuntimeError\u001b[0m                              Traceback (most recent call last)",
      "Cell \u001b[0;32mIn[37], line 1\u001b[0m\n\u001b[0;32m----> 1\u001b[0m embeddedOrig \u001b[38;5;241m=\u001b[39m \u001b[43mmyEmbeddingOriginal\u001b[49m\u001b[43m(\u001b[49m\u001b[43mrandInput2d\u001b[49m\u001b[43m)\u001b[49m\n",
      "File \u001b[0;32m~/anaconda3/envs/unet/lib/python3.8/site-packages/torch/nn/modules/module.py:1532\u001b[0m, in \u001b[0;36mModule._wrapped_call_impl\u001b[0;34m(self, *args, **kwargs)\u001b[0m\n\u001b[1;32m   1530\u001b[0m     \u001b[38;5;28;01mreturn\u001b[39;00m \u001b[38;5;28mself\u001b[39m\u001b[38;5;241m.\u001b[39m_compiled_call_impl(\u001b[38;5;241m*\u001b[39margs, \u001b[38;5;241m*\u001b[39m\u001b[38;5;241m*\u001b[39mkwargs)  \u001b[38;5;66;03m# type: ignore[misc]\u001b[39;00m\n\u001b[1;32m   1531\u001b[0m \u001b[38;5;28;01melse\u001b[39;00m:\n\u001b[0;32m-> 1532\u001b[0m     \u001b[38;5;28;01mreturn\u001b[39;00m \u001b[38;5;28;43mself\u001b[39;49m\u001b[38;5;241;43m.\u001b[39;49m\u001b[43m_call_impl\u001b[49m\u001b[43m(\u001b[49m\u001b[38;5;241;43m*\u001b[39;49m\u001b[43margs\u001b[49m\u001b[43m,\u001b[49m\u001b[43m \u001b[49m\u001b[38;5;241;43m*\u001b[39;49m\u001b[38;5;241;43m*\u001b[39;49m\u001b[43mkwargs\u001b[49m\u001b[43m)\u001b[49m\n",
      "File \u001b[0;32m~/anaconda3/envs/unet/lib/python3.8/site-packages/torch/nn/modules/module.py:1541\u001b[0m, in \u001b[0;36mModule._call_impl\u001b[0;34m(self, *args, **kwargs)\u001b[0m\n\u001b[1;32m   1536\u001b[0m \u001b[38;5;66;03m# If we don't have any hooks, we want to skip the rest of the logic in\u001b[39;00m\n\u001b[1;32m   1537\u001b[0m \u001b[38;5;66;03m# this function, and just call forward.\u001b[39;00m\n\u001b[1;32m   1538\u001b[0m \u001b[38;5;28;01mif\u001b[39;00m \u001b[38;5;129;01mnot\u001b[39;00m (\u001b[38;5;28mself\u001b[39m\u001b[38;5;241m.\u001b[39m_backward_hooks \u001b[38;5;129;01mor\u001b[39;00m \u001b[38;5;28mself\u001b[39m\u001b[38;5;241m.\u001b[39m_backward_pre_hooks \u001b[38;5;129;01mor\u001b[39;00m \u001b[38;5;28mself\u001b[39m\u001b[38;5;241m.\u001b[39m_forward_hooks \u001b[38;5;129;01mor\u001b[39;00m \u001b[38;5;28mself\u001b[39m\u001b[38;5;241m.\u001b[39m_forward_pre_hooks\n\u001b[1;32m   1539\u001b[0m         \u001b[38;5;129;01mor\u001b[39;00m _global_backward_pre_hooks \u001b[38;5;129;01mor\u001b[39;00m _global_backward_hooks\n\u001b[1;32m   1540\u001b[0m         \u001b[38;5;129;01mor\u001b[39;00m _global_forward_hooks \u001b[38;5;129;01mor\u001b[39;00m _global_forward_pre_hooks):\n\u001b[0;32m-> 1541\u001b[0m     \u001b[38;5;28;01mreturn\u001b[39;00m \u001b[43mforward_call\u001b[49m\u001b[43m(\u001b[49m\u001b[38;5;241;43m*\u001b[39;49m\u001b[43margs\u001b[49m\u001b[43m,\u001b[49m\u001b[43m \u001b[49m\u001b[38;5;241;43m*\u001b[39;49m\u001b[38;5;241;43m*\u001b[39;49m\u001b[43mkwargs\u001b[49m\u001b[43m)\u001b[49m\n\u001b[1;32m   1543\u001b[0m \u001b[38;5;28;01mtry\u001b[39;00m:\n\u001b[1;32m   1544\u001b[0m     result \u001b[38;5;241m=\u001b[39m \u001b[38;5;28;01mNone\u001b[39;00m\n",
      "Cell \u001b[0;32mIn[31], line 26\u001b[0m, in \u001b[0;36mEmbeddingsOriginal.forward\u001b[0;34m(self, x)\u001b[0m\n\u001b[1;32m     24\u001b[0m \u001b[38;5;28;01mdef\u001b[39;00m \u001b[38;5;21mforward\u001b[39m(\u001b[38;5;28mself\u001b[39m, x):\n\u001b[1;32m     25\u001b[0m     \u001b[38;5;28mprint\u001b[39m(\u001b[38;5;124m\"\u001b[39m\u001b[38;5;124moriginal shape: \u001b[39m\u001b[38;5;124m\"\u001b[39m \u001b[38;5;241m+\u001b[39m \u001b[38;5;28mstr\u001b[39m(x\u001b[38;5;241m.\u001b[39mshape))\n\u001b[0;32m---> 26\u001b[0m     x \u001b[38;5;241m=\u001b[39m \u001b[38;5;28;43mself\u001b[39;49m\u001b[38;5;241;43m.\u001b[39;49m\u001b[43mpatch_embeddings\u001b[49m\u001b[43m(\u001b[49m\u001b[43mx\u001b[49m\u001b[43m)\u001b[49m\n\u001b[1;32m     27\u001b[0m     \u001b[38;5;28mprint\u001b[39m(\u001b[38;5;124m\"\u001b[39m\u001b[38;5;124mpatched shape: \u001b[39m\u001b[38;5;124m\"\u001b[39m \u001b[38;5;241m+\u001b[39m \u001b[38;5;28mstr\u001b[39m(x\u001b[38;5;241m.\u001b[39mshape))\n\u001b[1;32m     28\u001b[0m     x \u001b[38;5;241m=\u001b[39m x\u001b[38;5;241m.\u001b[39mflatten(\u001b[38;5;241m2\u001b[39m) \u001b[38;5;66;03m# Check if this dimension needs to be altered; currently changes shape from (B, C, H, W) to (B, C, H*W)\u001b[39;00m\n",
      "File \u001b[0;32m~/anaconda3/envs/unet/lib/python3.8/site-packages/torch/nn/modules/module.py:1532\u001b[0m, in \u001b[0;36mModule._wrapped_call_impl\u001b[0;34m(self, *args, **kwargs)\u001b[0m\n\u001b[1;32m   1530\u001b[0m     \u001b[38;5;28;01mreturn\u001b[39;00m \u001b[38;5;28mself\u001b[39m\u001b[38;5;241m.\u001b[39m_compiled_call_impl(\u001b[38;5;241m*\u001b[39margs, \u001b[38;5;241m*\u001b[39m\u001b[38;5;241m*\u001b[39mkwargs)  \u001b[38;5;66;03m# type: ignore[misc]\u001b[39;00m\n\u001b[1;32m   1531\u001b[0m \u001b[38;5;28;01melse\u001b[39;00m:\n\u001b[0;32m-> 1532\u001b[0m     \u001b[38;5;28;01mreturn\u001b[39;00m \u001b[38;5;28;43mself\u001b[39;49m\u001b[38;5;241;43m.\u001b[39;49m\u001b[43m_call_impl\u001b[49m\u001b[43m(\u001b[49m\u001b[38;5;241;43m*\u001b[39;49m\u001b[43margs\u001b[49m\u001b[43m,\u001b[49m\u001b[43m \u001b[49m\u001b[38;5;241;43m*\u001b[39;49m\u001b[38;5;241;43m*\u001b[39;49m\u001b[43mkwargs\u001b[49m\u001b[43m)\u001b[49m\n",
      "File \u001b[0;32m~/anaconda3/envs/unet/lib/python3.8/site-packages/torch/nn/modules/module.py:1541\u001b[0m, in \u001b[0;36mModule._call_impl\u001b[0;34m(self, *args, **kwargs)\u001b[0m\n\u001b[1;32m   1536\u001b[0m \u001b[38;5;66;03m# If we don't have any hooks, we want to skip the rest of the logic in\u001b[39;00m\n\u001b[1;32m   1537\u001b[0m \u001b[38;5;66;03m# this function, and just call forward.\u001b[39;00m\n\u001b[1;32m   1538\u001b[0m \u001b[38;5;28;01mif\u001b[39;00m \u001b[38;5;129;01mnot\u001b[39;00m (\u001b[38;5;28mself\u001b[39m\u001b[38;5;241m.\u001b[39m_backward_hooks \u001b[38;5;129;01mor\u001b[39;00m \u001b[38;5;28mself\u001b[39m\u001b[38;5;241m.\u001b[39m_backward_pre_hooks \u001b[38;5;129;01mor\u001b[39;00m \u001b[38;5;28mself\u001b[39m\u001b[38;5;241m.\u001b[39m_forward_hooks \u001b[38;5;129;01mor\u001b[39;00m \u001b[38;5;28mself\u001b[39m\u001b[38;5;241m.\u001b[39m_forward_pre_hooks\n\u001b[1;32m   1539\u001b[0m         \u001b[38;5;129;01mor\u001b[39;00m _global_backward_pre_hooks \u001b[38;5;129;01mor\u001b[39;00m _global_backward_hooks\n\u001b[1;32m   1540\u001b[0m         \u001b[38;5;129;01mor\u001b[39;00m _global_forward_hooks \u001b[38;5;129;01mor\u001b[39;00m _global_forward_pre_hooks):\n\u001b[0;32m-> 1541\u001b[0m     \u001b[38;5;28;01mreturn\u001b[39;00m \u001b[43mforward_call\u001b[49m\u001b[43m(\u001b[49m\u001b[38;5;241;43m*\u001b[39;49m\u001b[43margs\u001b[49m\u001b[43m,\u001b[49m\u001b[43m \u001b[49m\u001b[38;5;241;43m*\u001b[39;49m\u001b[38;5;241;43m*\u001b[39;49m\u001b[43mkwargs\u001b[49m\u001b[43m)\u001b[49m\n\u001b[1;32m   1543\u001b[0m \u001b[38;5;28;01mtry\u001b[39;00m:\n\u001b[1;32m   1544\u001b[0m     result \u001b[38;5;241m=\u001b[39m \u001b[38;5;28;01mNone\u001b[39;00m\n",
      "File \u001b[0;32m~/anaconda3/envs/unet/lib/python3.8/site-packages/torch/nn/modules/conv.py:610\u001b[0m, in \u001b[0;36mConv3d.forward\u001b[0;34m(self, input)\u001b[0m\n\u001b[1;32m    609\u001b[0m \u001b[38;5;28;01mdef\u001b[39;00m \u001b[38;5;21mforward\u001b[39m(\u001b[38;5;28mself\u001b[39m, \u001b[38;5;28minput\u001b[39m: Tensor) \u001b[38;5;241m-\u001b[39m\u001b[38;5;241m>\u001b[39m Tensor:\n\u001b[0;32m--> 610\u001b[0m     \u001b[38;5;28;01mreturn\u001b[39;00m \u001b[38;5;28;43mself\u001b[39;49m\u001b[38;5;241;43m.\u001b[39;49m\u001b[43m_conv_forward\u001b[49m\u001b[43m(\u001b[49m\u001b[38;5;28;43minput\u001b[39;49m\u001b[43m,\u001b[49m\u001b[43m \u001b[49m\u001b[38;5;28;43mself\u001b[39;49m\u001b[38;5;241;43m.\u001b[39;49m\u001b[43mweight\u001b[49m\u001b[43m,\u001b[49m\u001b[43m \u001b[49m\u001b[38;5;28;43mself\u001b[39;49m\u001b[38;5;241;43m.\u001b[39;49m\u001b[43mbias\u001b[49m\u001b[43m)\u001b[49m\n",
      "File \u001b[0;32m~/anaconda3/envs/unet/lib/python3.8/site-packages/torch/nn/modules/conv.py:605\u001b[0m, in \u001b[0;36mConv3d._conv_forward\u001b[0;34m(self, input, weight, bias)\u001b[0m\n\u001b[1;32m    593\u001b[0m \u001b[38;5;28;01mif\u001b[39;00m \u001b[38;5;28mself\u001b[39m\u001b[38;5;241m.\u001b[39mpadding_mode \u001b[38;5;241m!=\u001b[39m \u001b[38;5;124m\"\u001b[39m\u001b[38;5;124mzeros\u001b[39m\u001b[38;5;124m\"\u001b[39m:\n\u001b[1;32m    594\u001b[0m     \u001b[38;5;28;01mreturn\u001b[39;00m F\u001b[38;5;241m.\u001b[39mconv3d(\n\u001b[1;32m    595\u001b[0m         F\u001b[38;5;241m.\u001b[39mpad(\n\u001b[1;32m    596\u001b[0m             \u001b[38;5;28minput\u001b[39m, \u001b[38;5;28mself\u001b[39m\u001b[38;5;241m.\u001b[39m_reversed_padding_repeated_twice, mode\u001b[38;5;241m=\u001b[39m\u001b[38;5;28mself\u001b[39m\u001b[38;5;241m.\u001b[39mpadding_mode\n\u001b[0;32m   (...)\u001b[0m\n\u001b[1;32m    603\u001b[0m         \u001b[38;5;28mself\u001b[39m\u001b[38;5;241m.\u001b[39mgroups,\n\u001b[1;32m    604\u001b[0m     )\n\u001b[0;32m--> 605\u001b[0m \u001b[38;5;28;01mreturn\u001b[39;00m \u001b[43mF\u001b[49m\u001b[38;5;241;43m.\u001b[39;49m\u001b[43mconv3d\u001b[49m\u001b[43m(\u001b[49m\n\u001b[1;32m    606\u001b[0m \u001b[43m    \u001b[49m\u001b[38;5;28;43minput\u001b[39;49m\u001b[43m,\u001b[49m\u001b[43m \u001b[49m\u001b[43mweight\u001b[49m\u001b[43m,\u001b[49m\u001b[43m \u001b[49m\u001b[43mbias\u001b[49m\u001b[43m,\u001b[49m\u001b[43m \u001b[49m\u001b[38;5;28;43mself\u001b[39;49m\u001b[38;5;241;43m.\u001b[39;49m\u001b[43mstride\u001b[49m\u001b[43m,\u001b[49m\u001b[43m \u001b[49m\u001b[38;5;28;43mself\u001b[39;49m\u001b[38;5;241;43m.\u001b[39;49m\u001b[43mpadding\u001b[49m\u001b[43m,\u001b[49m\u001b[43m \u001b[49m\u001b[38;5;28;43mself\u001b[39;49m\u001b[38;5;241;43m.\u001b[39;49m\u001b[43mdilation\u001b[49m\u001b[43m,\u001b[49m\u001b[43m \u001b[49m\u001b[38;5;28;43mself\u001b[39;49m\u001b[38;5;241;43m.\u001b[39;49m\u001b[43mgroups\u001b[49m\n\u001b[1;32m    607\u001b[0m \u001b[43m\u001b[49m\u001b[43m)\u001b[49m\n",
      "\u001b[0;31mRuntimeError\u001b[0m: expected padding to be a single integer value or a list of 2 values to match the convolution dimensions, but got padding=[0, 0, 0]"
     ]
    }
   ],
   "source": [
    "embeddedOrig = myEmbeddingOriginal(randInput2d)"
   ]
  },
  {
   "cell_type": "code",
   "execution_count": 38,
   "metadata": {},
   "outputs": [],
   "source": [
    "randInput3d = torch.rand(1, 1024, 2, 16, 16)"
   ]
  },
  {
   "cell_type": "code",
   "execution_count": 39,
   "metadata": {},
   "outputs": [
    {
     "name": "stdout",
     "output_type": "stream",
     "text": [
      "Embedding: \n",
      "-----starting shape: torch.Size([1, 1024, 2, 16, 16])\n",
      "torch.Size([1, 1024, 2, 16, 16])\n",
      "torch.Size([1, 768, 2, 16, 16])\n",
      "-----patched shape: torch.Size([1, 768, 2, 16, 16])\n",
      "-----flattened shape: torch.Size([1, 768, 512])\n",
      "-----transposed shape: torch.Size([1, 512, 768])\n"
     ]
    }
   ],
   "source": [
    "embeddedInput = myEmbedding(randInput3d)"
   ]
  },
  {
   "cell_type": "code",
   "execution_count": 30,
   "metadata": {},
   "outputs": [
    {
     "name": "stdout",
     "output_type": "stream",
     "text": [
      "torch.Size([1, 256, 768])\n"
     ]
    }
   ],
   "source": [
    "print(embeddedInput.shape)"
   ]
  },
  {
   "cell_type": "code",
   "execution_count": 106,
   "metadata": {},
   "outputs": [],
   "source": [
    "class channel_compression(nn.Module):\n",
    "    def __init__(self, in_channels, out_channels, stride=1):\n",
    "        \"\"\"\n",
    "        Args:\n",
    "          in_channels (int):  Number of input channels.\n",
    "          out_channels (int): Number of output channels.\n",
    "          stride (int):       Controls the stride.\n",
    "        \"\"\"\n",
    "        super(channel_compression, self).__init__()\n",
    "\n",
    "        self.skip = nn.Sequential()\n",
    "\n",
    "        if stride != 1 or in_channels != out_channels:\n",
    "          self.skip = nn.Sequential(\n",
    "            nn.Conv3d(in_channels=in_channels, out_channels=out_channels, kernel_size=1, stride=stride, bias=False),\n",
    "            nn.InstanceNorm3d(out_channels))\n",
    "        else:\n",
    "          self.skip = None\n",
    "\n",
    "        self.block = nn.Sequential(\n",
    "            nn.Conv3d(in_channels=in_channels, out_channels=out_channels, kernel_size=3, padding=1, stride=1, bias=False),\n",
    "            nn.InstanceNorm3d(out_channels),\n",
    "            nn.ReLU(),\n",
    "            nn.Conv3d(in_channels=out_channels, out_channels=out_channels, kernel_size=3, padding=1, stride=1, bias=False),\n",
    "            nn.InstanceNorm3d(out_channels))\n",
    "\n",
    "    def forward(self, x):\n",
    "        out = self.block(x)\n",
    "        out += (x if self.skip is None else self.skip(x))\n",
    "        out = F.relu(out)\n",
    "        return out"
   ]
  },
  {
   "cell_type": "code",
   "execution_count": 107,
   "metadata": {},
   "outputs": [],
   "source": [
    "# Define a resnet block\n",
    "class ResnetBlock(nn.Module):\n",
    "    def __init__(self, dim, padding_type, norm_layer, use_dropout, use_bias, dim2=None):\n",
    "        super(ResnetBlock, self).__init__()\n",
    "        self.conv_block = self.build_conv_block(dim, padding_type, norm_layer, use_dropout, use_bias)\n",
    "\n",
    "    def build_conv_block(self, dim, padding_type, norm_layer, use_dropout, use_bias):\n",
    "        conv_block = []\n",
    "        p = 0\n",
    "        #use_dropout= use_dropo\n",
    "        if padding_type == 'reflect':\n",
    "            conv_block += [nn.ReflectionPad3d(1)]\n",
    "        elif padding_type == 'replicate':\n",
    "            conv_block += [nn.ReplicationPad3d(1)]\n",
    "        elif padding_type == 'zero':\n",
    "            p = 1\n",
    "        else:\n",
    "            raise NotImplementedError('padding [%s] is not implemented' % padding_type)\n",
    "        conv_block += [nn.Conv3d(dim, dim, kernel_size=3, padding=p, bias=use_bias),\n",
    "                       norm_layer(dim),\n",
    "                       nn.ReLU(True)]\n",
    "        if use_dropout:\n",
    "            conv_block += [nn.Dropout(0.5)]\n",
    "\n",
    "        p = 0\n",
    "        if padding_type == 'reflect':\n",
    "            conv_block += [nn.ReflectionPad3d(1)]\n",
    "        elif padding_type == 'replicate':\n",
    "            conv_block += [nn.ReplicationPad3d(1)]\n",
    "        elif padding_type == 'zero':\n",
    "            p = 1\n",
    "        else:\n",
    "            raise NotImplementedError('padding [%s] is not implemented' % padding_type)\n",
    "        conv_block += [nn.Conv3d(dim, dim, kernel_size=3, padding=p, bias=use_bias),\n",
    "                       norm_layer(dim)]\n",
    "\n",
    "        \n",
    "        return nn.Sequential(*conv_block)\n",
    "\n",
    "    def forward(self, x):\n",
    "        out = x + self.conv_block(x)\n",
    "        print(out.shape)\n",
    "        return out\n"
   ]
  },
  {
   "cell_type": "code",
   "execution_count": 108,
   "metadata": {},
   "outputs": [],
   "source": [
    "class ART_block(nn.Module):\n",
    "    def __init__(self,config, input_dim, img_size=224,transformer = None):\n",
    "        super(ART_block, self).__init__()\n",
    "        self.transformer = transformer\n",
    "        self.config = config\n",
    "        ngf = 64\n",
    "        mult = 4\n",
    "        use_bias = False\n",
    "        #norm_layer = nn.BatchNorm2d\n",
    "        norm_layer = nn.InstanceNorm3d\n",
    "        padding_type = 'reflect'\n",
    "        if self.transformer:\n",
    "            # Downsample\n",
    "            model = [nn.Conv3d(ngf * 4, ngf * 8, kernel_size=3,\n",
    "                               stride=2, padding=1, bias=use_bias),\n",
    "                     norm_layer(ngf * 8),\n",
    "                     nn.ReLU(True)]\n",
    "            model += [nn.Conv3d(ngf * 8, 1024, kernel_size=3,\n",
    "                                stride=2, padding=1, bias=use_bias),\n",
    "                      norm_layer(1024),\n",
    "                      nn.ReLU(True)]\n",
    "            setattr(self, 'downsample', nn.Sequential(*model))\n",
    "            #Patch embedings\n",
    "            self.embeddings = Embeddings(config, img_size=img_size, input_dim=input_dim)\n",
    "            # Upsampling block 1\n",
    "            model = [nn.ConvTranspose3d(self.config.hidden_size, ngf * 8,\n",
    "                                        kernel_size=3, stride=2,\n",
    "                                        padding=1, output_padding=1,\n",
    "                                        bias=use_bias),\n",
    "                     norm_layer(ngf * 8),\n",
    "                     nn.ReLU(True)]\n",
    "            # setattr(self, 'upsample_1', nn.Sequential(*model))\n",
    "            # Upsampling block 2\n",
    "            model += [nn.ConvTranspose3d(ngf * 8, ngf * 4,\n",
    "                                         kernel_size=3, stride=2,\n",
    "                                         padding=1, output_padding=1,\n",
    "                                         bias=use_bias),\n",
    "                      norm_layer(ngf * 4),\n",
    "                      nn.ReLU(True)]\n",
    "            setattr(self, 'upsample', nn.Sequential(*model))\n",
    "            #Channel compression\n",
    "            self.cc = channel_compression(ngf * 8, ngf * 4)\n",
    "        # Residual CNN\n",
    "        model = [ResnetBlock(ngf * mult, padding_type=padding_type, norm_layer=nn.InstanceNorm3d, use_dropout=False,\n",
    "                             use_bias=use_bias)]\n",
    "        setattr(self, 'residual_cnn', nn.Sequential(*model))\n",
    "\n",
    "    def forward(self, x):\n",
    "        if self.transformer:\n",
    "            # downsample\n",
    "            print(\"Original shape: \" + str(x.shape))\n",
    "            down_sampled = self.downsample(x)\n",
    "            print(\"Downsampled shape: \" + str(down_sampled.shape))\n",
    "            # embed\n",
    "            embedding_output = self.embeddings(down_sampled)\n",
    "            print(\"Embedded shape: \" + str(embedding_output.shape))\n",
    "            # feed to transformer\n",
    "            transformer_out, attn_weights = self.transformer(embedding_output)\n",
    "            B, n_patch, hidden = transformer_out.size()  # reshape from (B, n_patch, hidden) to (B, h, w, hidden)\n",
    "            # print(transformer_out.size())\n",
    "            h, w = int(np.sqrt(n_patch/2)), int(np.sqrt(n_patch/2))\n",
    "            transformer_out = transformer_out.permute(0, 2, 1)\n",
    "            print(transformer_out.size())\n",
    "            transformer_out = transformer_out.contiguous().view(B, hidden, 2, h, w)\n",
    "            print(\"Transformer - modified - shape: \" + str(transformer_out.shape))\n",
    "            # upsample channel dimension (inverse of embedding)\n",
    "            transformer_out = self.upsample(transformer_out)\n",
    "            print(\"Upsampled shape: \" + str(transformer_out.shape))\n",
    "            # concat transformer output and resnet output\n",
    "            x = torch.cat([transformer_out, x], dim=1)\n",
    "            print(\"Concatenated shape: \" + str(x.shape))\n",
    "            # channel compression\n",
    "            x = self.cc(x)\n",
    "            print(\"Compressed shape: \" + str(x.shape))\n",
    "        # residual CNN\n",
    "        x = self.residual_cnn(x)\n",
    "        return x"
   ]
  },
  {
   "cell_type": "code",
   "execution_count": 109,
   "metadata": {},
   "outputs": [],
   "source": [
    "encoder_output = torch.rand(1, 256, 8, 64, 64)"
   ]
  },
  {
   "cell_type": "code",
   "execution_count": 110,
   "metadata": {},
   "outputs": [
    {
     "name": "stdout",
     "output_type": "stream",
     "text": [
      "(1, 1)\n",
      "torch.Size([1, 512, 768])\n"
     ]
    }
   ],
   "source": [
    "res_art = ART_block(myConfig, 3, (256, 256), transformer=Encoder(myConfig, vis=False))"
   ]
  },
  {
   "cell_type": "code",
   "execution_count": 111,
   "metadata": {},
   "outputs": [
    {
     "name": "stdout",
     "output_type": "stream",
     "text": [
      "Original shape: torch.Size([1, 256, 8, 64, 64])\n",
      "Downsampled shape: torch.Size([1, 1024, 2, 16, 16])\n",
      "Embedding: \n",
      "-----starting shape: torch.Size([1, 1024, 2, 16, 16])\n",
      "torch.Size([1, 1024, 2, 16, 16])\n",
      "torch.Size([1, 768, 2, 16, 16])\n",
      "-----patched shape: torch.Size([1, 768, 2, 16, 16])\n",
      "-----flattened shape: torch.Size([1, 768, 512])\n",
      "-----transposed shape: torch.Size([1, 512, 768])\n",
      "Embedded shape: torch.Size([1, 512, 768])\n",
      "torch.Size([1, 768, 512])\n",
      "Transformer - modified - shape: torch.Size([1, 768, 2, 16, 16])\n",
      "Upsampled shape: torch.Size([1, 256, 8, 64, 64])\n",
      "Concatenated shape: torch.Size([1, 512, 8, 64, 64])\n",
      "Compressed shape: torch.Size([1, 256, 8, 64, 64])\n",
      "torch.Size([1, 256, 8, 64, 64])\n"
     ]
    }
   ],
   "source": [
    "art_output = res_art(encoder_output)"
   ]
  },
  {
   "cell_type": "code",
   "execution_count": 39,
   "metadata": {},
   "outputs": [
    {
     "name": "stdout",
     "output_type": "stream",
     "text": [
      "hi\n"
     ]
    }
   ],
   "source": [
    "res_art_orig = ART_block_orig(myConfig, 3, 256, transformer=Encoder(myConfig, vis=False))"
   ]
  },
  {
   "cell_type": "code",
   "execution_count": 40,
   "metadata": {},
   "outputs": [],
   "source": [
    "encoder_output_2d = torch.rand(1, 256, 64, 64)"
   ]
  },
  {
   "cell_type": "code",
   "execution_count": 41,
   "metadata": {},
   "outputs": [
    {
     "name": "stdout",
     "output_type": "stream",
     "text": [
      "torch.Size([1, 512, 64, 64])\n",
      "torch.Size([1, 256, 64, 64])\n"
     ]
    }
   ],
   "source": [
    "final_out = res_art_orig(encoder_output_2d)"
   ]
  },
  {
   "cell_type": "markdown",
   "metadata": {},
   "source": [
    "## ResViT decoder"
   ]
  },
  {
   "cell_type": "code",
   "execution_count": 42,
   "metadata": {},
   "outputs": [],
   "source": [
    "class ResViT(nn.Module):\n",
    "    def __init__(self,config, input_dim, img_size=224, output_dim=3, vis=False):\n",
    "        super(ResViT, self).__init__()\n",
    "        self.transformer_encoder = Encoder(config, vis)\n",
    "        self.config = config\n",
    "        output_nc = output_dim\n",
    "        ngf = 64\n",
    "        use_bias = False\n",
    "        # norm_layer = nn.BatchNorm2d # switch to instance or groupNorm in 3D\n",
    "        norm_layer = nn.InstanceNorm3d\n",
    "        padding_type = 'reflect'\n",
    "        mult = 4\n",
    "\n",
    "        ############################################################################################\n",
    "        # Layer1-Encoder1\n",
    "        # model = [nn.ReflectionPad2d(3),\n",
    "        #          nn.Conv2d(input_dim, ngf, kernel_size=7, padding=0,\n",
    "        #                    bias=use_bias),\n",
    "        #          norm_layer(ngf),\n",
    "        #          nn.ReLU(True)]\n",
    "        \n",
    "        model = [nn.ReflectionPad3d(3),\n",
    "                 nn.Conv3d(input_dim, ngf, kernel_size=7, padding=0,\n",
    "                           bias=use_bias),\n",
    "                 norm_layer(ngf),\n",
    "                 nn.ReLU(True)]\n",
    "\n",
    "        setattr(self, 'encoder_1', nn.Sequential(*model))\n",
    "        ############################################################################################\n",
    "        # Layer2-Encoder2\n",
    "        n_downsampling = 2\n",
    "        model = []\n",
    "        i = 0\n",
    "        mult = 2 ** i\n",
    "        # model = [nn.Conv2d(ngf * mult, ngf * mult * 2, kernel_size=3,\n",
    "        #                    stride=2, padding=1, bias=use_bias),\n",
    "        #          norm_layer(ngf * mult * 2),\n",
    "        #          nn.ReLU(True)]\n",
    "        \n",
    "        model = [nn.Conv3d(ngf * mult, ngf * mult * 2, kernel_size=3,\n",
    "                           stride=2, padding=1, bias=use_bias),\n",
    "                 norm_layer(ngf * mult * 2),\n",
    "                 nn.ReLU(True)]\n",
    "\n",
    "        setattr(self, 'encoder_2', nn.Sequential(*model))\n",
    "        ############################################################################################\n",
    "        # Layer3-Encoder3\n",
    "        model = []\n",
    "        i = 1\n",
    "        mult = 2 ** i\n",
    "        # model = [nn.Conv2d(ngf * mult, ngf * mult * 2, kernel_size=3,\n",
    "        #                    stride=2, padding=1, bias=use_bias),\n",
    "        #          norm_layer(ngf * mult * 2),\n",
    "        #          nn.ReLU(True)]\n",
    "        model = [nn.Conv3d(ngf * mult, ngf * mult * 2, kernel_size=3,\n",
    "                           stride=2, padding=1, bias=use_bias),\n",
    "                 norm_layer(ngf * mult * 2),\n",
    "                 nn.ReLU(True)]\n",
    "        setattr(self, 'encoder_3', nn.Sequential(*model))\n",
    "        ####################################ART Blocks##############################################\n",
    "        mult = 4\n",
    "        self.art_1 = ART_block(self.config, input_dim, img_size,transformer = self.transformer_encoder)\n",
    "        self.art_2 = ART_block(self.config, input_dim, img_size,transformer = None)\n",
    "        self.art_3 = ART_block(self.config, input_dim, img_size, transformer=None)\n",
    "        self.art_4 = ART_block(self.config, input_dim, img_size, transformer=None)\n",
    "        self.art_5 = ART_block(self.config, input_dim, img_size, transformer=None)\n",
    "        self.art_6 = ART_block(self.config, input_dim, img_size,transformer = self.transformer_encoder)\n",
    "        self.art_7 = ART_block(self.config, input_dim, img_size, transformer=None)\n",
    "        self.art_8 = ART_block(self.config, input_dim, img_size, transformer=None)\n",
    "        self.art_9 = ART_block(self.config, input_dim, img_size, transformer=None)\n",
    "        ############################################################################################\n",
    "        # Layer13-Decoder1\n",
    "        n_downsampling = 2\n",
    "        i = 0\n",
    "        mult = 2 ** (n_downsampling - i)\n",
    "        model = []\n",
    "        model = [nn.ConvTranspose3d(ngf * mult, int(ngf * mult / 2),\n",
    "                                    kernel_size=3, stride=2,\n",
    "                                    padding=1, output_padding=1,\n",
    "                                    bias=use_bias),\n",
    "                 norm_layer(int(ngf * mult / 2)),\n",
    "                 nn.ReLU(True)]\n",
    "        setattr(self, 'decoder_1', nn.Sequential(*model))\n",
    "        ############################################################################################\n",
    "        # Layer14-Decoder2\n",
    "        i = 1\n",
    "        mult = 2 ** (n_downsampling - i)\n",
    "        model = []\n",
    "        model = [nn.ConvTranspose3d(ngf * mult, int(ngf * mult / 2),\n",
    "                                    kernel_size=3, stride=2,\n",
    "                                    padding=1, output_padding=1,\n",
    "                                    bias=use_bias),\n",
    "                 norm_layer(int(ngf * mult / 2)),\n",
    "                 nn.ReLU(True)]\n",
    "        setattr(self, 'decoder_2', nn.Sequential(*model))\n",
    "        ############################################################################################\n",
    "        # Layer15-Decoder3\n",
    "        model = []\n",
    "        model = [nn.ReflectionPad3d(3)]\n",
    "        model += [nn.Conv3d(ngf, output_dim, kernel_size=7, padding=0)]\n",
    "        model += [nn.Tanh()]\n",
    "        setattr(self, 'decoder_3', nn.Sequential(*model))\n",
    "\n",
    "    ############################################################################################\n",
    "        \n",
    "    def forward(self, x):\n",
    "        # Pass input through cnn encoder of ResViT\n",
    "        # x = self.encoder_1(x)\n",
    "        # x = self.encoder_2(x)\n",
    "        # x = self.encoder_3(x)\n",
    "\n",
    "        # #Information Bottleneck\n",
    "        # x = self.art_1(x)\n",
    "        # x = self.art_2(x)\n",
    "        # x = self.art_3(x)\n",
    "        # x = self.art_4(x)\n",
    "        # x = self.art_5(x)\n",
    "        # x = self.art_6(x)\n",
    "        # x = self.art_7(x)\n",
    "        # x = self.art_8(x)\n",
    "        # x = self.art_9(x)\n",
    "\n",
    "        #decoder\n",
    "        x = self.decoder_1(x)\n",
    "        x = self.decoder_2(x)\n",
    "        x = self.decoder_3(x)\n",
    "        return x"
   ]
  },
  {
   "cell_type": "code",
   "execution_count": 43,
   "metadata": {},
   "outputs": [
    {
     "name": "stdout",
     "output_type": "stream",
     "text": [
      "256\n",
      "torch.Size([1, 256, 768])\n",
      "256\n",
      "torch.Size([1, 256, 768])\n"
     ]
    }
   ],
   "source": [
    "decoder = ResViT(myConfig, input_dim = 1, img_size = (128, 128), output_dim=1, vis=False)"
   ]
  },
  {
   "cell_type": "code",
   "execution_count": 44,
   "metadata": {},
   "outputs": [],
   "source": [
    "art_output = torch.rand(1, 256, 32, 32, 16)"
   ]
  },
  {
   "cell_type": "code",
   "execution_count": 45,
   "metadata": {},
   "outputs": [],
   "source": [
    "decoded = decoder(art_output)"
   ]
  },
  {
   "cell_type": "code",
   "execution_count": 46,
   "metadata": {},
   "outputs": [
    {
     "name": "stdout",
     "output_type": "stream",
     "text": [
      "torch.Size([1, 1, 128, 128, 64])\n"
     ]
    }
   ],
   "source": [
    "print(decoded.shape)"
   ]
  },
  {
   "cell_type": "markdown",
   "metadata": {},
   "source": [
    "## Redoing transformers"
   ]
  },
  {
   "cell_type": "code",
   "execution_count": 2,
   "metadata": {},
   "outputs": [],
   "source": [
    "import torch"
   ]
  },
  {
   "cell_type": "code",
   "execution_count": 1,
   "metadata": {},
   "outputs": [
    {
     "name": "stdout",
     "output_type": "stream",
     "text": [
      "ViT name:  Res-ViT-B_16\n"
     ]
    },
    {
     "name": "stderr",
     "output_type": "stream",
     "text": [
      "/home/levibaljer/anaconda3/envs/unet/lib/python3.8/site-packages/torch/nn/init.py:452: UserWarning: Initializing zero-element tensors is a no-op\n",
      "  warnings.warn(\"Initializing zero-element tensors is a no-op\")\n"
     ]
    },
    {
     "name": "stdout",
     "output_type": "stream",
     "text": [
      "/media/hdd/levibaljer/ResViT/ViT/imagenet21k_R50+ViT-B_16.npz\n",
      "load_pretrained: grid-size from 14 to 16\n",
      "load_pretrained: grid-size from 14 to 16\n",
      "initialize network with normal\n"
     ]
    }
   ],
   "source": [
    "from models import networks3D\n",
    "\n",
    "netG = networks3D.define_G(1, 1, 64, 'resvit', 'instance', \n",
    "                                        not False, 'normal', 0.02, [0],\n",
    "                                      **{'vit_name': 'Res-ViT-B_16', \n",
    "                                         'img_size': (128, 128), \n",
    "                                         'pre_trained_resnet': 0, \n",
    "                                         'pre_trained_path': None,\n",
    "                                         'pre_trained_transformer': 1\n",
    "                                         }\n",
    "                                      )"
   ]
  },
  {
   "cell_type": "code",
   "execution_count": 3,
   "metadata": {},
   "outputs": [],
   "source": [
    "randInput = torch.rand(1, 1, 64, 256, 256)"
   ]
  },
  {
   "cell_type": "markdown",
   "metadata": {},
   "source": [
    "## Hilbert Curves"
   ]
  },
  {
   "cell_type": "code",
   "execution_count": null,
   "metadata": {},
   "outputs": [],
   "source": []
  }
 ],
 "metadata": {
  "kernelspec": {
   "display_name": "unet",
   "language": "python",
   "name": "python3"
  },
  "language_info": {
   "codemirror_mode": {
    "name": "ipython",
    "version": 3
   },
   "file_extension": ".py",
   "mimetype": "text/x-python",
   "name": "python",
   "nbconvert_exporter": "python",
   "pygments_lexer": "ipython3",
   "version": "3.8.13"
  },
  "orig_nbformat": 4
 },
 "nbformat": 4,
 "nbformat_minor": 2
}
